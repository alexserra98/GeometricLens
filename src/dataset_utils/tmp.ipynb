{
 "cells": [
  {
   "cell_type": "code",
   "execution_count": 17,
   "metadata": {},
   "outputs": [],
   "source": [
    "import string"
   ]
  },
  {
   "cell_type": "code",
   "execution_count": 23,
   "metadata": {},
   "outputs": [],
   "source": [
    "file_name = 'dummy.txt'#'dummy.txt'  #if self.type_of_corruption==\"gib\" else 'dataset_utils/dummy.txt'\n",
    "with open(file_name) as f:\n",
    "    lines = f.readlines() "
   ]
  },
  {
   "cell_type": "code",
   "execution_count": 24,
   "metadata": {},
   "outputs": [
    {
     "data": {
      "text/plain": [
       "['Question: Blorptastic grimblo snazzlepop, how many flimflam do the glipglops zibber?',\n",
       " 'A. Seventeen twizzleflorps',\n",
       " 'B. Four quizzlebops and a half',\n",
       " 'C. Eleventy-twelve glabberzoots',\n",
       " 'D. Ninety-three flibber flabbles',\n",
       " 'Answer: A',\n",
       " '',\n",
       " ' \\n']"
      ]
     },
     "execution_count": 24,
     "metadata": {},
     "output_type": "execute_result"
    }
   ],
   "source": [
    "lines[0].split('\\\\n')"
   ]
  },
  {
   "cell_type": "code",
   "execution_count": 25,
   "metadata": {},
   "outputs": [],
   "source": [
    "\n",
    "gibberish_list = []\n",
    "for line in lines:\n",
    "    row_dict = {}\n",
    "    row_dict[\"question\"]= line.split('\\\\n')[0][10:]\n",
    "    row_dict[\"choices\"] = []\n",
    "    for choice in line.split('\\\\n')[1:5]:\n",
    "        row_dict[\"choices\"].append(choice[3:])\n",
    "    row_dict[\"answer\"] = string.ascii_uppercase.index(line.split('\\\\n')[5][8:])\n",
    "    gibberish_list.append(row_dict)\n",
    "    \n"
   ]
  },
  {
   "cell_type": "code",
   "execution_count": 26,
   "metadata": {},
   "outputs": [
    {
     "data": {
      "text/plain": [
       "[{'question': 'Blorptastic grimblo snazzlepop, how many flimflam do the glipglops zibber?',\n",
       "  'choices': ['Seventeen twizzleflorps',\n",
       "   'Four quizzlebops and a half',\n",
       "   'Eleventy-twelve glabberzoots',\n",
       "   'Ninety-three flibber flabbles'],\n",
       "  'answer': 0},\n",
       " {'question': \"In Snarfblatt's grand blooperoo, how many zippity zappity zoodles can a flibbleflarb wobble before it goes kablooey?\",\n",
       "  'choices': ['Skoos and two half wibble wobbles',\n",
       "   'Flops with extra zibber zabber',\n",
       "   'Plus a single doodle dabble',\n",
       "   'Eighty-eight yip yaps yapping'],\n",
       "  'answer': 1},\n",
       " {'question': 'If a flibbertigibbet dances whimsically in the moonlit parsnip garden, what does the echo of its shadow sing?',\n",
       "  'choices': ['Quintessentially perpendicular',\n",
       "   'Biscuits on Tuesday',\n",
       "   'Seven-fold origami whispers',\n",
       "   'Plaid sunsets in reverse'],\n",
       "  'answer': 2},\n",
       " {'question': 'If a glipglop glabbles twelve blorfenschnorts, how many zibblezorps will it take to schnoodle the froopledoop in the zarglebargle moonlight?',\n",
       "  'choices': ['Seven zibblezorps',\n",
       "   'Nineteen floopfloops',\n",
       "   'Thirty-three zarglebargles',\n",
       "   'Forty-two plipplop ploofs, assuming the glipglop is not grimbled'],\n",
       "  'answer': 1},\n",
       " {'question': 'In the whimsical land of Bloopity Blop, when the Snickerdoodle Snarfblats sing their Glorp Glorp tune, how many Flim Flam Flibbertigibbets does it take to dance the Whirly Twirly Wobble?',\n",
       "  'choices': ['a pinch of Fizzlefuzzle',\n",
       "   'Twaddles juggling Jibber Jabbers',\n",
       "   'Wibble Wobbles wearing wacky Wonkysocks',\n",
       "   'Noodle Noggins bouncing on Boingy Boinks'],\n",
       "  'answer': 2}]"
      ]
     },
     "execution_count": 26,
     "metadata": {},
     "output_type": "execute_result"
    }
   ],
   "source": [
    "gibberish_list"
   ]
  },
  {
   "cell_type": "code",
   "execution_count": 27,
   "metadata": {},
   "outputs": [
    {
     "data": {
      "text/plain": [
       "[{'question': 'Blorptastic grimblo snazzlepop, how many flimflam do the glipglops zibber?',\n",
       "  'choices': ['Seventeen twizzleflorps',\n",
       "   'Four quizzlebops and a half',\n",
       "   'Eleventy-twelve glabberzoots',\n",
       "   'Ninety-three flibber flabbles'],\n",
       "  'answer': 0},\n",
       " {'question': \"In Snarfblatt's grand blooperoo, how many zippity zappity zoodles can a flibbleflarb wobble before it goes kablooey?\",\n",
       "  'choices': ['Skoos and two half wibble wobbles',\n",
       "   'Flops with extra zibber zabber',\n",
       "   'Plus a single doodle dabble',\n",
       "   'Eighty-eight yip yaps yapping'],\n",
       "  'answer': 1},\n",
       " {'question': 'If a flibbertigibbet dances whimsically in the moonlit parsnip garden, what does the echo of its shadow sing?',\n",
       "  'choices': ['Quintessentially perpendicular',\n",
       "   'Biscuits on Tuesday',\n",
       "   'Seven-fold origami whispers',\n",
       "   'Plaid sunsets in reverse'],\n",
       "  'answer': 2},\n",
       " {'question': 'If a glipglop glabbles twelve blorfenschnorts, how many zibblezorps will it take to schnoodle the froopledoop in the zarglebargle moonlight?',\n",
       "  'choices': ['Seven zibblezorps',\n",
       "   'Nineteen floopfloops',\n",
       "   'Thirty-three zarglebargles',\n",
       "   'Forty-two plipplop ploofs, assuming the glipglop is not grimbled'],\n",
       "  'answer': 1},\n",
       " {'question': 'In the whimsical land of Bloopity Blop, when the Snickerdoodle Snarfblats sing their Glorp Glorp tune, how many Flim Flam Flibbertigibbets does it take to dance the Whirly Twirly Wobble?',\n",
       "  'choices': ['a pinch of Fizzlefuzzle',\n",
       "   'Twaddles juggling Jibber Jabbers',\n",
       "   'Wibble Wobbles wearing wacky Wonkysocks',\n",
       "   'Noodle Noggins bouncing on Boingy Boinks'],\n",
       "  'answer': 2}]"
      ]
     },
     "execution_count": 27,
     "metadata": {},
     "output_type": "execute_result"
    }
   ],
   "source": [
    "import pickle\n",
    "\n",
    "# Define the file path\n",
    "file_path = 'dummy_list.pkl'\n",
    "\n",
    "# Save the list as a file\n",
    "with open(file_path, 'wb') as f:\n",
    "    pickle.dump(gibberish_list, f)\n",
    "\n",
    "gibberish_list\n"
   ]
  },
  {
   "cell_type": "code",
   "execution_count": 32,
   "metadata": {},
   "outputs": [],
   "source": [
    "with open('subject.txt', 'r') as f:\n",
    "    subjects = f.readlines()"
   ]
  },
  {
   "cell_type": "code",
   "execution_count": 40,
   "metadata": {},
   "outputs": [
    {
     "data": {
      "text/plain": [
       "['abstract_algebra',\n",
       " 'anatomy',\n",
       " 'astronomy',\n",
       " 'business_ethics',\n",
       " 'clinical_knowledge',\n",
       " 'college_biology',\n",
       " 'college_chemistry',\n",
       " 'college_computer_science',\n",
       " 'college_mathematics',\n",
       " 'college_medicine',\n",
       " 'college_physics',\n",
       " 'computer_security',\n",
       " 'conceptual_physics',\n",
       " 'econometrics',\n",
       " 'electrical_engineering',\n",
       " 'elementary_mathematics',\n",
       " 'formal_logic',\n",
       " 'global_facts',\n",
       " 'high_school_biology',\n",
       " 'high_school_chemistry',\n",
       " 'high_school_computer_science',\n",
       " 'high_school_european_history',\n",
       " 'high_school_geography',\n",
       " 'high_school_government_and_politics',\n",
       " 'high_school_macroeconomics',\n",
       " 'high_school_mathematics',\n",
       " 'high_school_microeconomics',\n",
       " 'high_school_physics',\n",
       " 'high_school_psychology',\n",
       " 'high_school_statistics',\n",
       " 'high_school_us_history',\n",
       " 'high_school_world_history',\n",
       " 'human_aging',\n",
       " 'human_sexuality',\n",
       " 'international_law',\n",
       " 'jurisprudence',\n",
       " 'logical_fallacies',\n",
       " 'machine_learning',\n",
       " 'management',\n",
       " 'marketing',\n",
       " 'medical_genetics',\n",
       " 'miscellaneous',\n",
       " 'moral_disputes',\n",
       " 'moral_scenarios',\n",
       " 'nutrition',\n",
       " 'philosophy',\n",
       " 'prehistory',\n",
       " 'professional_accounting',\n",
       " 'professional_law',\n",
       " 'professional_medicine',\n",
       " 'professional_psychology',\n",
       " 'public_relations',\n",
       " 'security_studies',\n",
       " 'sociology',\n",
       " 'us_foreign_policy',\n",
       " 'virology',\n",
       " 'world_religions']"
      ]
     },
     "execution_count": 40,
     "metadata": {},
     "output_type": "execute_result"
    }
   ],
   "source": [
    "[subject.split(\",\")[0].split(\":\")[1][:-1] for subject in subjects]"
   ]
  },
  {
   "cell_type": "code",
   "execution_count": 5,
   "metadata": {},
   "outputs": [],
   "source": [
    "import numpy as np"
   ]
  },
  {
   "cell_type": "code",
   "execution_count": 8,
   "metadata": {},
   "outputs": [],
   "source": [
    "r = np.random.randint(0, 3, 100)"
   ]
  },
  {
   "cell_type": "code",
   "execution_count": 12,
   "metadata": {},
   "outputs": [
    {
     "data": {
      "text/plain": [
       "38"
      ]
     },
     "execution_count": 12,
     "metadata": {},
     "output_type": "execute_result"
    }
   ],
   "source": [
    "np.bincount(r).max()"
   ]
  },
  {
   "cell_type": "code",
   "execution_count": 12,
   "metadata": {},
   "outputs": [],
   "source": [
    "import os\n",
    "from pathlib import Path\n",
    "import argparse\n",
    "import logging\n",
    "import sys\n",
    "import pandas as pd\n",
    "sys.path.append(\"/u/dssc/zenocosini/helm_suite/MCQA_Benchmark\")\n",
    "from src.dataset_utils.scenario_adapter import ScenarioAdapter\n",
    "\n",
    "import gc"
   ]
  },
  {
   "cell_type": "code",
   "execution_count": 22,
   "metadata": {},
   "outputs": [
    {
     "name": "stderr",
     "output_type": "stream",
     "text": [
      "Constructing Prompts: 100%|██████████| 234/234 [00:00<00:00, 1833.47it/s]\n"
     ]
    },
    {
     "name": "stdout",
     "output_type": "stream",
     "text": [
      "Example of prompt: The following are multiple choice questions (with answers) about marketing.\n",
      "\n",
      "Question: ___________ act as cues by indicating to a potential customer that there is a bargain to be had.\n",
      "A. Odd-number pricing.\n",
      "B. Sale signs.\n",
      "C. Relative price.\n",
      "D. Price surplus.\n",
      "Answer: B\n",
      "\n",
      "Question: Considering what the audiences' communications needs and engaging with them using one-way, two-way, or dialogic communications is referred to as:\n",
      "A. Engagement.\n",
      "B. Responses.\n",
      "C. Advertisement.\n",
      "D. Publicity.\n",
      "Answer: A\n",
      "\n",
      "Question:  An electronic version of the spoken endorsement of an offering is known as:\n",
      "A. Viral marketing.\n",
      "B. Social media marketing.\n",
      "C. Electronic marketing.\n",
      "D. Digital marketing.\n",
      "Answer: A\n",
      "\n",
      "Question:  _____________ is influenced by perceptions of the fairness of prices set, latitude of price acceptance (customers appear willing to accept a price within a range of prices suggesting a 'price zone of tolerance'), magnitude (absolute price) and frequency of purchase, price presentation (how prices are presented might produce different levels of willingness to pay), and advertising.\n",
      "A. Brand awareness.\n",
      "B. Price perception.\n",
      "C. Willingness to pay.\n",
      "D. Price consciousness.\n",
      "Answer: C\n",
      "\n",
      "Question: Which of the following terms best fits the activity of marketing communications?\n",
      "A. Making products available.\n",
      "B. Convenience of location.\n",
      "C. High level of regulation.\n",
      "D. Developing messages that can be understood and acted on by target audiences.\n",
      "Answer: D\n",
      "\n",
      "Question: This is a hierarchy of effects or sequential model used to explain how advertising works:\n",
      "A. ADD.\n",
      "B. AIDA.\n",
      "C. PESTLE.\n",
      "D. SWOT.\n",
      "Answer:\n"
     ]
    },
    {
     "name": "stderr",
     "output_type": "stream",
     "text": [
      "Constructing Prompts: 100%|██████████| 100/100 [00:00<00:00, 1339.17it/s]\n"
     ]
    },
    {
     "name": "stdout",
     "output_type": "stream",
     "text": [
      "Example of prompt: The following are multiple choice questions (with answers) about us_foreign_policy.\n",
      "\n",
      "Question: What policies did Alexander Hamilton pursue to build the American economy?\n",
      "A. Free trade with all European countries on an equal basis and a smaller government role in the economy\n",
      "B. Establishment of a national currency and higher government spending\n",
      "C. Tariffs to protect American manufacturing, establishment of a national bank, and the repayment of all debts.\n",
      "D. Limits on immigration and imported technology to encourage higher wages\n",
      "Answer: C\n",
      "\n",
      "Question: How did relations with Russia develop under George H.W. Bush?\n",
      "A. Cautious support for Gorbachev and Yeltsin\n",
      "B. Unreserved support for Gorbachev and Yeltsin\n",
      "C. Denouncement of Gorbachev, but support for Yeltsin\n",
      "D. Denouncement of Gorbachev and Yeltsin\n",
      "Answer: A\n",
      "\n",
      "Question: What fact impinged upon America's 'neutral' stance towards the belligerent in World War I between 1915 and 1917?\n",
      "A. US banks funded the allies much more than Germany and Austria-Hungary\n",
      "B. US banks funded Germany and Austria-Hungary much more than the allies\n",
      "C. Wilson secretly favoured the German position\n",
      "D. None of the above\n",
      "Answer: A\n",
      "\n",
      "Question: Who were the original five permanent members on the UN Security Council?\n",
      "A. United States, Soviet Union, Germany, France, and Great Britain\n",
      "B. United States, Germany, France, Great Britain, and Japan\n",
      "C. United States, Great Britain, Republic of China, India, and Brazil\n",
      "D. United States, Soviet Union, France, Great Britain, and Republic of China\n",
      "Answer: D\n",
      "\n",
      "Question: According to Realists, what accounts for the onset of the Cold War?\n",
      "A. Ideological differences\n",
      "B. A power vacuum\n",
      "C. The expansionist nature of the Soviet Union\n",
      "D. Both b and c\n",
      "Answer: D\n",
      "\n",
      "Question: What is the structure of the United Nations Security Council?\n",
      "A. 5 permanent members with veto power, 10 rotating members with no veto power\n",
      "B. 5 permanent members and 10 rotating members, all with veto power\n",
      "C. 10 permanent members with veto power, and 5 rotating members without veto power\n",
      "D. 15 permanent members with veto power\n",
      "Answer:\n"
     ]
    },
    {
     "name": "stderr",
     "output_type": "stream",
     "text": [
      "Constructing Prompts: 100%|██████████| 103/103 [00:00<00:00, 1240.47it/s]\n"
     ]
    },
    {
     "name": "stdout",
     "output_type": "stream",
     "text": [
      "Example of prompt: The following are multiple choice questions (with answers) about management.\n",
      "\n",
      "Question: Simon (1960) is associated with what type of decision making model?\n",
      "A. Rational\n",
      "B. Classical\n",
      "C. Programmed\n",
      "D. Administrative\n",
      "Answer: D\n",
      "\n",
      "Question: At what level of an organisation does a corporate manager operate?\n",
      "A. Functional\n",
      "B. Operational\n",
      "C. Middle level\n",
      "D. Top level\n",
      "Answer: D\n",
      "\n",
      "Question: Which one is not a recognised key skill of management?\n",
      "A. Conceptual skills\n",
      "B. Human skills\n",
      "C. Technical skills\n",
      "D. Writing skills\n",
      "Answer: D\n",
      "\n",
      "Question: Which one of the following is not a characteristic of a bureaucratic organisation?\n",
      "A. Authority\n",
      "B. Regulations\n",
      "C. Command structure\n",
      "D. Change\n",
      "Answer: D\n",
      "\n",
      "Question: To what does authority refer?\n",
      "A. The ability to organise people\n",
      "B. The power to command and direct\n",
      "C. The need for order\n",
      "D. The right to change jobs\n",
      "Answer: B\n",
      "\n",
      "Question: What is the term for a sub-optimal but acceptable outcome of negotiations between parties?\n",
      "A. Bargaining\n",
      "B. Satisficing\n",
      "C. Accepting\n",
      "D. Compromising\n",
      "Answer:\n"
     ]
    },
    {
     "name": "stderr",
     "output_type": "stream",
     "text": [
      "Constructing Prompts: 100%|██████████| 193/193 [00:00<00:00, 1725.62it/s]\n"
     ]
    },
    {
     "name": "stdout",
     "output_type": "stream",
     "text": [
      "Example of prompt: The following are multiple choice questions (with answers) about high_school_government_and_politics.\n",
      "\n",
      "Question: Which of the following accurately describes congressional committees? I. The committee chairpersons always belong to the majority party. II. Seats on each committee are divided between the two major parties in exact proportion to the parties' representation in Congress. III. They recommend whether Congress should pass various pieces of legislation, and those recommendations are always approved by the full congressional body. IV. When a committee vote results in a tie, the vice president casts the tie-breaking vote.\n",
      "A. I only\n",
      "B. II only\n",
      "C. I and III only\n",
      "D. II and III only\n",
      "Answer: A\n",
      "\n",
      "Question: Which of the following statements about interest groups is accurate?\n",
      "A. They don't use campaign funding as a tactic to win favor with legislators.\n",
      "B. They are more successful when their members all belong to the same political party.\n",
      "C. They rarely cover issues that appeal to residents of more than one state.\n",
      "D. They generally are not focused on appealing to a broad group of people.\n",
      "Answer: D\n",
      "\n",
      "Question: The government often finds it difficult to make substantive changes to entitlement programs for which of the following reasons?\n",
      "A. Most such programs were established by constitutional amendment.\n",
      "B. These programs are extremely popular among their numerous beneficiaries.\n",
      "C. Such programs are vital to national defense.\n",
      "D. Most such programs primarily benefit the wealthy, a powerful political bloc.\n",
      "Answer: B\n",
      "\n",
      "Question: Which of the following describes an unintended result of the Federal Election Campaign Act of 1974?\n",
      "A. Limits were placed on the amount of money individuals could donate to a federal election campaign.\n",
      "B. Federal funding became available to presidential candidates who agree to abide by spending limits.\n",
      "C. Candidates drastically decreased the amount of money spent on television advertising.\n",
      "D. Thousands of political action committees were created to raise funds for candidates.\n",
      "Answer: D\n",
      "\n",
      "Question: Legislative oversight occurs when\n",
      "A. congressional committees investigate and evaluate the performance of executive agencies and departments\n",
      "B. a court is unwilling to break with precedent to overturn legislative acts\n",
      "C. the Supreme Court declares laws or executive actions unconstitutional\n",
      "D. an amendment to a bill is proposed that softens more objectionable elements of the bill\n",
      "Answer: A\n",
      "\n",
      "Question: Which of the following best describes the balance the Supreme Court has struck between the establishment clause and the free-exercise clause?\n",
      "A. Freedom of speech is protected except in certain situations, such as yelling \"fire\" in a crowded theater.\n",
      "B. Once a church has been recognized by the federal government, its tax-exempt status can never be revoked.\n",
      "C. Once Congress has created an administrative agency, that agency can be dissolved only by a constitutional amendment.\n",
      "D. State-sponsored prayer during school hours is prohibited, but voluntary prayer by student groups before school is allowed.\n",
      "Answer:\n"
     ]
    },
    {
     "name": "stderr",
     "output_type": "stream",
     "text": [
      "Constructing Prompts: 100%|██████████| 201/201 [00:00<00:00, 1728.91it/s]\n"
     ]
    },
    {
     "name": "stdout",
     "output_type": "stream",
     "text": [
      "Example of prompt: The following are multiple choice questions (with answers) about sociology.\n",
      "\n",
      "Question: Scientific management involved:\n",
      "A. the subdivision of labour into small tasks\n",
      "B. the measurement and specification of work tasks\n",
      "C. motivation and rewards for productivity\n",
      "D. all of the above\n",
      "Answer: D\n",
      "\n",
      "Question: In Patterson's study of Brixton, it was found that:\n",
      "A. black and white residents competed for economic resources\n",
      "B. African-Caribbean migrants were concentrated in the poorest and most expensive housing\n",
      "C. white working class communities resented the arrival of black families\n",
      "D. all of the above\n",
      "Answer: D\n",
      "\n",
      "Question: The 1944 Education Act provided:\n",
      "A. state elementary education for all\n",
      "B. free secondary education for all\n",
      "C. public schooling for those who could afford it\n",
      "D. assisted places in public schools for those on low incomes\n",
      "Answer: B\n",
      "\n",
      "Question: The functionalist theory of inequality suggests that:\n",
      "A. high rewards and incentives ensure that the most skilled individuals will take the most important social positions\n",
      "B. inequality is inevitable and we are born into poverty or wealth\n",
      "C. there are no social functions of inequality, so it should be eradicated\n",
      "D. the idea of a meritocracy is a dangerous ideology\n",
      "Answer: A\n",
      "\n",
      "Question: It is difficult to ascertain the true extent of domestic violence because:\n",
      "A. there is a large 'dark figure' of unreported incidents\n",
      "B. the changing definitions of legal categories have made it harder to convict offenders\n",
      "C. researchers are not allowed access to official statistics\n",
      "D. there is no valid or reliable way of researching such a sensitive topic\n",
      "Answer: A\n",
      "\n",
      "Question: Mass-society theory suggests that:\n",
      "A. the content of the media is determined by market forces\n",
      "B. the subordinate classes are dominated by the ideology of the ruling class\n",
      "C. the media manipulate 'the masses' as vulnerable, passive consumers\n",
      "D. audiences make selective interpretations of media messages\n",
      "Answer:\n"
     ]
    },
    {
     "name": "stderr",
     "output_type": "stream",
     "text": [
      "Constructing Prompts: 100%|██████████| 100/100 [00:00<00:00, 1213.26it/s]"
     ]
    },
    {
     "name": "stdout",
     "output_type": "stream",
     "text": [
      "Example of prompt: The following are multiple choice questions (with answers) about medical_genetics.\n",
      "\n",
      "Question: The allele associated with sickle cell anemia apparently reached a high frequency in some human populations due to:\n",
      "A. random mating\n",
      "B. superior fitness of heterozygotes in areas where malaria was present\n",
      "C. migration of individuals with the allele into other populations\n",
      "D. a high mutation rate at that specific gene\n",
      "Answer: B\n",
      "\n",
      "Question: RFLP analysis is a technique that\n",
      "A. uses hybridization to detect specific DNA restriction fragments in genomic DNA\n",
      "B. is used to determine whether a gene is transcribed in specific cells\n",
      "C. measures the transfer frequency of genes during conjugation\n",
      "D. is used to detect genetic variation at the protein level\n",
      "Answer: A\n",
      "\n",
      "Question: Repeat core sequences consisting of 2, 3, or 4 base pairs are known as what?\n",
      "A. Single nucleotide polymorphisms (SNPs)\n",
      "B. Microsatellites\n",
      "C. Minisatellites\n",
      "D. Satellites\n",
      "Answer: B\n",
      "\n",
      "Question: Marfan syndrome is caused by mutations in the gene which encodes _______.\n",
      "A. Collagen\n",
      "B. Dystrophin\n",
      "C. Elastin\n",
      "D. Fibrillin\n",
      "Answer: D\n",
      "\n",
      "Question: If an autosomal recessive disorder which shows Hardy-Weinberg equilibrium has an incidence of 1 in 6400 then the frequency of carriers is approximately _______.\n",
      "A. 1 in 20\n",
      "B. 1 in 40\n",
      "C. 1 in 80\n",
      "D. 1 in 160\n",
      "Answer: B\n",
      "\n",
      "Question: In a Robertsonian translocation fusion occurs at the:\n",
      "A. telomeres.\n",
      "B. centromeres.\n",
      "C. histones.\n",
      "D. ends of the long arms.\n",
      "Answer:\n"
     ]
    },
    {
     "name": "stderr",
     "output_type": "stream",
     "text": [
      "\n"
     ]
    }
   ],
   "source": [
    "subjects = [\"marketing\",                             \n",
    "            \"us_foreign_policy\",\n",
    "            \"management\",\n",
    "            \"high_school_government_and_politics\",\n",
    "            \"sociology\",\n",
    "            \"medical_genetics\"]\n",
    "dataset_folder = 'mmlu'\n",
    "\n",
    "num_of_shots = 5\n",
    "model_name = \"model\"\n",
    "rows = []\n",
    "\n",
    "for subject in subjects:\n",
    "    dataset = f\"mmlu:{subject}\"\n",
    "    scenario_builder = ScenarioAdapter(dataset_folder,dataset,num_of_shots,model_name,-1)\n",
    "    #dataset construction\n",
    "    scenario = scenario_builder.build()\n",
    "    for req_inst in scenario.requests_instances:\n",
    "        row = [req_inst.prompt, req_inst.letter_gold, req_inst.question, subject]\n",
    "        rows.append(row)\n",
    "df = pd.DataFrame(rows, columns=[\"prompt\", \"letter_gold\", \"question\", \"subject\"])\n",
    "df.to_csv(f\"mmlu_{num_of_shots}.csv\", index=False)"
   ]
  },
  {
   "cell_type": "code",
   "execution_count": 20,
   "metadata": {},
   "outputs": [
    {
     "name": "stdout",
     "output_type": "stream",
     "text": [
      "The following are multiple choice questions (with answers) about marketing.\n",
      "\n",
      "Question: Why is market segmentation carried out?\n",
      "A. To break down large markets into smaller markets.\n",
      "B. To provide an opportunity to surpass competitors.\n",
      "C. By grouping together customers with similar needs, it provides a commercially viable method of serving these customers.\n",
      "D. To allow the achievement of greater market share.\n",
      "Answer:\n"
     ]
    }
   ],
   "source": [
    "print(df[\"prompt\"][10])"
   ]
  },
  {
   "cell_type": "code",
   "execution_count": 11,
   "metadata": {},
   "outputs": [
    {
     "data": {
      "text/plain": [
       "'Question: This is a hierarchy of effects or sequential model used to explain how advertising works:\\nA. ADD.\\nB. AIDA.\\nC. PESTLE.\\nD. SWOT.\\nAnswer:'"
      ]
     },
     "execution_count": 11,
     "metadata": {},
     "output_type": "execute_result"
    }
   ],
   "source": [
    "scenario.requests_instances[0].question"
   ]
  }
 ],
 "metadata": {
  "kernelspec": {
   "display_name": "crfm-helm",
   "language": "python",
   "name": "python3"
  },
  "language_info": {
   "codemirror_mode": {
    "name": "ipython",
    "version": 3
   },
   "file_extension": ".py",
   "mimetype": "text/x-python",
   "name": "python",
   "nbconvert_exporter": "python",
   "pygments_lexer": "ipython3",
   "version": "3.11.7"
  }
 },
 "nbformat": 4,
 "nbformat_minor": 2
}
