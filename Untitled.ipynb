{
 "cells": [
  {
   "cell_type": "code",
   "execution_count": null,
   "id": "da64362d-4941-4583-a1f0-e3c47587434a",
   "metadata": {},
   "outputs": [],
   "source": [
    "from dadapy.data import Data\n",
    "import numpy as np\n",
    "from dataclasses import dataclass\n",
    "from typing import List, Dict, Tuple, Optional, Iterable, Set, Type\n",
    "from einops import reduce\n",
    "from sklearn.neighbors import NearestNeighbors\n",
    "from metrics.utils import compute_id, hidden_states_collapse, Match, Layer, label_neig_overlap, class_imbalance\n",
    "import tqdm\n",
    "import pandas as pd\n",
    "from collections import namedtuple\n",
    "\n",
    "from dataclasses import asdict\n",
    "from dadapy.data import Data\n",
    "from dadapy.metric_comparisons import MetricComparisons\n",
    "from warnings import warn\n",
    "\n",
    "from inference_id.metrics.metrics import *\n",
    "import os\n",
    "import pickle\n",
    "import logging\n",
    "from tqdm import tqdm\n",
    "from pathlib import Path\n",
    "import sys\n",
    "import argparse\n"
   ]
  },
  {
   "cell_type": "code",
   "execution_count": null,
   "id": "47ef6d28-12b2-4ed7-965b-72da66e74287",
   "metadata": {},
   "outputs": [],
   "source": [
    "working_path = \"/orfeo/LTS/LADE/LT_storage/zenocosini\" \n",
    "results_path = os.path.join(working_path, dataset_folder)"
   ]
  }
 ],
 "metadata": {
  "kernelspec": {
   "display_name": "Python 3 (ipykernel)",
   "language": "python",
   "name": "python3"
  },
  "language_info": {
   "codemirror_mode": {
    "name": "ipython",
    "version": 3
   },
   "file_extension": ".py",
   "mimetype": "text/x-python",
   "name": "python",
   "nbconvert_exporter": "python",
   "pygments_lexer": "ipython3",
   "version": "3.10.13"
  }
 },
 "nbformat": 4,
 "nbformat_minor": 5
}
