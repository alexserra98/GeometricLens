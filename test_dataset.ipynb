{
 "cells": [
  {
   "cell_type": "code",
   "execution_count": 57,
   "metadata": {},
   "outputs": [],
   "source": [
    "import os\n",
    "from pathlib import Path\n",
    "import pickle\n",
    "from dataclasses import dataclass, field\n",
    "from typing import Any, Dict, List\n",
    "from datasets import load_dataset\n",
    "from tqdm import tqdm\n",
    "import random"
   ]
  },
  {
   "cell_type": "code",
   "execution_count": 22,
   "metadata": {},
   "outputs": [],
   "source": [
    "with open(\"/home/alexserra98/helm-suite/inference_id/datasets_overlap_short/mmlu:subject=biology,method=multiple_choice_joint,model=meta-llama_Llama-2-7b-hf,max_train_instances=4/request_states.pkl\", \"rb\") as f:\n",
    "    request_states = pickle.load(f)"
   ]
  },
  {
   "cell_type": "code",
   "execution_count": 46,
   "metadata": {},
   "outputs": [
    {
     "name": "stdout",
     "output_type": "stream",
     "text": [
      "The following are multiple choice questions (with answers) about biology.\n",
      "\n",
      "Question: According to the pressure-flow model of movement of phloem contents, photosynthate movement from source to sink is driven by\n",
      "A. an ATP-dependent pressure-flow pump\n",
      "B. a water-pressure potential gradient\n",
      "C. transpiration\n",
      "D. apoplastic diffusion\n",
      "Answer: B\n",
      "\n",
      "Question: Homologous structures are often cited as evidence for the process of natural selection. All of the following are examples of homologous structures EXCEPT\n",
      "A. the wings of a bird and the wings of a bat\n",
      "B. the flippers of a whale and the arms of a man\n",
      "C. the pectoral fins of a porpoise and the flippers of a seal\n",
      "D. the forelegs of an insect and the forelimbs of a dog\n",
      "Answer: D\n",
      "\n",
      "Question: A mutation in a bacterial enzyme changed a previously polar amino acid into a nonpolar amino acid. This amino acid was located at a site distant from the enzyme’s active site. How might this mutation alter the enzyme’s substrate specificity?\n",
      "A. By changing the enzyme’s pH optimum\n",
      "B. By changing the enzyme’s location in the cell\n",
      "C. By changing the shape of the protein\n",
      "D. An amino acid change away from the active site cannot alter the enzyme’s substrate specificity.\n",
      "Answer: C\n",
      "\n",
      "Question: Which of the following represents an accurate statement concerning arthropods?\n",
      "A. They possess an exoskeleton composed primarily of peptidoglycan.\n",
      "B. They possess an open circulatory system with a dorsal heart.\n",
      "C. They are members of a biologically unsuccessful phylum incapable of exploiting diverse habitats and nutrition sources.\n",
      "D. They lack paired, jointed appendages.\n",
      "Answer: B\n",
      "\n",
      "Question: Which of the following would increase the rate at which a gas diffuses between the alveoli of the lung and the blood within a pulmonary capillary?\n",
      "A. Decreasing the partial pressure gradient of the gas\n",
      "B. Decreasing the solubility of the gas in water\n",
      "C. Increasing the total surface area available for diffusion\n",
      "D. Decreasing the rate of blood flow through the pulmonary capillary\n",
      "Answer:\n"
     ]
    }
   ],
   "source": [
    "print(request_states[0].request.prompt)\n"
   ]
  },
  {
   "cell_type": "code",
   "execution_count": 28,
   "metadata": {},
   "outputs": [
    {
     "name": "stderr",
     "output_type": "stream",
     "text": [
      "Found cached dataset mmlu (/home/alexserra98/.cache/huggingface/datasets/cais___mmlu/all/1.0.0/49beb454d1ef6d7994f43183dc194713f39dd672b4f5a92c08b0b394991910c7)\n",
      "100%|██████████| 4/4 [00:00<00:00, 1117.88it/s]\n"
     ]
    }
   ],
   "source": [
    "d = \"cais/mmlu:all\".split(\":\")\n",
    "dataset = load_dataset(*d)"
   ]
  },
  {
   "cell_type": "code",
   "execution_count": null,
   "metadata": {},
   "outputs": [],
   "source": [
    "class RequestInstance():\n",
    "    prompt: str\n",
    "    letter_gold: str\n",
    "    token_gold: int = None\n",
    "    \n",
    "labels = {'A':1, 'B':2, 'C':3, 'D':4, 'E':5}"
   ]
  },
  {
   "cell_type": "code",
   "execution_count": 35,
   "metadata": {},
   "outputs": [
    {
     "data": {
      "text/plain": [
       "{'question': 'Which of the following best describes the balance the Supreme Court has struck between the establishment clause and the free-exercise clause?',\n",
       " 'subject': 'high_school_government_and_politics',\n",
       " 'choices': ['Freedom of speech is protected except in certain situations, such as yelling \"fire\" in a crowded theater.',\n",
       "  'Once a church has been recognized by the federal government, its tax-exempt status can never be revoked.',\n",
       "  'Once Congress has created an administrative agency, that agency can be dissolved only by a constitutional amendment.',\n",
       "  'State-sponsored prayer during school hours is prohibited, but voluntary prayer by student groups before school is allowed.'],\n",
       " 'answer': 3}"
      ]
     },
     "execution_count": 35,
     "metadata": {},
     "output_type": "execute_result"
    }
   ],
   "source": [
    "dataset[\"test\"][0]"
   ]
  },
  {
   "cell_type": "code",
   "execution_count": 49,
   "metadata": {},
   "outputs": [
    {
     "name": "stderr",
     "output_type": "stream",
     "text": [
      "Constructing Prompts: 100%|██████████| 14042/14042 [00:00<00:00, 19868.01it/s]"
     ]
    },
    {
     "name": "stdout",
     "output_type": "stream",
     "text": [
      "The following are multiple choice questions (with answers) about high_school_government_and_politics.\n",
      "\n",
      "Question: Which of the following best describes the balance the Supreme Court has struck between the establishment clause and the free-exercise clause?\n",
      "A. Freedom of speech is protected except in certain situations, such as yelling \"fire\" in a crowded theater.\n",
      "B. Once a church has been recognized by the federal government, its tax-exempt status can never be revoked.\n",
      "C. Once Congress has created an administrative agency, that agency can be dissolved only by a constitutional amendment.\n",
      "D. State-sponsored prayer during school hours is prohibited, but voluntary prayer by student groups before school is allowed.\n",
      "Answer: \n",
      "\n",
      "\n"
     ]
    },
    {
     "name": "stderr",
     "output_type": "stream",
     "text": [
      "\n"
     ]
    }
   ],
   "source": [
    "prompts = []\n",
    "for row in tqdm(dataset[\"test\"], desc=\"Constructing Prompts\"):\n",
    "    prompt = f'The following are multiple choice questions (with answers) about {row[\"subject\"]}.\\n\\n'\n",
    "    prompt += f'Question: {row[\"question\"]}\\n'\n",
    "    mapping = ['A','B','C','D','E']\n",
    "    for n, choice in enumerate(row[\"choices\"]):\n",
    "        prompt += f'{mapping[n]}. {choice}\\n'\n",
    "    prompt += f'Answer: \\n\\n'\n",
    "    prompts.append(prompt)\n",
    "print(prompts[0])"
   ]
  },
  {
   "cell_type": "code",
   "execution_count": 60,
   "metadata": {},
   "outputs": [],
   "source": [
    "random.seed(42)"
   ]
  },
  {
   "cell_type": "code",
   "execution_count": 65,
   "metadata": {},
   "outputs": [],
   "source": [
    "@dataclass\n",
    "class RequestInstance():\n",
    "    prompt: str\n",
    "    letter_gold: str\n",
    "    token_gold: int = None"
   ]
  },
  {
   "cell_type": "code",
   "execution_count": 61,
   "metadata": {},
   "outputs": [],
   "source": [
    "def construct_question(row,shot=False):\n",
    "    prompt = f'Question: {row[\"question\"]}\\n'\n",
    "    for n, choice in enumerate(row[\"choices\"]):\n",
    "        prompt += f'{mapping[n]}. {choice}\\n'\n",
    "    prompt += f'Answer: {mapping[row[\"answer\"]]}\\n\\n' if shot else  f'Answer:' \n",
    "    return prompt "
   ]
  },
  {
   "cell_type": "code",
   "execution_count": 69,
   "metadata": {},
   "outputs": [
    {
     "name": "stderr",
     "output_type": "stream",
     "text": [
      "Constructing Prompts: 100%|██████████| 14042/14042 [00:03<00:00, 3933.01it/s]"
     ]
    },
    {
     "name": "stdout",
     "output_type": "stream",
     "text": [
      "RequestInstance(prompt='The following are multiple choice questions (with answers) about high_school_government_and_politics.\\n\\nQuestion: His name was Fleming, and he was a poor Scottish farmer. One day, while trying to eke  out a living for his family, he heard a cry for help coming from a nearby bog  . He dropped his tools and ran to the bog. There, mired to his waist in black muck  was a terrified boy, screaming and struggling to free himself. Farmer Fleming saved the lad from what could have been a slow and terrifying death. The next day, a fancy carriage pulled up to the Scotsman\\'s sparse  surroundings. An elegantly dressed nobleman stepped out and introduced himself as the father of the boy Farmer Fleming had saved. \"I want to repay you,\" said the nobleman. \"You saved my son\\'s life.\" \"No, \" the Scottish farmer replied, waving off the offer. At that moment, the farmer\\'s own son came to the door of the family hovel . \"Is that your son?\" the nobleman asked. \"Yes,\" the farmer replied proudly. \"I\\'ll make you a deal. Let me take him and give him a good education. If the lad is anything like his father, he\\'ll grow to a man you can be proud of.\" And that he did. In time, Farmer Fleming\\'s son graduated from St. Mary\\'s Hospital Medical School in London, and went on to become known throughout the world as the noted Sir Alexander Fleming, the discoverer of Penicillin. Years afterward, the nobleman\\'s son was stricken with pneumonia . What saved him? Penicillin. The name of the nobleman? Lord Randolph Churchill. His son\\'s name? Sir Winston Churchill. What kind of person could the farmer Fleming probably be?\\nA. Kind, brave and generous.\\nB. Kind, shy and merciful.\\nC. Kind, innocent and passive.\\nD. Kind, brave and honest.\\nAnswer: D\\n\\nQuestion: As a funny student, Brian loved watching comedies   best and hoped to become a comedy actor one day. When he heard about the talent show   to be held at this school, Brian decided to take part in it. He had never acted in public before, and he was very excited. But some students laughed at him. \"You are not funny but silly,\" Ken, one of his classmates, said to his face. \"No one will like what you do,\" another boy also said to him, loudly. Brian couldn\\'t understand why they were so unkind to him. For a moment, he thought about giving up the show. But he remembered how much his friends liked his jokes, and also his teachers said he was very funny. So he decided to prepare for the show. Brian did a great job at the talent show. Everyone loved his performance  , and he won the first prize! His teachers and friends were proud of him. Even so, Ken told Brian that he was not funny, and that he would never be successful. Brian didn\\'t understand why Ken said so, but he realized that it had nothing to do with him. He confidently continued to work towards his dream. As the years went on, Brian met more people like Ken. \"You\\'ll do a terrible job,\" they said to him. Luckily, most people encouraged him and some helped him to become even funnier. He got a lot of chances to perform in movies. He was even invited to appear on television. His fans thanked him because his comedies made them feel good when they were unhappy. Now Brian is a big comedy star! He is doing what he loves best. He never feels worried like those unkind people, and he laughs all day long! Brian\\'s fans thanked him because his comedies brought them  _  .\\nA. success\\nB. pleasure\\nC. luck\\nD. pride\\nAnswer: B\\n\\nQuestion: People used to say, \"The hand that rocks   the cradle   rules the world.\" and \"Behind every successful man there is a woman.\" Both these sayings mean the same thing. Men rule the world, but their mothers and wives rule them. Most American women wish to make their husbands and sons successful, but some of them want more for themselves. They want good jobs. When they work they want to be better paid. They want to be as successful as men. The American women\\'s liberation movement was started by women who didn\\'t want to stand behind successful men. They wanted to stand beside men, with the same chance for success. They refused to work side by side with men who do the same work for a higher pay. A liberated woman must be proud of being a woman and have confidence in herself. If somebody says to her, \"You have come a long way, baby.\" she will smile and answer, \"Not nearly as far as I\\'m going to go, baby!\" This movement is quite new, and many American women don\\'t agree yet. But it has already made some important changes in women\\'s lives--- in men\\'s lives, too. Behind every successful man there is a woman: means  _  .\\nA. men are always successful but not women\\nB. women are not willing to stand in front of men\\nC. women do play an important part in men\\'s lives and work\\nD. women can be as successful as men\\nAnswer: C\\n\\nQuestion: Which of the following best describes the balance the Supreme Court has struck between the establishment clause and the free-exercise clause?\\nA. Freedom of speech is protected except in certain situations, such as yelling \"fire\" in a crowded theater.\\nB. Once a church has been recognized by the federal government, its tax-exempt status can never be revoked.\\nC. Once Congress has created an administrative agency, that agency can be dissolved only by a constitutional amendment.\\nD. State-sponsored prayer during school hours is prohibited, but voluntary prayer by student groups before school is allowed.\\nAnswer:', letter_gold='D', token_gold=None)\n"
     ]
    },
    {
     "name": "stderr",
     "output_type": "stream",
     "text": [
      "\n"
     ]
    }
   ],
   "source": [
    "ri = []\n",
    "num_instances = 3\n",
    "\n",
    "mapping = ['A','B','C','D','E']\n",
    "for row in tqdm(dataset[\"test\"], desc=\"Constructing Prompts\"):\n",
    "    prompt = f'The following are multiple choice questions (with answers) about {row[\"subject\"]}.\\n\\n'\n",
    "    for i in range(num_instances):\n",
    "        random_row = random.choice(dataset[\"auxiliary_train\"])\n",
    "        prompt += construct_question(random_row,shot=True)\n",
    "    prompt += construct_question(row)\n",
    "    ri.append(RequestInstance(prompt,mapping[row[\"answer\"]]))\n",
    "    \n",
    "print(ri[0])"
   ]
  },
  {
   "cell_type": "code",
   "execution_count": 70,
   "metadata": {},
   "outputs": [
    {
     "data": {
      "text/plain": [
       "'D'"
      ]
     },
     "execution_count": 70,
     "metadata": {},
     "output_type": "execute_result"
    }
   ],
   "source": [
    "ri[0].letter_gold"
   ]
  }
 ],
 "metadata": {
  "kernelspec": {
   "display_name": "crfm-helm",
   "language": "python",
   "name": "python3"
  },
  "language_info": {
   "codemirror_mode": {
    "name": "ipython",
    "version": 3
   },
   "file_extension": ".py",
   "mimetype": "text/x-python",
   "name": "python",
   "nbconvert_exporter": "python",
   "pygments_lexer": "ipython3",
   "version": "3.10.13"
  }
 },
 "nbformat": 4,
 "nbformat_minor": 2
}
