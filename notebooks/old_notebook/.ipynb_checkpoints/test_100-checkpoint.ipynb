{
 "cells": [
  {
   "cell_type": "code",
   "execution_count": 1,
   "id": "9e706f9d-e894-4794-9540-c7d69ce982ff",
   "metadata": {},
   "outputs": [],
   "source": [
    "import sys\n",
    "sys.path.append(\"/u/dssc/zenocosini/helm_suite/MCQA_Benchmark\")\n",
    "from metrics.utils_copy import *\n",
    "from metrics.query import DataFrameQuery\n",
    "from common.utils import *\n",
    "\n",
    "#from sklearn.feature_selection import mutual_info_regression MISSIN?\n",
    "from dadapy.data import Data\n",
    "\n",
    "import numpy as np\n",
    "import pandas as pd\n",
    "import matplotlib.pyplot as plt\n",
    "\n",
    "from pathlib import Path\n",
    "from collections import Counter\n",
    "#!export OMP_NUM_THREADS=1"
   ]
  },
  {
   "cell_type": "code",
   "execution_count": 2,
   "id": "a9bbeeb3-24bd-4e00-b946-7a9e7b6b5c81",
   "metadata": {},
   "outputs": [],
   "source": [
    "dict_query = {\"method\":\"last\",\n",
    "              \"model_name\":  \"meta-llama/Llama-3-8b-hf\",\n",
    "              \"train_instances\": 0}                               \n",
    "tsm = TensorStorageManager()\n",
    "query = DataFrameQuery(dict_query)\n",
    "hidden_states,logits, hidden_states_stat = tsm.retrieve_tensor(query, \"npy\")"
   ]
  },
  {
   "cell_type": "code",
   "execution_count": 3,
   "id": "2fcd2918-97e2-4bd8-aae3-73ec76708959",
   "metadata": {},
   "outputs": [],
   "source": [
    "mask = np.load(\"/orfeo/scratch/dssc/zenocosini/mmlu_result/test_mask_100.npy\")"
   ]
  },
  {
   "cell_type": "code",
   "execution_count": 55,
   "id": "6409cb7d-7fb2-44b3-8d41-e7d8f852c0cd",
   "metadata": {},
   "outputs": [],
   "source": [
    "hidden_states_crop = hidden_states_stat.iloc[mask[:5698]]"
   ]
  },
  {
   "cell_type": "code",
   "execution_count": 57,
   "id": "6a655ca1-d5e4-456d-a0eb-1d63d1747af9",
   "metadata": {},
   "outputs": [
    {
     "data": {
      "text/plain": [
       "dataset\n",
       "abstract_algebra                       100\n",
       "anatomy                                100\n",
       "astronomy                              100\n",
       "business_ethics                        100\n",
       "clinical_knowledge                     100\n",
       "college_biology                        100\n",
       "college_chemistry                      100\n",
       "college_computer_science               100\n",
       "college_mathematics                    100\n",
       "college_medicine                       100\n",
       "college_physics                        100\n",
       "computer_security                      100\n",
       "conceptual_physics                     100\n",
       "econometrics                           100\n",
       "electrical_engineering                 100\n",
       "elementary_mathematics                 100\n",
       "formal_logic                           100\n",
       "global_facts                           100\n",
       "high_school_biology                    100\n",
       "high_school_chemistry                  100\n",
       "high_school_computer_science           100\n",
       "high_school_european_history           100\n",
       "high_school_geography                  100\n",
       "high_school_government_and_politics    100\n",
       "high_school_macroeconomics             100\n",
       "high_school_mathematics                100\n",
       "high_school_microeconomics             100\n",
       "high_school_physics                    100\n",
       "high_school_psychology                 100\n",
       "high_school_statistics                 100\n",
       "high_school_us_history                 100\n",
       "high_school_world_history              100\n",
       "human_aging                            100\n",
       "human_sexuality                        100\n",
       "international_law                      100\n",
       "jurisprudence                          100\n",
       "logical_fallacies                      100\n",
       "machine_learning                       100\n",
       "management                             100\n",
       "marketing                              100\n",
       "medical_genetics                       100\n",
       "miscellaneous                          100\n",
       "moral_disputes                         100\n",
       "moral_scenarios                        100\n",
       "nutrition                              100\n",
       "philosophy                             100\n",
       "prehistory                             100\n",
       "professional_accounting                100\n",
       "professional_law                       100\n",
       "professional_medicine                  100\n",
       "professional_psychology                100\n",
       "public_relations                       100\n",
       "security_studies                       100\n",
       "sociology                              100\n",
       "us_foreign_policy                      100\n",
       "virology                               100\n",
       "world_religions                         98\n",
       "Name: count, dtype: int64"
      ]
     },
     "execution_count": 57,
     "metadata": {},
     "output_type": "execute_result"
    }
   ],
   "source": [
    "hidden_states_crop[\"dataset\"].value_counts()"
   ]
  },
  {
   "cell_type": "code",
   "execution_count": 50,
   "id": "6c3db787-c25c-4823-aa39-a459f4e1959b",
   "metadata": {},
   "outputs": [
    {
     "data": {
      "text/plain": [
       "array([    0,     1,     2, ..., 13157, 13158, 13159])"
      ]
     },
     "execution_count": 50,
     "metadata": {},
     "output_type": "execute_result"
    }
   ],
   "source": [
    "mask[:5201]"
   ]
  },
  {
   "cell_type": "code",
   "execution_count": 39,
   "id": "6dd1aa2a-17e2-4723-9392-ed098e9516a7",
   "metadata": {},
   "outputs": [
    {
     "data": {
      "text/plain": [
       "RangeIndex(start=0, stop=14039, step=1)"
      ]
     },
     "execution_count": 39,
     "metadata": {},
     "output_type": "execute_result"
    }
   ],
   "source": [
    "hidden_states_stat.index"
   ]
  }
 ],
 "metadata": {
  "kernelspec": {
   "display_name": "Python 3 (ipykernel)",
   "language": "python",
   "name": "python3"
  },
  "language_info": {
   "codemirror_mode": {
    "name": "ipython",
    "version": 3
   },
   "file_extension": ".py",
   "mimetype": "text/x-python",
   "name": "python",
   "nbconvert_exporter": "python",
   "pygments_lexer": "ipython3",
   "version": "3.11.7"
  }
 },
 "nbformat": 4,
 "nbformat_minor": 5
}
