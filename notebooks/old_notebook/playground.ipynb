{
 "cells": [
  {
   "cell_type": "code",
   "execution_count": 1,
   "metadata": {},
   "outputs": [
    {
     "name": "stderr",
     "output_type": "stream",
     "text": [
      "/home/alexserra98/miniconda3/envs/crfm-helm/lib/python3.10/site-packages/tqdm/auto.py:22: TqdmWarning: IProgress not found. Please update jupyter and ipywidgets. See https://ipywidgets.readthedocs.io/en/stable/user_install.html\n",
      "  from .autonotebook import tqdm as notebook_tqdm\n"
     ]
    }
   ],
   "source": [
    "import os\n",
    "from pathlib import Path\n",
    "import pickle\n",
    "from dataclasses import dataclass, field\n",
    "from typing import Any, Dict, List\n",
    "from datasets import load_dataset\n",
    "from tqdm import tqdm\n",
    "import random\n",
    "from common.metadata_db import MetadataDB\n",
    "from common.tensor_storage import TensorStorage\n",
    "import numpy as p\n",
    "import pandas as pd\n"
   ]
  },
  {
   "cell_type": "code",
   "execution_count": 10,
   "metadata": {},
   "outputs": [
    {
     "data": {
      "text/plain": [
       "datasets.features.features.Features"
      ]
     },
     "execution_count": 10,
     "metadata": {},
     "output_type": "execute_result"
    }
   ],
   "source": [
    "Features"
   ]
  },
  {
   "cell_type": "code",
   "execution_count": 9,
   "metadata": {},
   "outputs": [
    {
     "data": {
      "text/plain": [
       "'C'"
      ]
     },
     "execution_count": 9,
     "metadata": {},
     "output_type": "execute_result"
    }
   ],
   "source": [
    "import random\n",
    "s = {\"A\",\"B\",\"C\",\"D\"}-{\"B\"}\n",
    "sample = random.choice(list(s))\n",
    "sample\n"
   ]
  },
  {
   "cell_type": "code",
   "execution_count": 3,
   "metadata": {},
   "outputs": [
    {
     "name": "stderr",
     "output_type": "stream",
     "text": [
      "Downloading readme: 100%|██████████| 7.39k/7.39k [00:00<00:00, 5.14MB/s]\n",
      "Downloading data: 100%|██████████| 1.25M/1.25M [00:00<00:00, 2.11MB/s]\n",
      "Downloading data: 100%|██████████| 160k/160k [00:00<00:00, 682kB/s]\n",
      "Downloading data: 100%|██████████| 151k/151k [00:00<00:00, 822kB/s]\n",
      "Generating train split: 100%|██████████| 9741/9741 [00:00<00:00, 284586.88 examples/s]\n",
      "Generating validation split: 100%|██████████| 1221/1221 [00:00<00:00, 117298.33 examples/s]\n",
      "Generating test split: 100%|██████████| 1140/1140 [00:00<00:00, 105171.27 examples/s]\n"
     ]
    }
   ],
   "source": [
    "from datasets import load_dataset\n",
    "from datasets import load_dataset,Features,Value,Sequence,Array2D,Array3D,Array4D,Array5D\n",
    "context_feat = Features({'id':  Value(dtype='string', id=None),\n",
    " 'question':  Value(dtype='string', id=None),\n",
    " 'question_concept':  Value(dtype='string', id=None),\n",
    " 'choices': Sequence(feature={'label': Value(dtype='string', id=None), 'text': Value(dtype='string', id=None)}, length=-1, id=None),\n",
    " 'answerKey': Value(dtype='string', id=None)})\n",
    "dataset = load_dataset('tau/commonsense_qa')\n"
   ]
  },
  {
   "cell_type": "code",
   "execution_count": 4,
   "metadata": {},
   "outputs": [],
   "source": [
    "from datasets import load_dataset\n",
    "dataset = load_dataset('cais/mmlu','all',trust_remote_code=True)"
   ]
  },
  {
   "cell_type": "code",
   "execution_count": 6,
   "metadata": {},
   "outputs": [
    {
     "data": {
      "text/plain": [
       "Dataset({\n",
       "    features: ['question', 'subject', 'choices', 'answer'],\n",
       "    num_rows: 1531\n",
       "})"
      ]
     },
     "execution_count": 6,
     "metadata": {},
     "output_type": "execute_result"
    }
   ],
   "source": [
    "\n",
    "dataset[\"validation\"]"
   ]
  },
  {
   "cell_type": "code",
   "execution_count": null,
   "metadata": {},
   "outputs": [],
   "source": []
  },
  {
   "cell_type": "code",
   "execution_count": 26,
   "metadata": {},
   "outputs": [
    {
     "data": {
      "text/plain": [
       "{'id': '90b30172e645ff91f7171a048582eb8b',\n",
       " 'question': 'The townhouse was a hard sell for the realtor, it was right next to a high rise what?',\n",
       " 'question_concept': 'townhouse',\n",
       " 'choices': {'label': ['A', 'B', 'C', 'D', 'E'],\n",
       "  'text': ['suburban development',\n",
       "   'apartment building',\n",
       "   'bus stop',\n",
       "   'michigan',\n",
       "   'suburbs']},\n",
       " 'answerKey': ''}"
      ]
     },
     "execution_count": 26,
     "metadata": {},
     "output_type": "execute_result"
    }
   ],
   "source": [
    "dataset[\"test\"][0]"
   ]
  },
  {
   "cell_type": "code",
   "execution_count": 22,
   "metadata": {},
   "outputs": [],
   "source": [
    "@dataclass\n",
    "class RequestInstance():\n",
    "    prompt: str\n",
    "    letter_gold: str\n",
    "    token_gold: int = None"
   ]
  },
  {
   "cell_type": "code",
   "execution_count": 2,
   "metadata": {},
   "outputs": [],
   "source": [
    "dataset = load_dataset(\"openbookqa\")"
   ]
  },
  {
   "cell_type": "code",
   "execution_count": 6,
   "metadata": {},
   "outputs": [
    {
     "data": {
      "text/plain": [
       "datasets.arrow_dataset.Dataset"
      ]
     },
     "execution_count": 6,
     "metadata": {},
     "output_type": "execute_result"
    }
   ],
   "source": [
    "type(dataset[\"train\"])"
   ]
  },
  {
   "cell_type": "code",
   "execution_count": 39,
   "metadata": {},
   "outputs": [
    {
     "data": {
      "text/plain": [
       "['A', 'B', 'C', 'D']"
      ]
     },
     "execution_count": 39,
     "metadata": {},
     "output_type": "execute_result"
    }
   ],
   "source": [
    "dataset[\"test\"][0][\"choices\"][\"label\"]\n"
   ]
  },
  {
   "cell_type": "code",
   "execution_count": 29,
   "metadata": {},
   "outputs": [],
   "source": [
    "def construct_question(row,shot=False):\n",
    "    prompt = f'Question: {row[\"question_stem\"]}\\n'\n",
    "    for letter, choice in zip(row[\"choices\"][\"label\"],row[\"choices\"][\"text\"]):\n",
    "        prompt += f'{letter}. {choice}\\n'\n",
    "    prompt += f'Answer: {row[\"choices\"][\"text\"][row[\"choices\"][\"label\"].index(row[\"answerKey\"])]}\\n\\n' if shot else  f'Answer:' \n",
    "    return prompt \n",
    "def construct_request_instance():\n",
    "    \"\"\"\n",
    "    Construct the request instances for the scenario\n",
    "    \"\"\"\n",
    "\n",
    "    output_mapping = dataset[\"test\"][0][\"choices\"][\"label\"]\n",
    "    \n",
    "    ri = []\n",
    "\n",
    "    dataset_test = dataset[\"test\"].select(range(5)) \\\n",
    "                                if 5 != -1 else dataset[\"test\"]\n",
    "    for row in tqdm(dataset_test, desc=\"Constructing Prompts\"):\n",
    "        prompt = f'The following are multiple choice questions (with answers) about {\"commonsense\"}.\\n\\n'\n",
    "        for i in range(5):\n",
    "            random_row = dataset[\"validation\"][i]\n",
    "            prompt += construct_question(random_row,shot=True)\n",
    "        prompt += construct_question(row)\n",
    "        ri.append(RequestInstance(prompt, row[\"answerKey\"]))\n",
    "    return ri, output_mapping"
   ]
  },
  {
   "cell_type": "code",
   "execution_count": 34,
   "metadata": {},
   "outputs": [
    {
     "name": "stderr",
     "output_type": "stream",
     "text": [
      "Constructing Prompts: 100%|██████████| 5/5 [00:00<00:00, 1070.14it/s]"
     ]
    },
    {
     "name": "stdout",
     "output_type": "stream",
     "text": [
      "The following are multiple choice questions (with answers) about commonsense.\n",
      "\n",
      "Question: Frilled sharks and angler fish live far beneath the surface of the ocean, which is why they are known as\n",
      "A. Deep sea animals\n",
      "B. fish\n",
      "C. Long Sea Fish\n",
      "D. Far Sea Animals\n",
      "Answer: Deep sea animals\n",
      "\n",
      "Question: Gas can fill any container it is given, and liquid\n",
      "A. is standard weight and size\n",
      "B. is the opposite of variable\n",
      "C. only needs a few\n",
      "D. uses what it needs\n",
      "Answer: uses what it needs\n",
      "\n",
      "Question: When birds migrate south for the winter, they do it because\n",
      "A. they are genetically called to\n",
      "B. their children ask for them to\n",
      "C. it is important to their happiness\n",
      "D. they decide to each year\n",
      "Answer: they are genetically called to\n",
      "\n",
      "Question: If a person walks in the opposite direction of a compass arrow they are walking\n",
      "A. west\n",
      "B. north\n",
      "C. east\n",
      "D. south\n",
      "Answer: south\n",
      "\n",
      "Question: An example of lots kinetic energy would be\n",
      "A. Drinking a cold glass of water\n",
      "B. A snail moving across the sidewalk\n",
      "C. sitting without moving anywhere\n",
      "D. An aircraft taking a trip\n",
      "Answer: An aircraft taking a trip\n",
      "\n",
      "Question: A person wants to start saving money so that they can afford a nice vacation at the end of the year. After looking over their budget and expenses, they decide the best way to save money is to\n",
      "A. make more phone calls\n",
      "B. quit eating lunch out\n",
      "C. buy less with monopoly money\n",
      "D. have lunch with friends\n",
      "Answer:\n"
     ]
    },
    {
     "name": "stderr",
     "output_type": "stream",
     "text": [
      "\n"
     ]
    }
   ],
   "source": [
    "print(construct_request_instance()[0][0].prompt)"
   ]
  },
  {
   "cell_type": "code",
   "execution_count": 20,
   "metadata": {},
   "outputs": [
    {
     "data": {
      "text/plain": [
       "{'id': Value(dtype='string', id=None),\n",
       " 'question': Value(dtype='string', id=None),\n",
       " 'question_concept': Value(dtype='string', id=None),\n",
       " 'choices': Sequence(feature={'label': Value(dtype='string', id=None), 'text': Value(dtype='int32', id=None)}, length=-1, id=None),\n",
       " 'answerKey': Value(dtype='string', id=None)}"
      ]
     },
     "execution_count": 20,
     "metadata": {},
     "output_type": "execute_result"
    }
   ],
   "source": [
    "# Features.from_dict(\n",
    "# {'id': '075e483d21c29a511267ef62bedc0461',\n",
    "#  'question': 'The sanctions against the school were a punishing blow, and they seemed to what the efforts the school had made to change?',\n",
    "#  'question_concept': 'punishing',\n",
    "#  'choices': {'label': ['A', 'B', 'C', 'D', 'E'],\n",
    "#   'text': ['ignore', 'enforce', 'authoritarian', 'yell at', 'avoid']},\n",
    "#  'answerKey': 'A'}\n",
    "# )\n",
    "Features({'id':  Value(dtype='string', id=None),\n",
    " 'question':  Value(dtype='string', id=None),\n",
    " 'question_concept':  Value(dtype='string', id=None),\n",
    " 'choices': Sequence(feature={'label': Value(dtype='string', id=None), 'text': Value(dtype='int32', id=None)}, length=-1, id=None),\n",
    " 'answerKey': Value(dtype='string', id=None)})"
   ]
  },
  {
   "cell_type": "markdown",
   "metadata": {},
   "source": [
    "# Test diego reps"
   ]
  },
  {
   "cell_type": "code",
   "execution_count": 1,
   "metadata": {},
   "outputs": [],
   "source": [
    "from metrics.utils import hidden_states_collapse\n",
    "from metrics.query import DataFrameQuery\n",
    "from common.tensor_storage import TensorStorage\n",
    "from common.metadata_db import MetadataDB\n",
    "from metrics.intrinisic_dimension import *\n",
    "from metrics.hidden_states_metrics import *\n",
    "\n",
    "from pathlib  import Path\n",
    "\n",
    "import numpy as np\n",
    "\n",
    "from common.metadata_db import MetadataDB\n",
    "from common.utils import *\n",
    "from pathlib import Path\n",
    "import pickle\n"
   ]
  },
  {
   "cell_type": "code",
   "execution_count": 2,
   "metadata": {},
   "outputs": [],
   "source": [
    "with open(\"/orfeo/cephfs/scratch/area/ddoimo/open/geometric_lens/repo/results/mmlu/llama-2-7b/0shot/statistics_target.pkl\",\"rb\") as f:\n",
    "    statistic_target = pickle.load(f)\n",
    "statistic_target\n",
    "df = pd.DataFrame(statistic_target)\n",
    "df = df.rename(columns={\"subjects\":\"dataset\", \"predictions\":\"std_pred\",\"answers\":\"letter_gold\", \"contrained_predictions\":\"only_ref_pred\",})\n",
    "df[\"train_instances\"] = 0\n",
    "df[\"model_name\"] = \"meta-llama-Llama-2-7b-hf\"\n",
    "df[\"method\"] = \"last\"\n",
    "df.to_pickle(\"/orfeo/scratch/dssc/zenocosini/mmlu_result/transposed_dataset/df.pkl\")"
   ]
  },
  {
   "cell_type": "code",
   "execution_count": null,
   "metadata": {},
   "outputs": [],
   "source": [
    "id = IntrinsicDimension(df = df, tensor_storage = None, variations=None, storage_logic=\"npy\")\n",
    "result = id.main()"
   ]
  },
  {
   "cell_type": "code",
   "execution_count": null,
   "metadata": {},
   "outputs": [],
   "source": [
    "result.to_pickle(Path(\"/orfeo/scratch/dssc/zenocosini/mmlu_result/transposed_dataset/result\",id.pkl'))"
   ]
  },
  {
   "cell_type": "markdown",
   "metadata": {},
   "source": [
    "### Check correctness"
   ]
  },
  {
   "cell_type": "code",
   "execution_count": 55,
   "metadata": {},
   "outputs": [],
   "source": [
    "def set_dataframes(db) -> pd.DataFrame:\n",
    "    \"\"\"\n",
    "    Aggregate in a dataframe the hidden states of all instances\n",
    "    ----------\n",
    "    hidden_states: pd.DataFrame(num_instances, num_layers, model_dim)\n",
    "    \"\"\"\n",
    "    df = pd.read_sql(\"SELECT * FROM metadata\", db.conn)\n",
    "    df[\"train_instances\"] = df[\"train_instances\"].astype(str)\n",
    "    df.drop(columns=[\"id\"],inplace = True)\n",
    "    #import pdb; pdb.set_trace()\n",
    "    #df.drop_duplicates(subset = [\"id_instance\"],inplace = True, ignore_index = True) # why there are duplicates???\n",
    "    return df"
   ]
  },
  {
   "cell_type": "code",
   "execution_count": 42,
   "metadata": {},
   "outputs": [],
   "source": [
    "def tensor_retrieve(dict_query):\n",
    "    query = DataFrameQuery(dict_query)\n",
    "    hidden_states,logits, hidden_states_df= hidden_states_collapse(metadata_df,query,tensor_storage)\n",
    "    return hidden_states,logits,hidden_states_df"
   ]
  },
  {
   "cell_type": "code",
   "execution_count": 56,
   "metadata": {},
   "outputs": [],
   "source": [
    "_PATH = Path(\"/orfeo/scratch/dssc/zenocosini/mmlu_result/\")\n",
    "result_path = Path(_PATH,\"diego\")\n",
    "result_path.mkdir(exist_ok=True,parents=True)\n",
    "metadata_db = MetadataDB(_PATH / \"metadata.db\")\n",
    "metadata_df = set_dataframes(metadata_db)\n",
    "tensor_storage = TensorStorage(Path(_PATH, \"tensor_files\"))"
   ]
  },
  {
   "cell_type": "code",
   "execution_count": 57,
   "metadata": {},
   "outputs": [],
   "source": [
    "dict_query = { \"method\":\"last\",\n",
    "               \"model_name\":\"meta-llama/Llama-2-7b-hf\",\n",
    "               \"train_instances\": 0}\n",
    "query = DataFrameQuery(dict_query)\n",
    "df_hiddenstates = query.apply_query(metadata_df)"
   ]
  },
  {
   "cell_type": "code",
   "execution_count": 60,
   "metadata": {},
   "outputs": [
    {
     "name": "stderr",
     "output_type": "stream",
     "text": [
      "/tmp/ipykernel_1358427/1137474668.py:2: SettingWithCopyWarning: \n",
      "A value is trying to be set on a copy of a slice from a DataFrame\n",
      "\n",
      "See the caveats in the documentation: https://pandas.pydata.org/pandas-docs/stable/user_guide/indexing.html#returning-a-view-versus-a-copy\n",
      "  df_hiddenstates.drop(columns=\"index\", inplace=True)\n"
     ]
    },
    {
     "data": {
      "text/plain": [
       "True"
      ]
     },
     "execution_count": 60,
     "metadata": {},
     "output_type": "execute_result"
    }
   ],
   "source": [
    "df_hiddenstates.reset_index(inplace=True)\n",
    "df_hiddenstates.drop(columns=\"index\", inplace=True)\n",
    "df[\"letter_gold\"].equals(df_hiddenstates[\"letter_gold\"])"
   ]
  },
  {
   "cell_type": "code",
   "execution_count": 73,
   "metadata": {},
   "outputs": [
    {
     "name": "stderr",
     "output_type": "stream",
     "text": [
      "/tmp/ipykernel_1358427/1446685474.py:1: SettingWithCopyWarning: \n",
      "A value is trying to be set on a copy of a slice from a DataFrame.\n",
      "Try using .loc[row_indexer,col_indexer] = value instead\n",
      "\n",
      "See the caveats in the documentation: https://pandas.pydata.org/pandas-docs/stable/user_guide/indexing.html#returning-a-view-versus-a-copy\n",
      "  df_hiddenstates[\"dataset\"] = df_hiddenstates[\"dataset\"].apply(lambda r: r.split(\":\")[1])\n"
     ]
    },
    {
     "data": {
      "text/plain": [
       "True"
      ]
     },
     "execution_count": 73,
     "metadata": {},
     "output_type": "execute_result"
    }
   ],
   "source": [
    "df_hiddenstates[\"dataset\"] = df_hiddenstates[\"dataset\"].apply(lambda r: r.split(\":\")[1])\n",
    "df[\"dataset\"].equals(df_hiddenstates[\"dataset\"])"
   ]
  }
 ],
 "metadata": {
  "kernelspec": {
   "display_name": "Python 3 (ipykernel)",
   "language": "python",
   "name": "python3"
  },
  "language_info": {
   "codemirror_mode": {
    "name": "ipython",
    "version": 3
   },
   "file_extension": ".py",
   "mimetype": "text/x-python",
   "name": "python",
   "nbconvert_exporter": "python",
   "pygments_lexer": "ipython3",
   "version": "3.11.7"
  }
 },
 "nbformat": 4,
 "nbformat_minor": 4
}
