{
 "cells": [
  {
   "cell_type": "code",
   "execution_count": 5,
   "id": "c5c76d0f-d8fa-4a24-8c51-f7920162a54f",
   "metadata": {},
   "outputs": [],
   "source": [
    "import pickle\n",
    "import os\n",
    "import pandas as pd"
   ]
  },
  {
   "cell_type": "code",
   "execution_count": 3,
   "id": "88f4b4b6-1a18-4460-a161-e5293e22dba4",
   "metadata": {},
   "outputs": [],
   "source": [
    "os.chdir(\"/orfeo/scratch/dssc/zenocosini/mmlu_result/transposed_dataset\")"
   ]
  },
  {
   "cell_type": "code",
   "execution_count": 14,
   "id": "348b2cba-bceb-4103-8b4c-88a5cd8ce489",
   "metadata": {},
   "outputs": [],
   "source": [
    "label_clustering_dataset_1 = pd.read_pickle(\"metrics_421512/label_clustering_dataset.pkl\")\n",
    "label_clustering_dataset_2 = pd.read_pickle(\"metrics_422088/label_clustering_dataset.pkl\")"
   ]
  },
  {
   "cell_type": "code",
   "execution_count": 15,
   "id": "22c92988-33f7-43fa-91fb-30165a474d75",
   "metadata": {},
   "outputs": [],
   "source": [
    "label_clustering_dataset = pd.concat([label_clustering_dataset_1,label_clustering_dataset_2])\n",
    "label_clustering_dataset.to_pickle(\"shuffled_prompt/label_clustering_dataset.pkl\")"
   ]
  },
  {
   "cell_type": "code",
   "execution_count": 16,
   "id": "1b18abad-73a8-4313-a9c5-faf375317434",
   "metadata": {},
   "outputs": [],
   "source": [
    "label_clustering_only_ref_pred_1 = pd.read_pickle(\"metrics_421512/label_clustering_only_ref_pred.pkl\")\n",
    "label_clustering_only_ref_pred_2 = pd.read_pickle(\"metrics_422088/label_clustering_only_ref_pred.pkl\")\n",
    "label_clustering_only_ref_pred = pd.concat([label_clustering_only_ref_pred_1,label_clustering_only_ref_pred_2])\n",
    "label_clustering_only_ref_pred.to_pickle(\"shuffled_prompt/label_clustering_only_ref_pred.pkl\")"
   ]
  },
  {
   "cell_type": "code",
   "execution_count": 17,
   "id": "b576f89d-186e-4f5f-9f6f-dd62a35d4b5b",
   "metadata": {},
   "outputs": [],
   "source": [
    "label_overlap_only_ref_pred_1 = pd.read_pickle(\"metrics_421512/label_overlap_only_ref_pred.pkl\")\n",
    "label_overlap_only_ref_pred_2 = pd.read_pickle(\"metrics_422088/label_overlap_only_ref_pred.pkl\")\n",
    "label_overlap_only_ref_pred = pd.concat([label_overlap_only_ref_pred_1,label_overlap_only_ref_pred_2])\n",
    "label_overlap_only_ref_pred.to_pickle(\"shuffled_prompt/label_overlap_only_ref_pred.pkl\")"
   ]
  },
  {
   "cell_type": "code",
   "execution_count": 18,
   "id": "1ef8a64e-93c8-4be1-8829-4e7777bc7d2c",
   "metadata": {},
   "outputs": [],
   "source": [
    "label_overlap_dataset_1 = pd.read_pickle(\"metrics_421512/label_overlap_dataset.pkl\")\n",
    "label_overlap_dataset_2 = pd.read_pickle(\"metrics_422088/label_overlap_dataset.pkl\")\n",
    "label_overlap_dataset = pd.concat([label_overlap_dataset_1,label_overlap_dataset_2])\n",
    "label_overlap_dataset.to_pickle(\"shuffled_prompt/label_overlap_dataset.pkl\")"
   ]
  },
  {
   "cell_type": "code",
   "execution_count": 19,
   "id": "cf102724-bc8e-44e6-b04b-0fb7294580e2",
   "metadata": {},
   "outputs": [],
   "source": [
    "intrinsic_dimension_1 = pd.read_pickle(\"metrics_421512/intrinsic_dimension.pkl\")\n",
    "intrinsic_dimension_2 = pd.read_pickle(\"metrics_422088/intrinsic_dimension.pkl\")\n",
    "intrinsic_dimension = pd.concat([intrinsic_dimension_1,intrinsic_dimension_2])\n",
    "intrinsic_dimension.to_pickle(\"shuffled_prompt/intrinsic_dimension.pkl\")"
   ]
  },
  {
   "cell_type": "code",
   "execution_count": 24,
   "id": "63319612-d6ae-47bf-8793-1e3b997918a5",
   "metadata": {},
   "outputs": [
    {
     "name": "stdout",
     "output_type": "stream",
     "text": [
      "/orfeo/scratch/dssc/zenocosini/mmlu_result/transposed_dataset\n"
     ]
    }
   ],
   "source": [
    "!pwd"
   ]
  }
 ],
 "metadata": {
  "kernelspec": {
   "display_name": "Python 3 (ipykernel)",
   "language": "python",
   "name": "python3"
  },
  "language_info": {
   "codemirror_mode": {
    "name": "ipython",
    "version": 3
   },
   "file_extension": ".py",
   "mimetype": "text/x-python",
   "name": "python",
   "nbconvert_exporter": "python",
   "pygments_lexer": "ipython3",
   "version": "3.11.7"
  }
 },
 "nbformat": 4,
 "nbformat_minor": 5
}
