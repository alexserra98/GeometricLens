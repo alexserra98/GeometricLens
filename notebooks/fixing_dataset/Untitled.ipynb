{
 "cells": [
  {
   "cell_type": "code",
   "execution_count": 2,
   "id": "320d2703-4bbd-4576-8b52-7dc08a76f692",
   "metadata": {},
   "outputs": [],
   "source": [
    "import os\n",
    "import sys\n",
    "import pickle\n",
    "import pandas as pd"
   ]
  },
  {
   "cell_type": "code",
   "execution_count": 32,
   "id": "17652e63-bc90-4bbb-9d93-adbae8b7bbb9",
   "metadata": {},
   "outputs": [],
   "source": [
    "_PATH = \"/orfeo/cephfs/scratch/dssc/zenocosini/mmlu_result/transposed_dataset/\"\n",
    "metric = \"label_overlap_only_ref_pred\""
   ]
  },
  {
   "cell_type": "code",
   "execution_count": 33,
   "id": "63843e62-da9b-45f2-bdb0-28ffe04a9d36",
   "metadata": {},
   "outputs": [],
   "source": [
    "df_chat = pd.read_pickle(_PATH + f\"200_chat/{metric}.pkl\")\n",
    "df = pd.read_pickle(_PATH + f\"/200_correct/old/{metric}.pkl\")"
   ]
  },
  {
   "cell_type": "code",
   "execution_count": 34,
   "id": "c2887d2e-613b-4dcb-9525-9a79396fbfb3",
   "metadata": {},
   "outputs": [],
   "source": [
    "df = df.query(f'model not in [\"llama-2-70b-chat\",\"llama-3-70b-chat\"]')"
   ]
  },
  {
   "cell_type": "code",
   "execution_count": 35,
   "id": "d869b215-0c32-4bce-93e7-007b7fc20bdb",
   "metadata": {},
   "outputs": [],
   "source": [
    "df = pd.concat([df, df_chat])"
   ]
  },
  {
   "cell_type": "code",
   "execution_count": 36,
   "id": "dec637b7-b5ab-4901-8fc4-77f400f0f314",
   "metadata": {},
   "outputs": [],
   "source": [
    "df.to_pickle(_PATH + f\"/200_correct/{metric}.pkl\")"
   ]
  }
 ],
 "metadata": {
  "kernelspec": {
   "display_name": "Python 3 (ipykernel)",
   "language": "python",
   "name": "python3"
  },
  "language_info": {
   "codemirror_mode": {
    "name": "ipython",
    "version": 3
   },
   "file_extension": ".py",
   "mimetype": "text/x-python",
   "name": "python",
   "nbconvert_exporter": "python",
   "pygments_lexer": "ipython3",
   "version": "3.11.7"
  }
 },
 "nbformat": 4,
 "nbformat_minor": 5
}
