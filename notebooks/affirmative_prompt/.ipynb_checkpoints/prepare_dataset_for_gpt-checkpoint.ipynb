{
 "cells": [
  {
   "cell_type": "code",
   "execution_count": 5,
   "id": "69a4a1e7-ccd7-41c0-8062-b22014e134a3",
   "metadata": {},
   "outputs": [],
   "source": [
    "# Importing necessary library\n",
    "from datasets import load_dataset\n",
    "from tqdm import tqdm"
   ]
  },
  {
   "cell_type": "code",
   "execution_count": 2,
   "id": "d65b94f7-c3c7-480e-a86a-69fc54135f28",
   "metadata": {},
   "outputs": [],
   "source": [
    "subjects = [\"mmlu:abstract_algebra\", \n",
    "            \"mmlu:anatomy\", \n",
    "            \"mmlu:astronomy\", \n",
    "            \"mmlu:business_ethics\",\n",
    "            \"mmlu:clinical_knowledge\",\n",
    "            \"mmlu:college_biology\",\n",
    "            \"mmlu:college_chemistry\",\n",
    "            \"mmlu:college_computer_science\",\n",
    "            \"mmlu:college_mathematics\",\n",
    "            \"mmlu:college_medicine\",\n",
    "            \"mmlu:college_physics\",\n",
    "            \"mmlu:computer_security\",\n",
    "            \"mmlu:conceptual_physics\",\n",
    "            \"mmlu:econometrics\",\n",
    "            \"mmlu:electrical_engineering\",\n",
    "            \"mmlu:elementary_mathematics\",\n",
    "            \"mmlu:formal_logic\",\n",
    "            \"mmlu:global_facts\",\n",
    "            \"mmlu:high_school_biology\",\n",
    "            \"mmlu:high_school_chemistry\",\n",
    "            \"mmlu:high_school_computer_science\",\n",
    "            \"mmlu:high_school_european_history\",\n",
    "            \"mmlu:high_school_geography\",\n",
    "            \"mmlu:high_school_government_and_politics\",\n",
    "            \"mmlu:high_school_macroeconomics\",\n",
    "            \"mmlu:high_school_mathematics\",\n",
    "            \"mmlu:high_school_microeconomics\",\n",
    "            \"mmlu:high_school_physics\",\n",
    "            \"mmlu:high_school_psychology\",\n",
    "            \"mmlu:high_school_statistics\",\n",
    "            \"mmlu:high_school_us_history\",\n",
    "            \"mmlu:high_school_world_history\",\n",
    "            \"mmlu:human_aging\",\n",
    "            \"mmlu:human_sexuality\",\n",
    "            \"mmlu:international_law\",\n",
    "            \"mmlu:jurisprudence\",\n",
    "            \"mmlu:logical_fallacies\",\n",
    "            \"mmlu:machine_learning\",\n",
    "            \"mmlu:management\",\n",
    "            \"mmlu:marketing\",\n",
    "            \"mmlu:medical_genetics\",\n",
    "            \"mmlu:miscellaneous\",\n",
    "            \"mmlu:moral_disputes\",\n",
    "            \"mmlu:moral_scenarios\",\n",
    "            \"mmlu:nutrition\",\n",
    "            \"mmlu:philosophy\",\n",
    "            \"mmlu:prehistory\",\n",
    "            \"mmlu:professional_accounting\",\n",
    "            \"mmlu:professional_law\",\n",
    "            \"mmlu:professional_medicine\",\n",
    "            \"mmlu:professional_psychology\",\n",
    "            \"mmlu:public_relations\",\n",
    "            \"mmlu:security_studies\",\n",
    "            \"mmlu:sociology\",\n",
    "            \"mmlu:us_foreign_policy\",\n",
    "            \"mmlu:virology\",\n",
    "            \"mmlu:world_religions\"]\n",
    "subjects = [sub[5:] for sub in subjects]"
   ]
  },
  {
   "cell_type": "code",
   "execution_count": 7,
   "id": "6f8765ba-64ee-4667-98b1-3c7a1403c0c9",
   "metadata": {},
   "outputs": [
    {
     "name": "stderr",
     "output_type": "stream",
     "text": [
      "Formatting subject: 100%|██████████████████████████| 57/57 [02:49<00:00,  2.97s/it]\n"
     ]
    }
   ],
   "source": [
    "# List to hold the formatted strings\n",
    "transformed_instances = []\n",
    "lenght = {}\n",
    "counter = 1\n",
    "for subject in tqdm(subjects, desc=\"Formatting subject\"):\n",
    "    # Load the MMLU dataset\n",
    "    dataset = load_dataset(\"Stevross/mmlu\",subject, split=\"validation\")\n",
    "    \n",
    "    # Iterate through each instance in the dataset\n",
    "    for n,instance in enumerate(dataset):\n",
    "        if n >= 15:\n",
    "            break\n",
    "        question = instance['question']\n",
    "        choices = instance['choices']\n",
    "        answer_key = instance['answer']\n",
    "        \n",
    "        # Find the correct answer using the answerKey\n",
    "        correct_answer = choices[answer_key]\n",
    "        \n",
    "        # Format the instance into \"Question: ... Answer: ...\"\n",
    "        formatted_string = f\"{counter}: Question: {question}\\nAnswer: {correct_answer}\\n------\"\n",
    "        transformed_instances.append(formatted_string)\n",
    "        counter += 1\n",
    "    lenght[subject] = n\n",
    "# Path where the output will be saved\n",
    "output_file_path = 'affirmative_prompt/mmlu_val_formatted.txt'\n",
    "\n",
    "# Save all formatted instances to a text file\n",
    "with open(output_file_path, 'w', encoding='utf-8') as file:\n",
    "    for line in transformed_instances:\n",
    "        file.write(line + '\\n')\n",
    "\n",
    "\n",
    "\n"
   ]
  },
  {
   "cell_type": "code",
   "execution_count": 9,
   "id": "8ad9ee95-32ca-4237-af02-a5fb301685e5",
   "metadata": {},
   "outputs": [],
   "source": [
    "lenght\n",
    "buffer_out = []\n",
    "for sub, rep in lenght.items():\n",
    "    for _ in range(rep):\n",
    "        buffer_out.append(sub)\n",
    "\n",
    "# Path where the output will be saved\n",
    "output_file_path = 'affirmative_prompt/subject_val.txt'\n",
    "\n",
    "# Save all formatted instances to a text file\n",
    "with open(output_file_path, 'w', encoding='utf-8') as file:\n",
    "    for line in buffer_out:\n",
    "        file.write(line + '\\n')\n"
   ]
  }
 ],
 "metadata": {
  "kernelspec": {
   "display_name": "Python 3 (ipykernel)",
   "language": "python",
   "name": "python3"
  },
  "language_info": {
   "codemirror_mode": {
    "name": "ipython",
    "version": 3
   },
   "file_extension": ".py",
   "mimetype": "text/x-python",
   "name": "python",
   "nbconvert_exporter": "python",
   "pygments_lexer": "ipython3",
   "version": "3.11.7"
  }
 },
 "nbformat": 4,
 "nbformat_minor": 5
}
