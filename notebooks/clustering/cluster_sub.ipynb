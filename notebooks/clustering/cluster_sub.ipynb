{
 "cells": [
  {
   "cell_type": "code",
   "execution_count": 1,
   "id": "92f3305a-870a-487a-b1db-34f3c867d253",
   "metadata": {},
   "outputs": [],
   "source": [
    "import sys\n",
    "sys.path.append(\"/u/dssc/zenocosini/helm_suite/MCQA_Benchmark\")\n",
    "from metrics.utils import *\n",
    "from metrics.query import DataFrameQuery\n",
    "from common.tensor_storage import TensorStorage\n",
    "from common.metadata_db import MetadataDB\n",
    "from common.utils import *\n",
    "\n",
    "#from sklearn.feature_selection import mutual_info_regression MISSIN?\n",
    "from dadapy.data import Data\n",
    "\n",
    "import numpy as np\n",
    "import pandas as pd\n",
    "import matplotlib.pyplot as plt\n",
    "from sklearn.manifold import MDS\n",
    "from sklearn.decomposition import KernelPCA\n",
    "from sklearn.metrics import pairwise_distances\n",
    "from transformers import AutoModelForCausalLM, AutoTokenizer, LlamaForCausalLM, LlamaTokenizer\n",
    "from IPython.display import display\n",
    "from matplotlib.colors import Normalize\n",
    "from matplotlib.cm import ScalarMappable\n",
    "\n",
    "from pathlib import Path\n",
    "import pickle\n",
    "from collections import Counter"
   ]
  },
  {
   "cell_type": "code",
   "execution_count": 2,
   "id": "45cb0c51-6708-4fa7-bad2-e37490401f47",
   "metadata": {},
   "outputs": [],
   "source": [
    "%matplotlib inline"
   ]
  },
  {
   "cell_type": "markdown",
   "id": "9c7a294f-5fcf-4991-bb67-fd33019e976f",
   "metadata": {},
   "source": [
    "# Functions"
   ]
  },
  {
   "cell_type": "code",
   "execution_count": 3,
   "id": "6ef5f340-412a-4613-8a17-d5de41166841",
   "metadata": {},
   "outputs": [],
   "source": [
    "def set_dataframes(db) -> pd.DataFrame:\n",
    "    \"\"\"\n",
    "    Aggregate in a dataframe the hidden states of all instances\n",
    "    ----------\n",
    "    hidden_states: pd.DataFrame(num_instances, num_layers, model_dim)\n",
    "    \"\"\"\n",
    "    df = pd.read_sql(\"SELECT * FROM metadata\", db.conn)\n",
    "    df[\"train_instances\"] = df[\"train_instances\"].astype(str)\n",
    "    df.drop(columns=[\"id\"],inplace = True)\n",
    "    #import pdb; pdb.set_trace()\n",
    "    df.drop_duplicates(subset = [\"id_instance\"],inplace = True, ignore_index = True) # why there are duplicates???\n",
    "    return df"
   ]
  },
  {
   "cell_type": "code",
   "execution_count": 4,
   "id": "4c43d096-0af9-4af9-b407-6e5e7d42232e",
   "metadata": {},
   "outputs": [],
   "source": [
    "def tensor_retrieve(dict_query):\n",
    "    query = DataFrameQuery(dict_query)\n",
    "    hidden_states,logits, hidden_states_df= hidden_states_collapse(metadata_df,tensor_storage,query)\n",
    "    return hidden_states,logits,hidden_states_df"
   ]
  },
  {
   "cell_type": "code",
   "execution_count": 5,
   "id": "5f067c00-4ea1-45ab-9c22-ef97ecf9d3fc",
   "metadata": {},
   "outputs": [],
   "source": [
    "def constructing_labels(label: str, hidden_states_df: pd.DataFrame, hidden_states: np.ndarray) -> np.ndarray:\n",
    "    labels_literals = hidden_states_df[label].unique()\n",
    "    labels_literals.sort()\n",
    "    \n",
    "    map_labels = {class_name: n for n,class_name in enumerate(labels_literals)}\n",
    "    \n",
    "    label_per_row = hidden_states_df[label].reset_index(drop=True)\n",
    "    label_per_row = np.array([map_labels[class_name] for class_name in label_per_row])[:hidden_states.shape[0]]\n",
    "    \n",
    "    return label_per_row, map_labels"
   ]
  },
  {
   "cell_type": "code",
   "execution_count": 6,
   "id": "c45ad5ed-f53c-4598-ba98-ac5ac11078f3",
   "metadata": {},
   "outputs": [],
   "source": [
    "tsm =  TensorStorageManager()  "
   ]
  },
  {
   "cell_type": "code",
   "execution_count": 7,
   "id": "13b559fb-51ed-4866-a574-b94c7d295c62",
   "metadata": {},
   "outputs": [],
   "source": [
    "def find_identical_rows(matrix):\n",
    "    # View the rows as a structured array to handle them as tuples\n",
    "    dtype = [('row', matrix.dtype, matrix.shape[1])]\n",
    "    structured_array = matrix.view(dtype)\n",
    "    \n",
    "    # Find unique rows and their indices\n",
    "    _, inverse_indices = np.unique(structured_array, return_inverse=True)\n",
    "    \n",
    "    # Find where each row appears for the first time and their counts\n",
    "    unique_rows, counts = np.unique(inverse_indices, return_counts=True)\n",
    "    \n",
    "    # Filter out unique rows, keeping only duplicates\n",
    "    repeated_indices = [np.where(inverse_indices == i)[0] for i in unique_rows[counts > 1]]\n",
    "    \n",
    "    return repeated_indices"
   ]
  },
  {
   "cell_type": "code",
   "execution_count": 8,
   "id": "559cd33a-336e-40b9-a0b7-cf5f025371f3",
   "metadata": {},
   "outputs": [],
   "source": [
    "_PATH = Path(\"/orfeo/scratch/dssc/zenocosini/mmlu_result/\")\n",
    "result_path = Path(_PATH,\"diego\")\n",
    "result_path.mkdir(exist_ok=True,parents=True)\n",
    "metadata_db = MetadataDB(_PATH / \"metadata.db\")\n",
    "metadata_df = set_dataframes(metadata_db)\n",
    "tensor_storage = TensorStorage(Path(_PATH, \"tensor_files\"))"
   ]
  },
  {
   "cell_type": "markdown",
   "id": "63888f37-0c5d-47b1-8a1b-e016d9333d93",
   "metadata": {},
   "source": [
    "# Cluster"
   ]
  },
  {
   "cell_type": "markdown",
   "id": "b3634d50-37fb-4fc7-b805-b23ab3556c2f",
   "metadata": {},
   "source": [
    "### Preprocessing"
   ]
  },
  {
   "cell_type": "markdown",
   "id": "b1d232e8-8e78-418a-a089-abe6269f51ac",
   "metadata": {},
   "source": [
    "#### Retrieval"
   ]
  },
  {
   "cell_type": "code",
   "execution_count": 9,
   "id": "31cc202a-57eb-4eab-98c9-bf6415a8d768",
   "metadata": {},
   "outputs": [],
   "source": [
    "storage_path = Path(f\"/orfeo/cephfs/scratch/area/ddoimo/open/geometric_lens/repo/results/mmlu/llama-2-7b/\")"
   ]
  },
  {
   "cell_type": "code",
   "execution_count": 10,
   "id": "221c7d14-e4ab-4e75-9222-d9b01b9b50bc",
   "metadata": {},
   "outputs": [],
   "source": [
    "datasets = list(metadata_df[\"dataset\"].unique())\n",
    "dict_query = { \"method\":\"last\",\n",
    "              \"model_name\":\"meta-llama/Llama-2-7b-hf\",\n",
    "              \"train_instances\": \"5\"}\n",
    "query = DataFrameQuery(dict_query)"
   ]
  },
  {
   "cell_type": "code",
   "execution_count": 53,
   "id": "c190506c-575d-4cb0-8ab7-8419bc21f0f3",
   "metadata": {},
   "outputs": [],
   "source": [
    "hidden_states,logits, hidden_states_stat = tsm.retrieve_tensor(query, \"npy\")"
   ]
  },
  {
   "cell_type": "code",
   "execution_count": 54,
   "id": "e1437f3c-0dba-4cd4-98dd-f86d73e68315",
   "metadata": {},
   "outputs": [],
   "source": [
    "layer = 7"
   ]
  },
  {
   "cell_type": "markdown",
   "id": "e9a8674c-4eea-4d7a-a112-40244c1be8c1",
   "metadata": {},
   "source": [
    "#### Filter identical rows"
   ]
  },
  {
   "cell_type": "code",
   "execution_count": 55,
   "id": "7b547312-7833-4946-9223-5f6d77e732ee",
   "metadata": {},
   "outputs": [],
   "source": [
    "id_index = find_identical_rows(hidden_states[:,layer,:])"
   ]
  },
  {
   "cell_type": "code",
   "execution_count": 56,
   "id": "fb59a19b-d1c5-481d-a497-69db951808fa",
   "metadata": {},
   "outputs": [],
   "source": [
    "indices_to_exclude = [index[0] for index in id_index]"
   ]
  },
  {
   "cell_type": "code",
   "execution_count": 57,
   "id": "d8010e13-1613-47ef-af97-118ae9c8d76a",
   "metadata": {},
   "outputs": [],
   "source": [
    "hd = hidden_states[:, layer, :]\n",
    "hd = np.delete(hd,indices_to_exclude, axis=0)"
   ]
  },
  {
   "cell_type": "markdown",
   "id": "b0f33288-fecc-439e-8c23-3fc9fb9056fd",
   "metadata": {},
   "source": [
    "#### Retrieve labels"
   ]
  },
  {
   "cell_type": "code",
   "execution_count": 156,
   "id": "37ce6f28-136c-4305-a6c6-91a53030d29a",
   "metadata": {},
   "outputs": [],
   "source": [
    "subjects = hidden_states_stat[\"subjects\"]\n",
    "subjects = np.delete(subjects, indices_to_exclude)\n",
    "subjects_list = np.unique(subjects)"
   ]
  },
  {
   "cell_type": "code",
   "execution_count": 157,
   "id": "21fe52f0-9cbb-4978-a418-101d7dac62af",
   "metadata": {},
   "outputs": [],
   "source": [
    "stem_subjects = ['abstract_algebra', 'anatomy', 'astronomy', 'college_biology', 'college_chemistry',\n",
    "                 'college_computer_science', 'college_mathematics', 'college_medicine', 'college_physics',\n",
    "                 'computer_security', 'conceptual_physics', 'electrical_engineering', 'high_school_biology',\n",
    "                 'high_school_chemistry', 'high_school_computer_science', 'high_school_mathematics',\n",
    "                 'high_school_physics', 'high_school_statistics', 'machine_learning', 'medical_genetics',\n",
    "                 'professional_medicine', 'virology', 'elementary_mathematics']\n",
    "\n",
    "# Determine STEM and non-STEM\n",
    "is_stem = np.isin(subjects_list, stem_subjects)\n",
    "stem = subjects_list[is_stem]\n",
    "not_stem = subjects_list[~is_stem]"
   ]
  },
  {
   "cell_type": "markdown",
   "id": "4863fa0a-699f-4dd8-895d-37e460194abc",
   "metadata": {},
   "source": [
    "Represent subject as numbers"
   ]
  },
  {
   "cell_type": "code",
   "execution_count": 209,
   "id": "2e4b251b-f81f-437e-8b42-df3a5e9b1095",
   "metadata": {},
   "outputs": [],
   "source": [
    "map_sub_ind = {class_name: n for n,class_name in enumerate(set(subjects))}\n",
    "map_ind_sub = {n: class_name for n,class_name in enumerate(set(subjects))}\n",
    "label_per_row = np.array([map_sub_ind[e] for e in subjects])"
   ]
  },
  {
   "cell_type": "code",
   "execution_count": 210,
   "id": "3cc74ce9-9ce5-4629-a80c-3cf5da817315",
   "metadata": {},
   "outputs": [
    {
     "data": {
      "text/plain": [
       "(14015,)"
      ]
     },
     "execution_count": 210,
     "metadata": {},
     "output_type": "execute_result"
    }
   ],
   "source": [
    "label_per_row.shape"
   ]
  },
  {
   "cell_type": "markdown",
   "id": "fc14957c-fed3-4bf4-94b9-7e3a98d6ed26",
   "metadata": {},
   "source": [
    "### Compute"
   ]
  },
  {
   "cell_type": "code",
   "execution_count": 160,
   "id": "53c5a880-bd8e-47ec-ad15-6e59d88eaac2",
   "metadata": {},
   "outputs": [],
   "source": [
    "z = 1.2"
   ]
  },
  {
   "cell_type": "code",
   "execution_count": 193,
   "id": "9cfcbd24-38bf-4c34-9368-dbf9baea3728",
   "metadata": {},
   "outputs": [
    {
     "name": "stderr",
     "output_type": "stream",
     "text": [
      "/orfeo/cephfs/home/dssc/zenocosini/helm_suite/DADApy/dadapy/kstar.py:101: UserWarning: Careful! The intrinsic dimension is not defined. Computing it unsupervisedly with 'compute_id_2NN()' method\n",
      "  warnings.warn(\n"
     ]
    }
   ],
   "source": [
    "data = Data(hd)\n",
    "data.compute_distances(maxk=1000)\n",
    "clusters_assignement_o = data.compute_clustering_ADP(Z=z)\n"
   ]
  },
  {
   "cell_type": "markdown",
   "id": "5bf42551-73e5-4f9f-80c0-21b6ae45db80",
   "metadata": {},
   "source": [
    "#### Filter small clusters"
   ]
  },
  {
   "cell_type": "code",
   "execution_count": 211,
   "id": "1053b045-d596-4d64-af68-337fd5618ffa",
   "metadata": {},
   "outputs": [],
   "source": [
    "cluster_to_remove = np.where(np.bincount(clusters_assignement)<150)"
   ]
  },
  {
   "cell_type": "code",
   "execution_count": 212,
   "id": "de0df9ec-08b4-42a2-8747-70212e7e3ad2",
   "metadata": {},
   "outputs": [],
   "source": [
    "bad_indices = np.where(np.isin(clusters_assignement, cluster_to_remove[0]))[0]"
   ]
  },
  {
   "cell_type": "code",
   "execution_count": 213,
   "id": "40e9f215-47ab-490d-88e9-db41cd3bf97f",
   "metadata": {},
   "outputs": [],
   "source": [
    "clusters_assignement = np.delete(clusters_assignement_o, bad_indices)\n",
    "label_per_row = np.delete(label_per_row, bad_indices)"
   ]
  },
  {
   "cell_type": "code",
   "execution_count": 214,
   "id": "ca762bc7-f416-4ee2-b0f7-b84b0530926a",
   "metadata": {},
   "outputs": [],
   "source": [
    "cluster_sub = np.concatenate([np.expand_dims(label_per_row,axis =0),np.expand_dims(clusters_assignement,axis =0)], axis = 0)\n",
    "cluster_sub = cluster_sub.T"
   ]
  },
  {
   "cell_type": "code",
   "execution_count": 215,
   "id": "02a3b377-1b36-42fb-b1f5-a50fcff8e2ca",
   "metadata": {},
   "outputs": [],
   "source": [
    "sub_binary = list(map(lambda r: r in stem,list(map(lambda r: map_ind_sub[r],cluster_sub[:,0]))))"
   ]
  },
  {
   "cell_type": "markdown",
   "id": "cb0a78e3-c421-42d6-99d8-51c85336f030",
   "metadata": {},
   "source": [
    "#### Center of cluster based distance"
   ]
  },
  {
   "cell_type": "code",
   "execution_count": 216,
   "id": "85a3fc6a-0e58-4a31-bd0c-2cc4ca6e250d",
   "metadata": {},
   "outputs": [],
   "source": [
    "cluster_centers = data.cluster_centers\n",
    "cluster_centers = np.delete(cluster_centers,cluster_to_remove)\n",
    "center_coordinates = data.X[cluster_centers] "
   ]
  },
  {
   "cell_type": "code",
   "execution_count": 217,
   "id": "d9148bee-b523-45ae-b480-4aa88c2d7543",
   "metadata": {},
   "outputs": [],
   "source": [
    "distance_matrix_euc_d = pairwise_distances(data.X[cluster_centers], metric='euclidean')"
   ]
  },
  {
   "cell_type": "markdown",
   "id": "ab39930a-25db-487f-b0ed-62083d4ee415",
   "metadata": {},
   "source": [
    "#### Centroids of clusters\n",
    "\n"
   ]
  },
  {
   "cell_type": "code",
   "execution_count": 218,
   "id": "3dcb2950-8a3d-40e7-99ea-9b40d19c35e3",
   "metadata": {},
   "outputs": [],
   "source": [
    "indices_per_cluster = data.cluster_indices"
   ]
  },
  {
   "cell_type": "code",
   "execution_count": 219,
   "id": "f6247d91-4c6e-4eb8-80d5-3a9f2ff245fc",
   "metadata": {},
   "outputs": [],
   "source": [
    "centroids = list(map(lambda r: np.mean(data.X[r],axis=0), indices_per_cluster))"
   ]
  },
  {
   "cell_type": "code",
   "execution_count": 220,
   "id": "471f80cc-7d6e-4ee6-b2a3-24bbab7a3536",
   "metadata": {},
   "outputs": [],
   "source": [
    "centroids = list(map(lambda r: np.mean(data.X[r],axis=0), indices_per_cluster))\n",
    "centroids = np.stack(centroids)\n",
    "centroids = np.delete(centroids,cluster_to_remove, axis=0)\n",
    "distance_matrix_euc_c = pairwise_distances(centroids, metric='euclidean')"
   ]
  },
  {
   "cell_type": "markdown",
   "id": "5defdebf-a917-4871-bbcc-73b089f76d05",
   "metadata": {},
   "source": [
    "### Plot"
   ]
  },
  {
   "cell_type": "code",
   "execution_count": 221,
   "id": "37d2af4e-c479-4938-82e1-75c5f41a6136",
   "metadata": {},
   "outputs": [],
   "source": [
    "df = pd.DataFrame({\"type\": sub_binary, \"cluster\": cluster_sub[:,1]})\n",
    "df[\"type\"] = df[\"type\"].astype(int)"
   ]
  },
  {
   "cell_type": "code",
   "execution_count": 222,
   "id": "ee592292-7ec3-47f7-8776-cfeb37d7ffd1",
   "metadata": {},
   "outputs": [],
   "source": [
    "most_represented = df.groupby('cluster')['type'].agg(lambda x: x.mean()).reset_index()\n"
   ]
  },
  {
   "cell_type": "code",
   "execution_count": 223,
   "id": "0633ec12-cb03-4ea7-8877-65d0cfd55e10",
   "metadata": {},
   "outputs": [],
   "source": [
    "most_represented.rename(columns={\"type\":\"percentage\"}, inplace=True)"
   ]
  },
  {
   "cell_type": "code",
   "execution_count": 224,
   "id": "55337c70-ac44-447b-a403-90e9cc4ac3c6",
   "metadata": {},
   "outputs": [
    {
     "data": {
      "image/png": "[encoded data removed]",
      "text/plain": [
       "<Figure size 640x480 with 2 Axes>"
      ]
     },
     "metadata": {},
     "output_type": "display_data"
    }
   ],
   "source": [
    "# Example dataset and distance matrix\n",
    "data_plot = cluster_sub\n",
    "# distance_matrix = data.log_den_bord\n",
    "distance_matrix = distance_matrix_euc_c\n",
    "# Step 1: Count the points in each cluster\n",
    "cluster_counts = Counter(data_plot[:, 1])\n",
    "\n",
    "# Prepare counts and labels sorted by cluster index\n",
    "clusters, counts = zip(*sorted(cluster_counts.items()))\n",
    "\n",
    "# Step 2: Apply MDS to get 2D positions for each cluster\n",
    "mds = MDS(n_components=2, dissimilarity=\"precomputed\", random_state=42)\n",
    "positions = mds.fit_transform(distance_matrix)\n",
    "\n",
    "# Step 3: Plot each cluster as a circle with area proportional to the count of points\n",
    "fig, ax = plt.subplots()\n",
    "# colors = {'STEM': 'blue', 'Non-STEM': 'red'}  # Colors for stem and not stem\n",
    "\n",
    "# Normalize the color map based on STEM percentages\n",
    "norm = Normalize(vmin=0, vmax=1)\n",
    "cmap = plt.cm.coolwarm  # You can choose any other colormap as needed\n",
    "scalar_map = ScalarMappable(norm=norm, cmap=cmap)\n",
    "\n",
    "# Convert percentages to colors\n",
    "cluster_colors = scalar_map.to_rgba(most_represented[\"percentage\"])\n",
    "\n",
    "for pos, count, cluster, color in zip(positions, counts, clusters,cluster_colors ):\n",
    "    # ax.scatter(pos[0], pos[1], s=count, label=f'Cluster {cluster} (n={count})')\n",
    "    # label = \"STEM\" if map_ind_sub[sub] in stem_subjects else \"Non-STEM\"ab\n",
    "    ax.scatter(pos[0], pos[1], s= count, color=color, label=color, edgecolors='black', linewidth=1)\n",
    "# from matplotlib.lines import Line2D\n",
    "# custom_legend = [Line2D([0], [0], marker='o', color='w', markerfacecolor=colors['STEM'], markersize=10, label='STEM'),\n",
    "#                  Line2D([0], [0], marker='o', color='w', markerfacecolor=colors['Non-STEM'], markersize=10, label='Non-STEM')]\n",
    "\n",
    "# Enhance the plot\n",
    "ax.set_title('Cluster Visualization')\n",
    "ax.set_xlabel('Dimension 1')\n",
    "ax.set_ylabel('Dimension 2')\n",
    "#ax.legend(title='Cluster ID (STEM%)', loc='upper left', bbox_to_anchor=(1, 1))\n",
    "plt.colorbar(scalar_map, ax=ax, label='Percentage of STEM subjects')\n",
    "#ax.legend(handles=custom_legend, loc='lower right', bbox_to_anchor=(1, 1))\n",
    "\n",
    "# Show plot\n",
    "plt.show()\n"
   ]
  },
  {
   "cell_type": "markdown",
   "id": "f3a0927f-98ad-457f-9d4d-ee626c55127a",
   "metadata": {},
   "source": [
    "RBF kernel"
   ]
  },
  {
   "cell_type": "code",
   "execution_count": 358,
   "id": "953b3605-978d-418d-9523-41d753c7940a",
   "metadata": {},
   "outputs": [],
   "source": [
    "gamma = 0.001\n",
    "distance_matrix = distance_matrix_euc\n",
    "#kernel_matrix = np.exp(-gamma * (distance_matrix) ** 2)\n",
    "from sklearn.metrics.pairwise import rbf_kernel\n",
    "kernel_matrix = rbf_kernel(centroids,gamma=gamma)\n",
    "# from sklearn.metrics.pairwise import polynomial_kernel\n",
    "# kernel_matrix = polynomial_kernel(distance_matrix, degree=5)\n",
    "# from sklearn.metrics.pairwise import sigmoid_kernel\n",
    "# kernel_matrix = sigmoid_kernel(distance_matrix,gamma=gamma)\n",
    "from sklearn.metrics.pairwise import linear_kernel\n",
    "kernel_matrix = linear_kernel(centroids)\n",
    "# from sklearn.metrics.pairwise import chi2_kernel\n",
    "# kernel_matrix = chi2_kernel(distance_matrix, gamma=.5)\n",
    "# from sklearn.metrics.pairwise import laplacian_kernel\n",
    "# kernel_matrix = laplacian_kernel(distance_matrix, gamma=gamma)"
   ]
  },
  {
   "cell_type": "code",
   "execution_count": 359,
   "id": "5849b26a-117f-4e06-b6db-bfb1473f888e",
   "metadata": {},
   "outputs": [],
   "source": [
    "kpca = KernelPCA(n_components=2, kernel='precomputed')"
   ]
  },
  {
   "cell_type": "code",
   "execution_count": 361,
   "id": "7a9b261c-ffe1-433c-a1a4-712728155ff3",
   "metadata": {},
   "outputs": [
    {
     "data": {
      "image/png": "[encoded data removed]",
      "text/plain": [
       "<Figure size 640x480 with 2 Axes>"
      ]
     },
     "metadata": {},
     "output_type": "display_data"
    }
   ],
   "source": [
    "# Example dataset and distance matrix\n",
    "data_plot = cluster_sub\n",
    "# distance_matrix = data.log_den_bord\n",
    "\n",
    "# Step 1: Count the points in each cluster\n",
    "cluster_counts = Counter(data_plot[:, 1])\n",
    "\n",
    "# Prepare counts and labels sorted by cluster index\n",
    "clusters, counts = zip(*sorted(cluster_counts.items()))\n",
    "\n",
    "positions = kpca.fit_transform(kernel_matrix)\n",
    "\n",
    "# Step 3: Plot each cluster as a circle with area proportional to the count of points\n",
    "fig, ax = plt.subplots()\n",
    "# colors = {'STEM': 'blue', 'Non-STEM': 'red'}  # Colors for stem and not stem\n",
    "\n",
    "# Normalize the color map based on STEM percentages\n",
    "norm = Normalize(vmin=0, vmax=1)\n",
    "cmap = plt.cm.coolwarm  # You can choose any other colormap as needed\n",
    "scalar_map = ScalarMappable(norm=norm, cmap=cmap)\n",
    "\n",
    "# Convert percentages to colors\n",
    "cluster_colors = scalar_map.to_rgba(most_represented[\"percentage\"])\n",
    "\n",
    "for pos, count, cluster, colors in zip(positions, counts, clusters,cluster_colors ):\n",
    "    # ax.scatter(pos[0], pos[1], s=count, label=f'Cluster {cluster} (n={count})')\n",
    "    # label = \"STEM\" if map_ind_sub[sub] in stem_subjects else \"Non-STEM\"ab\n",
    "    label = \"STEM\" if sub else \"Non-STEM\"\n",
    "    ax.scatter(pos[0], pos[1], s= count, color=colors, label=label, edgecolors='black', linewidth=1)\n",
    "# from matplotlib.lines import Line2D\n",
    "# custom_legend = [Line2D([0], [0], marker='o', color='w', markerfacecolor=colors['STEM'], markersize=10, label='STEM'),\n",
    "#                  Line2D([0], [0], marker='o', color='w', markerfacecolor=colors['Non-STEM'], markersize=10, label='Non-STEM')]\n",
    "\n",
    "# Enhance the plot\n",
    "ax.set_title('Cluster Visualization')\n",
    "ax.set_xlabel('Dimension 1')\n",
    "ax.set_ylabel('Dimension 2')\n",
    "#ax.legend(title='Cluster ID (STEM%)', loc='upper left', bbox_to_anchor=(1, 1))\n",
    "plt.colorbar(scalar_map, ax=ax, label='Percentage of STEM subjects')\n",
    "#ax.legend(handles=custom_legend, loc='lower right', bbox_to_anchor=(1, 1))\n",
    "\n",
    "# Show plot\n",
    "plt.show()"
   ]
  },
  {
   "cell_type": "code",
   "execution_count": 47,
   "id": "580296d0-c0be-4fe6-8a7d-c6b9c8f9b671",
   "metadata": {},
   "outputs": [
    {
     "data": {
      "text/plain": [
       "array([[-34.57, -21.52, -33.57, ..., -33.57, -33.57, -33.57],\n",
       "       [-21.52, -34.57, -25.59, ..., -33.57, -33.57, -33.57],\n",
       "       [-33.57, -25.59, -34.57, ..., -33.57, -33.57, -33.57],\n",
       "       ...,\n",
       "       [-33.57, -33.57, -33.57, ..., -34.57, -33.57, -33.57],\n",
       "       [-33.57, -33.57, -33.57, ..., -33.57, -34.57, -18.78],\n",
       "       [-33.57, -33.57, -33.57, ..., -33.57, -18.78, -34.57]])"
      ]
     },
     "execution_count": 47,
     "metadata": {},
     "output_type": "execute_result"
    }
   ],
   "source": [
    "distance_matrix"
   ]
  },
  {
   "cell_type": "code",
   "execution_count": 85,
   "id": "1a779f4b-5f2f-4dab-94c5-a59bcc5a90fb",
   "metadata": {},
   "outputs": [
    {
     "data": {
      "text/plain": [
       "255"
      ]
     },
     "execution_count": 85,
     "metadata": {},
     "output_type": "execute_result"
    }
   ],
   "source": [
    "len(data.c)"
   ]
  }
 ],
 "metadata": {
  "kernelspec": {
   "display_name": "Python 3 (ipykernel)",
   "language": "python",
   "name": "python3"
  },
  "language_info": {
   "codemirror_mode": {
    "name": "ipython",
    "version": 3
   },
   "file_extension": ".py",
   "mimetype": "text/x-python",
   "name": "python",
   "nbconvert_exporter": "python",
   "pygments_lexer": "ipython3",
   "version": "3.11.7"
  }
 },
 "nbformat": 4,
 "nbformat_minor": 5
}
