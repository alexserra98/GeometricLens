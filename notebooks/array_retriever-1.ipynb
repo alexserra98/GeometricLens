{
 "cells": [
  {
   "cell_type": "code",
   "execution_count": 2,
   "metadata": {},
   "outputs": [
    {
     "name": "stderr",
     "output_type": "stream",
     "text": [
      "/u/dssc/zenocosini/miniconda3/envs/mcqa/lib/python3.11/site-packages/tqdm/auto.py:21: TqdmWarning: IProgress not found. Please update jupyter and ipywidgets. See https://ipywidgets.readthedocs.io/en/stable/user_install.html\n",
      "  from .autonotebook import tqdm as notebook_tqdm\n"
     ]
    }
   ],
   "source": [
    "import sys\n",
    "sys.path.append(\"/u/dssc/zenocosini/helm_suite/MCQA_Benchmark\")\n",
    "from metrics.utils import hidden_states_collapse\n",
    "from metrics.query import DataFrameQuery\n",
    "from common.tensor_storage import TensorStorage\n",
    "from common.metadata_db import MetadataDB\n",
    "from metrics.utils import  exact_match, angular_distance\n",
    "\n",
    "#from sklearn.feature_selection import mutual_info_regression MISSIN?\n",
    "from dadapy.data import Data\n",
    "\n",
    "from pathlib  import Path\n",
    "\n",
    "import numpy as np\n",
    "import pandas as pd\n",
    "from transformers import AutoModelForCausalLM, AutoTokenizer, LlamaForCausalLM, LlamaTokenizer\n",
    "\n",
    "from common.metadata_db import MetadataDB\n",
    "from common.utils import *\n",
    "from pathlib import Path\n",
    "import pickle\n",
    "\n"
   ]
  },
  {
   "cell_type": "markdown",
   "metadata": {},
   "source": [
    "## Functions"
   ]
  },
  {
   "cell_type": "code",
   "execution_count": 4,
   "metadata": {},
   "outputs": [],
   "source": [
    "def set_dataframes(db) -> pd.DataFrame:\n",
    "    \"\"\"\n",
    "    Aggregate in a dataframe the hidden states of all instances\n",
    "    ----------\n",
    "    hidden_states: pd.DataFrame(num_instances, num_layers, model_dim)\n",
    "    \"\"\"\n",
    "    df = pd.read_sql(\"SELECT * FROM metadata\", db.conn)\n",
    "    df[\"train_instances\"] = df[\"train_instances\"].astype(str)\n",
    "    df.drop(columns=[\"id\"],inplace = True)\n",
    "    #import pdb; pdb.set_trace()\n",
    "    df.drop_duplicates(subset = [\"id_instance\"],inplace = True, ignore_index = True) # why there are duplicates???\n",
    "    return df"
   ]
  },
  {
   "cell_type": "code",
   "execution_count": 5,
   "metadata": {},
   "outputs": [],
   "source": [
    "def tensor_retrieve(dict_query):\n",
    "    query = DataFrameQuery(dict_query)\n",
    "    hidden_states,logits, hidden_states_df= hidden_states_collapse(metadata_df,tensor_storage,query)\n",
    "    return hidden_states,logits,hidden_states_df"
   ]
  },
  {
   "cell_type": "code",
   "execution_count": 6,
   "metadata": {},
   "outputs": [],
   "source": [
    "def constructing_labels(label: str, hidden_states_df: pd.DataFrame, hidden_states: np.ndarray) -> np.ndarray:\n",
    "    labels_literals = hidden_states_df[label].unique()\n",
    "    labels_literals.sort()\n",
    "    \n",
    "    map_labels = {class_name: n for n,class_name in enumerate(labels_literals)}\n",
    "    \n",
    "    label_per_row = hidden_states_df[label].reset_index(drop=True)\n",
    "    label_per_row = np.array([map_labels[class_name] for class_name in label_per_row])[:hidden_states.shape[0]]\n",
    "    \n",
    "    return label_per_row, map_labels"
   ]
  },
  {
   "cell_type": "code",
   "execution_count": 7,
   "metadata": {},
   "outputs": [],
   "source": [
    "_PATH = Path(\"/orfeo/scratch/dssc/zenocosini/commonsenseqa_letter_result/\")\n",
    "result_path = Path(_PATH,\"diego\")\n",
    "result_path.mkdir(exist_ok=True,parents=True)\n",
    "metadata_db = MetadataDB(_PATH / \"metadata.db\")\n",
    "metadata_df = set_dataframes(metadata_db)\n",
    "tensor_storage = TensorStorage(Path(_PATH, \"tensor_files\"))\n",
    "\n"
   ]
  },
  {
   "cell_type": "markdown",
   "metadata": {
    "jp-MarkdownHeadingCollapsed": true
   },
   "source": [
    "## Tensor Retrieval"
   ]
  },
  {
   "cell_type": "markdown",
   "metadata": {},
   "source": [
    "### Base model"
   ]
  },
  {
   "cell_type": "code",
   "execution_count": 28,
   "metadata": {},
   "outputs": [],
   "source": [
    "shot = 0"
   ]
  },
  {
   "cell_type": "code",
   "execution_count": 9,
   "metadata": {
    "scrolled": true
   },
   "outputs": [
    {
     "name": "stdout",
     "output_type": "stream",
     "text": [
      "distances-0.npy   distances-31.npy\tdist_indices-22.npy\n",
      "distances-10.npy  distances-32.npy\tdist_indices-23.npy\n",
      "distances-11.npy  distances-3.npy\tdist_indices-24.npy\n",
      "distances-12.npy  distances-4.npy\tdist_indices-25.npy\n",
      "distances-13.npy  distances-5.npy\tdist_indices-26.npy\n",
      "distances-14.npy  distances-6.npy\tdist_indices-27.npy\n",
      "distances-15.npy  distances-7.npy\tdist_indices-28.npy\n",
      "distances-16.npy  distances-8.npy\tdist_indices-29.npy\n",
      "distances-17.npy  distances-9.npy\tdist_indices-2.npy\n",
      "distances-18.npy  distances-logits.npy\tdist_indices-30.npy\n",
      "distances-19.npy  dist_indices-0.npy\tdist_indices-31.npy\n",
      "distances-1.npy   dist_indices-10.npy\tdist_indices-32.npy\n",
      "distances-20.npy  dist_indices-11.npy\tdist_indices-3.npy\n",
      "distances-21.npy  dist_indices-12.npy\tdist_indices-4.npy\n",
      "distances-22.npy  dist_indices-13.npy\tdist_indices-5.npy\n",
      "distances-23.npy  dist_indices-14.npy\tdist_indices-6.npy\n",
      "distances-24.npy  dist_indices-15.npy\tdist_indices-7.npy\n",
      "distances-25.npy  dist_indices-16.npy\tdist_indices-8.npy\n",
      "distances-26.npy  dist_indices-17.npy\tdist_indices-9.npy\n",
      "distances-27.npy  dist_indices-18.npy\tdist_indices-logits.npy\n",
      "distances-28.npy  dist_indices-19.npy\tletter-map\n",
      "distances-29.npy  dist_indices-1.npy\tsubjects-labels.npy\n",
      "distances-2.npy   dist_indices-20.npy\tsubjects-map\n",
      "distances-30.npy  dist_indices-21.npy\n"
     ]
    }
   ],
   "source": [
    "!ls /orfeo/scratch/dssc/zenocosini/mmlu_result/transposed_dataset/llama-7b-base/0"
   ]
  },
  {
   "cell_type": "code",
   "execution_count": 29,
   "metadata": {},
   "outputs": [
    {
     "name": "stdout",
     "output_type": "stream",
     "text": [
      " Tensor retrieval took: 197.59465193748474\n",
      "\n"
     ]
    }
   ],
   "source": [
    "datasets = list(metadata_df[\"dataset\"].unique())\n",
    "dict_query = {\"dataset\":datasets, \n",
    "              \"method\":\"last\",\n",
    "              \"model_name\":\"meta-llama/Llama-2-7b-chat-hf\",\n",
    "              \"train_instances\": shot}\n",
    "hidden_states,logits, hidden_states_df = tensor_retrieve(dict_query)"
   ]
  },
  {
   "cell_type": "code",
   "execution_count": 10,
   "metadata": {},
   "outputs": [
    {
     "data": {
      "text/plain": [
       "(1221, 1, 32000)"
      ]
     },
     "execution_count": 10,
     "metadata": {},
     "output_type": "execute_result"
    }
   ],
   "source": [
    "logits.shape"
   ]
  },
  {
   "cell_type": "code",
   "execution_count": 8,
   "metadata": {},
   "outputs": [],
   "source": [
    "! mkdir -p /orfeo/scratch/dssc/zenocosini/mmlu_result/transposed_dataset/llama-7b-base"
   ]
  },
  {
   "cell_type": "code",
   "execution_count": 11,
   "metadata": {},
   "outputs": [
    {
     "name": "stdout",
     "output_type": "stream",
     "text": [
      "0\n"
     ]
    }
   ],
   "source": [
    "! ls /orfeo/scratch/dssc/zenocosini/mmlu_result/transposed_dataset/llama-7b-base"
   ]
  },
  {
   "cell_type": "code",
   "execution_count": 10,
   "metadata": {},
   "outputs": [],
   "source": [
    "! mkdir -p /orfeo/scratch/dssc/zenocosini/mmlu_result/transposed_dataset/llama-7b-base/0"
   ]
  },
  {
   "cell_type": "code",
   "execution_count": 30,
   "metadata": {},
   "outputs": [],
   "source": [
    "path = Path(_PATH,\"transposed_dataset\",\"llama-7b-chat\",str(shot))\n",
    "path.mkdir(exist_ok=True,parents=True)"
   ]
  },
  {
   "cell_type": "code",
   "execution_count": 31,
   "metadata": {},
   "outputs": [],
   "source": [
    "labels, map_dict = constructing_labels(\"dataset\",hidden_states_df, hidden_states)\n",
    "np.save(Path(path,\"subjects-labels.pkl\"),labels)\n",
    "with open(Path(path,\"subjects-map\"),\"wb\") as f:\n",
    "    pickle.dump(map_dict,f)\n",
    "labels, map_dict = constructing_labels(\"only_ref_pred\",hidden_states_df, hidden_states)\n",
    "with open(Path(path,\"letter-map.pkl\"),\"wb\") as f:\n",
    "    pickle.dump(map_dict,f)\n",
    "np.save(Path(result_path,\"letter-base\"),labels)"
   ]
  },
  {
   "cell_type": "code",
   "execution_count": 32,
   "metadata": {},
   "outputs": [
    {
     "name": "stderr",
     "output_type": "stream",
     "text": [
      "/u/dssc/zenocosini/miniconda3/envs/mcqa/lib/python3.11/site-packages/dadapy/_utils/utils.py:152: UserWarning: There are points with neighbours at 0 distance, meaning the dataset probably has identical points.\n",
      "This can cause problems in various routines.\n",
      "We suggest to either perform smearing of distances using\n",
      "remove_zero_dists()\n",
      "or remove identical points using\n",
      "remove_identical_points()).\n",
      "  warnings.warn(\n"
     ]
    }
   ],
   "source": [
    "dict_nn_matrix = {}\n",
    "dict_nn_matrix_l = {}\n",
    "\n",
    "for layer in range(hidden_states.shape[1]):\n",
    "    data = Data(hidden_states[:,layer,:])\n",
    "    data.compute_distances(maxk=150)\n",
    "    \n",
    "    np.save(Path(path,f\"distances-{layer}\"), data.distances)\n",
    "    np.save(Path(path,f\"dist_indices-{layer}\"), data.dist_indices)\n",
    "    \n",
    " \n"
   ]
  },
  {
   "cell_type": "code",
   "execution_count": 33,
   "metadata": {},
   "outputs": [],
   "source": [
    "data_l = Data(logits[:,0,:])\n",
    "data_l.compute_distances(maxk=150)\n",
    "np.save(Path(path,f\"distances-logits\"), data_l.distances)\n",
    "np.save(Path(path,f\"dist_indices-logits\"), data_l.dist_indices)"
   ]
  },
  {
   "cell_type": "code",
   "execution_count": 23,
   "metadata": {},
   "outputs": [
    {
     "data": {
      "text/plain": [
       "(14015, 151)"
      ]
     },
     "execution_count": 23,
     "metadata": {},
     "output_type": "execute_result"
    }
   ],
   "source": [
    "data.distances.shape"
   ]
  },
  {
   "cell_type": "code",
   "execution_count": 24,
   "metadata": {},
   "outputs": [
    {
     "data": {
      "text/plain": [
       "(14015, 1, 32000)"
      ]
     },
     "execution_count": 24,
     "metadata": {},
     "output_type": "execute_result"
    }
   ],
   "source": [
    "logits.shape"
   ]
  },
  {
   "cell_type": "code",
   "execution_count": 61,
   "metadata": {},
   "outputs": [],
   "source": [
    "with open(Path(result_path,\"llama-7b-base-5shot-dist-matrix.pkl\"),\"wb\") as f:\n",
    "    pickle.dump(dict_nn_matrix,f)"
   ]
  },
  {
   "cell_type": "markdown",
   "metadata": {},
   "source": [
    "### Chat model"
   ]
  },
  {
   "cell_type": "code",
   "execution_count": 65,
   "metadata": {},
   "outputs": [
    {
     "name": "stdout",
     "output_type": "stream",
     "text": [
      " Tensor retrieval took: 161.6436107158661\n",
      "\n"
     ]
    }
   ],
   "source": [
    "datasets = list(metadata_df[\"dataset\"].unique())\n",
    "dict_query = {\"dataset\":datasets, \n",
    "              \"method\":\"last\",\n",
    "              \"model_name\":\"meta-llama/Llama-2-7b-chat-hf\",\n",
    "              \"train_instances\": 5}\n",
    "hidden_states, hidden_states_df = tensor_retrieve(dict_query)"
   ]
  },
  {
   "cell_type": "code",
   "execution_count": 66,
   "metadata": {},
   "outputs": [],
   "source": [
    "np.save(Path(result_path,\"llama-7b-chat-5shot\"), hidden_states)"
   ]
  },
  {
   "cell_type": "code",
   "execution_count": 67,
   "metadata": {},
   "outputs": [],
   "source": [
    "labels, map_labels = constructing_labels(\"dataset\",hidden_states_df, hidden_states)\n",
    "np.save(Path(result_path,\"subjects-chat\"),labels)\n",
    "labels = constructing_labels(\"only_ref_pred\",hidden_states_df, hidden_states)\n",
    "np.save(Path(result_path,\"letter-chat\"),labels)"
   ]
  },
  {
   "cell_type": "code",
   "execution_count": 68,
   "metadata": {},
   "outputs": [],
   "source": [
    "dict_nn_matrix = {}\n",
    "for layer in [6,15,18,29,31]:\n",
    "    data = Data(hidden_states[:,layer,:])\n",
    "    data.compute_distances(maxk=150)\n",
    "    dict_nn_matrix[layer] = (data.distances,data.dist_indices)"
   ]
  },
  {
   "cell_type": "code",
   "execution_count": 69,
   "metadata": {},
   "outputs": [],
   "source": [
    "with open(Path(result_path,\"llama-7b-chat-5shot-dist-matrix.pkl\"),\"wb\") as f:\n",
    "    pickle.dump(dict_nn_matrix,f)"
   ]
  },
  {
   "cell_type": "markdown",
   "metadata": {
    "jp-MarkdownHeadingCollapsed": true
   },
   "source": [
    "## Overlap Correct Answer"
   ]
  },
  {
   "cell_type": "code",
   "execution_count": 5,
   "metadata": {},
   "outputs": [
    {
     "ename": "NameError",
     "evalue": "name 'metadata_df' is not defined",
     "output_type": "error",
     "traceback": [
      "\u001b[0;31m---------------------------------------------------------------------------\u001b[0m",
      "\u001b[0;31mNameError\u001b[0m                                 Traceback (most recent call last)",
      "Cell \u001b[0;32mIn[5], line 1\u001b[0m\n\u001b[0;32m----> 1\u001b[0m exact_matches \u001b[38;5;241m=\u001b[39m \u001b[43mmetadata_df\u001b[49m\u001b[38;5;241m.\u001b[39mapply(\u001b[38;5;28;01mlambda\u001b[39;00m r: exact_match(r[\u001b[38;5;124m\"\u001b[39m\u001b[38;5;124mstd_pred\u001b[39m\u001b[38;5;124m\"\u001b[39m], r[\u001b[38;5;124m\"\u001b[39m\u001b[38;5;124mletter_gold\u001b[39m\u001b[38;5;124m\"\u001b[39m]), axis\u001b[38;5;241m=\u001b[39m\u001b[38;5;241m1\u001b[39m)\n\u001b[1;32m      2\u001b[0m metadata_df[\u001b[38;5;124m\"\u001b[39m\u001b[38;5;124mexact_match\u001b[39m\u001b[38;5;124m\"\u001b[39m] \u001b[38;5;241m=\u001b[39m exact_matches\n\u001b[1;32m      3\u001b[0m metadata_df_correct \u001b[38;5;241m=\u001b[39m metadata_df[metadata_df[\u001b[38;5;124m\"\u001b[39m\u001b[38;5;124mmethod\u001b[39m\u001b[38;5;124m\"\u001b[39m]\u001b[38;5;241m==\u001b[39m\u001b[38;5;124m\"\u001b[39m\u001b[38;5;124mlast\u001b[39m\u001b[38;5;124m\"\u001b[39m]\u001b[38;5;241m.\u001b[39mcopy()\n",
      "\u001b[0;31mNameError\u001b[0m: name 'metadata_df' is not defined"
     ]
    }
   ],
   "source": [
    "exact_matches = metadata_df.apply(lambda r: exact_match(r[\"std_pred\"], r[\"letter_gold\"]), axis=1)\n",
    "metadata_df[\"exact_match\"] = exact_matches\n",
    "metadata_df_correct = metadata_df[metadata_df[\"method\"]==\"last\"].copy()\n",
    "\n",
    "#WHATCH OUT: some instance in medicine realated subject are repeated.\n",
    "metadata_df_correct[\"id_instance\"] = metadata_df_correct.apply(lambda r: r[\"id_instance\"][:92]+r[\"id_instance\"][-1], axis=1)\n",
    "metadata_df_correct.drop_duplicates(subset=[\"id_instance\"],inplace = True)\n",
    "metadata_df_correct[\"id_instance\"] = metadata_df_correct.apply(lambda r: r[\"id_instance\"][:64], axis=1)\n",
    "\n",
    "metadata_df_correct.reset_index(inplace=True)\n",
    "metadata_df_correct.drop(columns=[\"index\"],inplace=True)\n",
    "\n",
    "#creating pivot table\n",
    "metadata_df_correct['match_comb'] = metadata_df_correct.apply(lambda row: f\"{row['model_name']}_{row['train_instances']}\", axis=1)\n",
    "pivot_df = metadata_df_correct.pivot( index='id_instance',columns='match_comb', values='exact_match')\n",
    "pivot_df.reset_index(inplace=True)"
   ]
  },
  {
   "cell_type": "code",
   "execution_count": 108,
   "metadata": {},
   "outputs": [
    {
     "data": {
      "text/plain": [
       "0              meta-llama/Llama-2-7b-hf\n",
       "2              meta-llama/Llama-2-7b-hf\n",
       "4              meta-llama/Llama-2-7b-hf\n",
       "6              meta-llama/Llama-2-7b-hf\n",
       "8              meta-llama/Llama-2-7b-hf\n",
       "                      ...              \n",
       "168170    meta-llama/Llama-2-7b-chat-hf\n",
       "168172    meta-llama/Llama-2-7b-chat-hf\n",
       "168174    meta-llama/Llama-2-7b-chat-hf\n",
       "168176    meta-llama/Llama-2-7b-chat-hf\n",
       "168178    meta-llama/Llama-2-7b-chat-hf\n",
       "Name: model_name, Length: 83622, dtype: object"
      ]
     },
     "execution_count": 108,
     "metadata": {},
     "output_type": "execute_result"
    }
   ],
   "source": [
    "metadata_df_correct[\"model_name\"]"
   ]
  },
  {
   "cell_type": "code",
   "execution_count": 115,
   "metadata": {},
   "outputs": [
    {
     "name": "stdout",
     "output_type": "stream",
     "text": [
      "                                   meta-llama/Llama-2-7b-hf_0    meta-llama/Llama-2-7b-hf_5    meta-llama/Llama-2-7b-chat-hf_0    meta-llama/Llama-2-7b-chat-hf_5\n",
      "-------------------------------  ----------------------------  ----------------------------  ---------------------------------  ---------------------------------\n",
      "meta-llama/Llama-2-7b-hf_0                                1                            36.2                               31.8                               32.4\n",
      "meta-llama/Llama-2-7b-hf_5                               36.2                           1                                 44.6                               47.2\n",
      "meta-llama/Llama-2-7b-chat-hf_0                          31.8                          44.6                                1                                 54.8\n",
      "meta-llama/Llama-2-7b-chat-hf_5                          32.4                          47.2                               54.8                                1\n"
     ]
    }
   ],
   "source": [
    "from tabulate import tabulate\n",
    "cols = [\"meta-llama/Llama-2-7b-hf_0\",\"meta-llama/Llama-2-7b-hf_5\",\"meta-llama/Llama-2-7b-chat-hf_0\",\"meta-llama/Llama-2-7b-chat-hf_5\"]\n",
    "matrix = []\n",
    "for col1 in cols:\n",
    "    for col2 in cols:\n",
    "        if col1==col2:\n",
    "            perc = 1\n",
    "        else:\n",
    "            perc = (pivot_df[[col1,col2]].apply(lambda r: r[col1]==r[col2] and r[col1]==True, axis = 1).sum()/len(pivot_df))*100\n",
    "        matrix.append(perc)\n",
    "matrix = np.array(matrix).reshape([4,4])\n",
    "print(tabulate(matrix, headers=cols,showindex=cols))"
   ]
  },
  {
   "cell_type": "code",
   "execution_count": 16,
   "metadata": {},
   "outputs": [
    {
     "data": {
      "text/plain": [
       "(1221, 32000)"
      ]
     },
     "execution_count": 16,
     "metadata": {},
     "output_type": "execute_result"
    }
   ],
   "source": [
    "logits_i.squeeze(1)"
   ]
  },
  {
   "cell_type": "markdown",
   "metadata": {},
   "source": [
    "## Overlap logits"
   ]
  },
  {
   "cell_type": "code",
   "execution_count": 1,
   "metadata": {},
   "outputs": [],
   "source": [
    "import sys\n",
    "sys.path.append(\"/u/dssc/zenocosini/helm_suite/MCQA_Benchmark\")\n"
   ]
  },
  {
   "cell_type": "code",
   "execution_count": 2,
   "metadata": {},
   "outputs": [
    {
     "name": "stderr",
     "output_type": "stream",
     "text": [
      "/u/dssc/zenocosini/miniconda3/envs/mcqa/lib/python3.11/site-packages/tqdm/auto.py:21: TqdmWarning: IProgress not found. Please update jupyter and ipywidgets. See https://ipywidgets.readthedocs.io/en/stable/user_install.html\n",
      "  from .autonotebook import tqdm as notebook_tqdm\n"
     ]
    }
   ],
   "source": [
    "from metrics.utils import hidden_states_collapse\n",
    "from metrics.query import DataFrameQuery\n",
    "from common.tensor_storage import TensorStorage\n",
    "from common.metadata_db import MetadataDB\n",
    "from metrics.utils import  exact_match, angular_distance\n",
    "\n",
    "#from sklearn.feature_selection import mutual_info_regression MISSIN?\n",
    "from dadapy.data import Data\n",
    "\n",
    "from pathlib  import Path\n",
    "\n",
    "import numpy as np\n",
    "import pandas as pd\n",
    "from transformers import AutoModelForCausalLM, AutoTokenizer, LlamaForCausalLM, LlamaTokenizer\n",
    "\n",
    "from common.metadata_db import MetadataDB\n",
    "from common.utils import *\n",
    "from pathlib import Path\n",
    "import pickle"
   ]
  },
  {
   "cell_type": "code",
   "execution_count": 8,
   "metadata": {},
   "outputs": [],
   "source": [
    "_PATH = Path(\"/orfeo/scratch/dssc/zenocosini/mmlu_result/\")\n",
    "result_path = Path(_PATH,\"diego\")\n",
    "result_path.mkdir(exist_ok=True,parents=True)\n",
    "metadata_db = MetadataDB(_PATH / \"metadata.db\")\n",
    "metadata_df = set_dataframes(metadata_db)\n",
    "tensor_storage = TensorStorage(Path(_PATH, \"tensor_files\"))\n",
    "\n"
   ]
  },
  {
   "cell_type": "code",
   "execution_count": 9,
   "metadata": {},
   "outputs": [
    {
     "name": "stderr",
     "output_type": "stream",
     "text": [
      "You are using the default legacy behaviour of the <class 'transformers.models.llama.tokenization_llama.LlamaTokenizer'>. This is expected, and simply means that the `legacy` (previous) behavior will be used so nothing changes for you. If you want to use the new behaviour, set `legacy=False`. This should only be set if you understand what it means, and thoroughly read the reason why this was added as explained in https://github.com/huggingface/transformers/pull/24565\n"
     ]
    }
   ],
   "source": [
    "tokenizer = LlamaTokenizer.from_pretrained(\"meta-llama/Llama-2-7b\")\n",
    "index_letter = [tokenizer.encode(letter)[1] for letter in [\"A\",\"B\",\"C\",\"D\"]]"
   ]
  },
  {
   "cell_type": "code",
   "execution_count": 10,
   "metadata": {},
   "outputs": [],
   "source": [
    "def angular_distance(mat):\n",
    "    \"\"\"\n",
    "    Computes distance based on angles between vectors, over the rows of the matrix\n",
    "    \"\"\"\n",
    "    dot_product = mat @ mat.T\n",
    "    norm_vector = np.linalg.norm(mat, axis=1)\n",
    "    stacked_vector = np.tile(norm_vector, (mat.shape[0], 1))\n",
    "    norm_product = stacked_vector.T*stacked_vector\n",
    "\n",
    "    cosine_similarity = dot_product / norm_product\n",
    "    cosine_similarity = np.clip(cosine_similarity, -1, 1)\n",
    "    distances = np.arccos(cosine_similarity) / np.pi\n",
    "    #distances = np.arccos(cosine_similarity) / np.pi\n",
    "    #distances.sort(axis=1)\n",
    "    return distances"
   ]
  },
  {
   "cell_type": "code",
   "execution_count": 37,
   "metadata": {},
   "outputs": [],
   "source": [
    "def overlap_computer(logits_1,logits_2, cosine = \"False\", k=30):\n",
    "    if cosine:\n",
    "        distances_1 = angular_distance(logits_1)\n",
    "        distances_2 = angular_distance(logits_2)\n",
    "        data = Data(distances=distances_1, maxk=600)\n",
    "        #data.compute_neigh_indices()\n",
    "        overlap = data.return_data_overlap(distances=distances_2, k=k)\n",
    "    else:\n",
    "        data = Data(logits_1,maxk=100)\n",
    "        overlap = data.return_data_overlap(logits_2, k=k)\n",
    "    print(f'{overlap=}')\n",
    "    return overlap"
   ]
  },
  {
   "cell_type": "code",
   "execution_count": 12,
   "metadata": {},
   "outputs": [],
   "source": [
    "def softmax(x):\n",
    "    exp_values = np.exp(x)# - np.max(x, axis=-1, keepdims=True))\n",
    "    probabilities = exp_values / np.sum(exp_values, axis=-1, keepdims=True)\n",
    "    return probabilities"
   ]
  },
  {
   "cell_type": "markdown",
   "metadata": {},
   "source": [
    "Setup"
   ]
  },
  {
   "cell_type": "code",
   "execution_count": 14,
   "metadata": {},
   "outputs": [],
   "source": [
    "def setup(dict_query_i, dict_query_j):\n",
    "\n",
    "    hidden_states_i, logits_i, df_i = tensor_retrieve(dict_query_i)\n",
    "    hidden_states_j,logits_j, df_j = tensor_retrieve(dict_query_j)\n",
    "    df_i[\"exact_match\"] = df_i.apply(lambda r: exact_match(r[\"std_pred\"], r[\"letter_gold\"]), axis=1)\n",
    "    df_j[\"exact_match\"] = df_j.apply(lambda r: exact_match(r[\"std_pred\"], r[\"letter_gold\"]), axis=1)\n",
    "    \n",
    "    df_i.reset_index(inplace=True)\n",
    "    df_j.reset_index(inplace=True)\n",
    "    df_i.drop(\"index\", axis=1,inplace=True)\n",
    "    df_j.drop(\"index\", axis=1,inplace=True)\n",
    "    # find the index of rows that have \"exact_match\" True in both df_i and df_j\n",
    "    indices_i = df_i[df_i[\"exact_match\"] == True].index\n",
    "    indices_j = df_j[df_j[\"exact_match\"] == True].index\n",
    "    \n",
    "    # find the intersection of the two sets of indices\n",
    "    indices = indices_i.intersection(indices_j)\n",
    "    logits_i = logits_i.squeeze(1)\n",
    "    logits_j = logits_j.squeeze(1)\n",
    "    logits_i = logits_i[indices]\n",
    "    logits_j = logits_j[indices]\n",
    "    logits_i_only_letter = logits_i[:,index_letter]\n",
    "    logits_j_only_letter = logits_j[:,index_letter]\n",
    "    return ((logits_i, logits_j), (logits_i_only_letter, logits_j_only_letter))"
   ]
  },
  {
   "cell_type": "code",
   "execution_count": 10,
   "metadata": {},
   "outputs": [],
   "source": [
    "def logits_overlap(dict_query_i,dict_query_j):\n",
    "    standard_logits, letter_logits = setup(dict_query_i,dict_query_j)\n",
    "    dict_result = {}\n",
    "    logits_i,logits_j = standard_logits\n",
    "    #softmax cosine   \n",
    "    softmx_i = softmax(logits_i)\n",
    "    softmx_j = softmax(logits_j)\n",
    "    print(\"Computing softmax cosine\")\n",
    "    dict_result[\"softmax-cosine\"] =  overlap_computer(softmx_i,softmx_j, cosine=True, k=500)\n",
    "    #softmx_norm\n",
    "    print(\"Computing softmax norm\")\n",
    "    logits_i_norm = logits_i/np.linalg.norm(logits_i,axis=1, ord=1, keepdims=True)  \n",
    "    logits_j_norm = logits_j/np.linalg.norm(logits_j,axis=1, ord=1, keepdims=True)\n",
    "    softmx_i_norm = softmax(logits_i_norm)\n",
    "    softmx_j_norm = softmax(logits_j_norm)\n",
    "    dict_result[\"softmax-norm\"] =  overlap_computer(softmx_i_norm,softmx_j_norm, cosine=False, k=500)\n",
    "    #softmax standard\n",
    "    print(\"Computing softmax standard\")\n",
    "    dict_result[\"softmax-std\"] =  overlap_computer(softmx_i,softmx_j, cosine=False, k=500)\n",
    "    #standard\n",
    "    print(\"Computing standard\")\n",
    "    dict_result[\"std\"] =  overlap_computer(logits_i,logits_j, cosine=False, k=500)\n",
    "    return dict_result\n",
    "    "
   ]
  },
  {
   "cell_type": "code",
   "execution_count": 15,
   "metadata": {
    "scrolled": true
   },
   "outputs": [
    {
     "name": "stdout",
     "output_type": "stream",
     "text": [
      " Tensor retrieval took: 11.553614139556885\n",
      "\n",
      " Tensor retrieval took: 8.045417070388794\n",
      "\n"
     ]
    },
    {
     "name": "stderr",
     "output_type": "stream",
     "text": [
      "/tmp/ipykernel_1528525/2795238491.py:5: SettingWithCopyWarning: \n",
      "A value is trying to be set on a copy of a slice from a DataFrame.\n",
      "Try using .loc[row_indexer,col_indexer] = value instead\n",
      "\n",
      "See the caveats in the documentation: https://pandas.pydata.org/pandas-docs/stable/user_guide/indexing.html#returning-a-view-versus-a-copy\n",
      "  df_i[\"exact_match\"] = df_i.apply(lambda r: exact_match(r[\"std_pred\"], r[\"letter_gold\"]), axis=1)\n",
      "/tmp/ipykernel_1528525/2795238491.py:6: SettingWithCopyWarning: \n",
      "A value is trying to be set on a copy of a slice from a DataFrame.\n",
      "Try using .loc[row_indexer,col_indexer] = value instead\n",
      "\n",
      "See the caveats in the documentation: https://pandas.pydata.org/pandas-docs/stable/user_guide/indexing.html#returning-a-view-versus-a-copy\n",
      "  df_j[\"exact_match\"] = df_j.apply(lambda r: exact_match(r[\"std_pred\"], r[\"letter_gold\"]), axis=1)\n",
      "/tmp/ipykernel_1528525/2795238491.py:10: SettingWithCopyWarning: \n",
      "A value is trying to be set on a copy of a slice from a DataFrame\n",
      "\n",
      "See the caveats in the documentation: https://pandas.pydata.org/pandas-docs/stable/user_guide/indexing.html#returning-a-view-versus-a-copy\n",
      "  df_i.drop(\"index\", axis=1,inplace=True)\n",
      "/tmp/ipykernel_1528525/2795238491.py:11: SettingWithCopyWarning: \n",
      "A value is trying to be set on a copy of a slice from a DataFrame\n",
      "\n",
      "See the caveats in the documentation: https://pandas.pydata.org/pandas-docs/stable/user_guide/indexing.html#returning-a-view-versus-a-copy\n",
      "  df_j.drop(\"index\", axis=1,inplace=True)\n"
     ]
    }
   ],
   "source": [
    "dict_query_i = {\"method\":\"last\",\n",
    "              \"model_name\":\"meta-llama/Llama-2-7b-hf\",\n",
    "              \"train_instances\": 5}\n",
    "dict_query_j = {\"method\":\"last\",\n",
    "              \"model_name\":\"meta-llama/Llama-2-7b-hf\",\n",
    "              \"train_instances\": 0}\n",
    "standard_logits, letter_logits = setup(dict_query_i,dict_query_j)"
   ]
  },
  {
   "cell_type": "code",
   "execution_count": 16,
   "metadata": {},
   "outputs": [],
   "source": [
    "logits_i,logits_j = standard_logits"
   ]
  },
  {
   "cell_type": "code",
   "execution_count": 17,
   "metadata": {},
   "outputs": [
    {
     "name": "stderr",
     "output_type": "stream",
     "text": [
      "/orfeo/cephfs/home/dssc/zenocosini/helm_suite/DADApy/dadapy/kstar.py:101: UserWarning: Careful! The intrinsic dimension is not defined. Computing it unsupervisedly with 'compute_id_2NN()' method\n",
      "  warnings.warn(\n"
     ]
    },
    {
     "name": "stdout",
     "output_type": "stream",
     "text": [
      "overlap=0.28964559532876366\n"
     ]
    },
    {
     "data": {
      "text/plain": [
       "0.28964559532876366"
      ]
     },
     "execution_count": 17,
     "metadata": {},
     "output_type": "execute_result"
    }
   ],
   "source": [
    "overlap_computer(logits_i,logits_j, cosine=True, k=500)"
   ]
  },
  {
   "cell_type": "code",
   "execution_count": 18,
   "metadata": {},
   "outputs": [],
   "source": [
    "logits_i_norm = logits_i/np.linalg.norm(logits_i,axis=1, ord=1, keepdims=True)  \n",
    "logits_j_norm = logits_j/np.linalg.norm(logits_j,axis=1, ord=1, keepdims=True)"
   ]
  },
  {
   "cell_type": "code",
   "execution_count": null,
   "metadata": {},
   "outputs": [],
   "source": [
    "overlap_norm = overlap_computer(logits_i_norm,logits_j_norm, cosine=False, k=500)"
   ]
  },
  {
   "cell_type": "code",
   "execution_count": 21,
   "metadata": {},
   "outputs": [
    {
     "data": {
      "text/plain": [
       "0.286995684183803"
      ]
     },
     "execution_count": 21,
     "metadata": {},
     "output_type": "execute_result"
    }
   ],
   "source": [
    "overlap_norm"
   ]
  },
  {
   "cell_type": "code",
   "execution_count": 25,
   "metadata": {},
   "outputs": [
    {
     "name": "stdout",
     "output_type": "stream",
     "text": [
      " Tensor retrieval took: 10.462408542633057\n",
      "\n",
      " Tensor retrieval took: 8.450390100479126\n",
      "\n"
     ]
    },
    {
     "name": "stderr",
     "output_type": "stream",
     "text": [
      "/tmp/ipykernel_1528525/2795238491.py:5: SettingWithCopyWarning: \n",
      "A value is trying to be set on a copy of a slice from a DataFrame.\n",
      "Try using .loc[row_indexer,col_indexer] = value instead\n",
      "\n",
      "See the caveats in the documentation: https://pandas.pydata.org/pandas-docs/stable/user_guide/indexing.html#returning-a-view-versus-a-copy\n",
      "  df_i[\"exact_match\"] = df_i.apply(lambda r: exact_match(r[\"std_pred\"], r[\"letter_gold\"]), axis=1)\n",
      "/tmp/ipykernel_1528525/2795238491.py:6: SettingWithCopyWarning: \n",
      "A value is trying to be set on a copy of a slice from a DataFrame.\n",
      "Try using .loc[row_indexer,col_indexer] = value instead\n",
      "\n",
      "See the caveats in the documentation: https://pandas.pydata.org/pandas-docs/stable/user_guide/indexing.html#returning-a-view-versus-a-copy\n",
      "  df_j[\"exact_match\"] = df_j.apply(lambda r: exact_match(r[\"std_pred\"], r[\"letter_gold\"]), axis=1)\n",
      "/tmp/ipykernel_1528525/2795238491.py:10: SettingWithCopyWarning: \n",
      "A value is trying to be set on a copy of a slice from a DataFrame\n",
      "\n",
      "See the caveats in the documentation: https://pandas.pydata.org/pandas-docs/stable/user_guide/indexing.html#returning-a-view-versus-a-copy\n",
      "  df_i.drop(\"index\", axis=1,inplace=True)\n",
      "/tmp/ipykernel_1528525/2795238491.py:11: SettingWithCopyWarning: \n",
      "A value is trying to be set on a copy of a slice from a DataFrame\n",
      "\n",
      "See the caveats in the documentation: https://pandas.pydata.org/pandas-docs/stable/user_guide/indexing.html#returning-a-view-versus-a-copy\n",
      "  df_j.drop(\"index\", axis=1,inplace=True)\n"
     ]
    }
   ],
   "source": [
    "dict_query_i = {\"method\":\"last\",\n",
    "              \"model_name\":\"meta-llama/Llama-2-7b-hf\",\n",
    "              \"train_instances\": 5}\n",
    "dict_query_j = {\"method\":\"last\",\n",
    "              \"model_name\":\"meta-llama/Llama-2-7b-chat-hf\",\n",
    "              \"train_instances\": 0}\n",
    "standard_logits, letter_logits = setup(dict_query_i,dict_query_j)"
   ]
  },
  {
   "cell_type": "code",
   "execution_count": 44,
   "metadata": {},
   "outputs": [
    {
     "name": "stdout",
     "output_type": "stream",
     "text": [
      "overlap=0.34917683465959326\n"
     ]
    },
    {
     "data": {
      "text/plain": [
       "0.34917683465959326"
      ]
     },
     "execution_count": 44,
     "metadata": {},
     "output_type": "execute_result"
    }
   ],
   "source": [
    "logits_i,logits_j = standard_logits\n",
    "overlap_computer(logits_i,logits_j, cosine=True, k=500)"
   ]
  },
  {
   "cell_type": "code",
   "execution_count": null,
   "metadata": {},
   "outputs": [],
   "source": [
    "logits_i_norm = logits_i/np.linalg.norm(logits_i,axis=1, ord=2, keepdims=True)  \n",
    "logits_j_norm = logits_j/np.linalg.norm(logits_j,axis=1, ord=2, keepdims=True)\n",
    "overlap_norm = overlap_computer(logits_i_norm,logits_j_norm, cosine=False, k=500)"
   ]
  },
  {
   "cell_type": "code",
   "execution_count": 47,
   "metadata": {},
   "outputs": [
    {
     "data": {
      "text/plain": [
       "0.3491746242263484"
      ]
     },
     "execution_count": 47,
     "metadata": {},
     "output_type": "execute_result"
    }
   ],
   "source": [
    "overlap_norm"
   ]
  },
  {
   "cell_type": "code",
   "execution_count": null,
   "metadata": {},
   "outputs": [],
   "source": [
    "overlap = overlap_computer(logits_i,logits_j, cosine=False, k=500)"
   ]
  },
  {
   "cell_type": "code",
   "execution_count": 48,
   "metadata": {},
   "outputs": [
    {
     "data": {
      "text/plain": [
       "0.3188549955791335"
      ]
     },
     "execution_count": 48,
     "metadata": {},
     "output_type": "execute_result"
    }
   ],
   "source": [
    "overlap"
   ]
  },
  {
   "cell_type": "code",
   "execution_count": 15,
   "metadata": {},
   "outputs": [
    {
     "name": "stdout",
     "output_type": "stream",
     "text": [
      " Tensor retrieval took: 201.71871066093445\n",
      "\n",
      " Tensor retrieval took: 8.206757307052612\n",
      "\n"
     ]
    },
    {
     "name": "stderr",
     "output_type": "stream",
     "text": [
      "/tmp/ipykernel_1430747/2795238491.py:5: SettingWithCopyWarning: \n",
      "A value is trying to be set on a copy of a slice from a DataFrame.\n",
      "Try using .loc[row_indexer,col_indexer] = value instead\n",
      "\n",
      "See the caveats in the documentation: https://pandas.pydata.org/pandas-docs/stable/user_guide/indexing.html#returning-a-view-versus-a-copy\n",
      "  df_i[\"exact_match\"] = df_i.apply(lambda r: exact_match(r[\"std_pred\"], r[\"letter_gold\"]), axis=1)\n",
      "/tmp/ipykernel_1430747/2795238491.py:6: SettingWithCopyWarning: \n",
      "A value is trying to be set on a copy of a slice from a DataFrame.\n",
      "Try using .loc[row_indexer,col_indexer] = value instead\n",
      "\n",
      "See the caveats in the documentation: https://pandas.pydata.org/pandas-docs/stable/user_guide/indexing.html#returning-a-view-versus-a-copy\n",
      "  df_j[\"exact_match\"] = df_j.apply(lambda r: exact_match(r[\"std_pred\"], r[\"letter_gold\"]), axis=1)\n",
      "/tmp/ipykernel_1430747/2795238491.py:10: SettingWithCopyWarning: \n",
      "A value is trying to be set on a copy of a slice from a DataFrame\n",
      "\n",
      "See the caveats in the documentation: https://pandas.pydata.org/pandas-docs/stable/user_guide/indexing.html#returning-a-view-versus-a-copy\n",
      "  df_i.drop(\"index\", axis=1,inplace=True)\n",
      "/tmp/ipykernel_1430747/2795238491.py:11: SettingWithCopyWarning: \n",
      "A value is trying to be set on a copy of a slice from a DataFrame\n",
      "\n",
      "See the caveats in the documentation: https://pandas.pydata.org/pandas-docs/stable/user_guide/indexing.html#returning-a-view-versus-a-copy\n",
      "  df_j.drop(\"index\", axis=1,inplace=True)\n"
     ]
    },
    {
     "name": "stdout",
     "output_type": "stream",
     "text": [
      "Computing standard\n",
      "overlap=0.39740898345153663\n",
      "Computing softmax standard\n",
      "overlap=0.5114031642116749\n",
      "Computing softmax cosine\n",
      "overlap=0.5367288597926896\n",
      "Computing softmax norm\n",
      "overlap=0.4791936715766503\n"
     ]
    }
   ],
   "source": [
    "dict_query_i = {\"method\":\"last\",\n",
    "              \"model_name\":\"meta-llama/Llama-2-7b-chat-hf\",\n",
    "              \"train_instances\": 5}\n",
    "dict_query_j = {\"method\":\"last\",\n",
    "              \"model_name\":\"meta-llama/Llama-2-7b-chat-hf\",\n",
    "              \"train_instances\": 0}\n",
    "result_3 = logits_overlap(dict_query_i, dict_query_j)"
   ]
  },
  {
   "cell_type": "code",
   "execution_count": 17,
   "metadata": {},
   "outputs": [
    {
     "name": "stdout",
     "output_type": "stream",
     "text": [
      " Tensor retrieval took: 9.75747561454773\n",
      "\n",
      " Tensor retrieval took: 256.61804580688477\n",
      "\n"
     ]
    },
    {
     "name": "stderr",
     "output_type": "stream",
     "text": [
      "/tmp/ipykernel_1430747/2795238491.py:5: SettingWithCopyWarning: \n",
      "A value is trying to be set on a copy of a slice from a DataFrame.\n",
      "Try using .loc[row_indexer,col_indexer] = value instead\n",
      "\n",
      "See the caveats in the documentation: https://pandas.pydata.org/pandas-docs/stable/user_guide/indexing.html#returning-a-view-versus-a-copy\n",
      "  df_i[\"exact_match\"] = df_i.apply(lambda r: exact_match(r[\"std_pred\"], r[\"letter_gold\"]), axis=1)\n",
      "/tmp/ipykernel_1430747/2795238491.py:6: SettingWithCopyWarning: \n",
      "A value is trying to be set on a copy of a slice from a DataFrame.\n",
      "Try using .loc[row_indexer,col_indexer] = value instead\n",
      "\n",
      "See the caveats in the documentation: https://pandas.pydata.org/pandas-docs/stable/user_guide/indexing.html#returning-a-view-versus-a-copy\n",
      "  df_j[\"exact_match\"] = df_j.apply(lambda r: exact_match(r[\"std_pred\"], r[\"letter_gold\"]), axis=1)\n",
      "/tmp/ipykernel_1430747/2795238491.py:10: SettingWithCopyWarning: \n",
      "A value is trying to be set on a copy of a slice from a DataFrame\n",
      "\n",
      "See the caveats in the documentation: https://pandas.pydata.org/pandas-docs/stable/user_guide/indexing.html#returning-a-view-versus-a-copy\n",
      "  df_i.drop(\"index\", axis=1,inplace=True)\n",
      "/tmp/ipykernel_1430747/2795238491.py:11: SettingWithCopyWarning: \n",
      "A value is trying to be set on a copy of a slice from a DataFrame\n",
      "\n",
      "See the caveats in the documentation: https://pandas.pydata.org/pandas-docs/stable/user_guide/indexing.html#returning-a-view-versus-a-copy\n",
      "  df_j.drop(\"index\", axis=1,inplace=True)\n"
     ]
    },
    {
     "name": "stdout",
     "output_type": "stream",
     "text": [
      "Computing standard\n",
      "overlap=0.5884975462438655\n",
      "Computing softmax standard\n",
      "overlap=0.6475130237825595\n",
      "Computing softmax cosine\n",
      "overlap=0.6504326160815402\n",
      "Computing softmax norm\n",
      "overlap=0.6430403926009814\n"
     ]
    }
   ],
   "source": [
    "dict_query_i = {\"method\":\"last\",\n",
    "              \"model_name\":\"meta-llama/Llama-2-7b-hf\",\n",
    "              \"train_instances\": 5}\n",
    "dict_query_j = {\"method\":\"last\",\n",
    "              \"model_name\":\"meta-llama/Llama-2-7b-hf\",\n",
    "              \"train_instances\": 2}\n",
    "result_1 = logits_overlap(dict_query_i, dict_query_j)"
   ]
  },
  {
   "cell_type": "markdown",
   "metadata": {},
   "source": [
    "COSINE"
   ]
  },
  {
   "cell_type": "code",
   "execution_count": 192,
   "metadata": {},
   "outputs": [],
   "source": []
  },
  {
   "cell_type": "code",
   "execution_count": 198,
   "metadata": {},
   "outputs": [],
   "source": [
    "softmx_i = softmax(logits_i)\n",
    "softmx_j = softmax(logits_j)\n",
    "softmx_i_norm = softmax(logits_i_norm)\n",
    "softmx_j_norm = softmax(logits_j_norm)"
   ]
  },
  {
   "cell_type": "code",
   "execution_count": 199,
   "metadata": {},
   "outputs": [
    {
     "name": "stdout",
     "output_type": "stream",
     "text": [
      "overlap=0.5096862147753237\n"
     ]
    },
    {
     "data": {
      "text/plain": [
       "0.5096862147753237"
      ]
     },
     "execution_count": 199,
     "metadata": {},
     "output_type": "execute_result"
    }
   ],
   "source": [
    "overlap_computer(softmx_i,softmx_j, cosine=True, k=500)"
   ]
  },
  {
   "cell_type": "code",
   "execution_count": 200,
   "metadata": {},
   "outputs": [
    {
     "name": "stdout",
     "output_type": "stream",
     "text": [
      "overlap=0.27882305153592285\n"
     ]
    },
    {
     "data": {
      "text/plain": [
       "0.27882305153592285"
      ]
     },
     "execution_count": 200,
     "metadata": {},
     "output_type": "execute_result"
    }
   ],
   "source": [
    "overlap_computer(logits_i,logits_j, cosine=False, k=500)"
   ]
  },
  {
   "cell_type": "code",
   "execution_count": 201,
   "metadata": {},
   "outputs": [
    {
     "name": "stdout",
     "output_type": "stream",
     "text": [
      "overlap=0.4969256156384869\n"
     ]
    },
    {
     "data": {
      "text/plain": [
       "0.4969256156384869"
      ]
     },
     "execution_count": 201,
     "metadata": {},
     "output_type": "execute_result"
    }
   ],
   "source": [
    "overlap_computer(softmx_i,softmx_j, cosine=False, k=500)"
   ]
  },
  {
   "cell_type": "code",
   "execution_count": 202,
   "metadata": {},
   "outputs": [
    {
     "name": "stdout",
     "output_type": "stream",
     "text": [
      "overlap=0.35662553947702463\n"
     ]
    },
    {
     "data": {
      "text/plain": [
       "0.35662553947702463"
      ]
     },
     "execution_count": 202,
     "metadata": {},
     "output_type": "execute_result"
    }
   ],
   "source": [
    "overlap_computer(softmx_i_norm,softmx_j_norm, cosine=False, k=500)"
   ]
  },
  {
   "cell_type": "markdown",
   "metadata": {},
   "source": [
    "Test"
   ]
  },
  {
   "cell_type": "code",
   "execution_count": 163,
   "metadata": {},
   "outputs": [],
   "source": [
    "mx_index_i = np.argmax(logits_i,axis=1)\n",
    "mx_index_j = np.argmax(logits_j,axis=1)"
   ]
  },
  {
   "cell_type": "code",
   "execution_count": 165,
   "metadata": {},
   "outputs": [],
   "source": [
    "argmx_i = np.zeros([4524,3200])\n",
    "argmx_i[mx_index_i] = 1\n",
    "argmx_j = np.zeros([4524,3200])\n",
    "argmx_j[mx_index_j] = 1"
   ]
  },
  {
   "cell_type": "code",
   "execution_count": 172,
   "metadata": {},
   "outputs": [
    {
     "data": {
      "text/plain": [
       "0.37634236"
      ]
     },
     "execution_count": 172,
     "metadata": {},
     "output_type": "execute_result"
    }
   ],
   "source": [
    "np.linalg.norm(softmx_i[0]-softmx_j[0])"
   ]
  },
  {
   "cell_type": "code",
   "execution_count": 179,
   "metadata": {},
   "outputs": [
    {
     "data": {
      "text/plain": [
       "(4524, 32000)"
      ]
     },
     "execution_count": 179,
     "metadata": {},
     "output_type": "execute_result"
    }
   ],
   "source": [
    "softmx_i.shape"
   ]
  },
  {
   "cell_type": "code",
   "execution_count": 181,
   "metadata": {},
   "outputs": [],
   "source": [
    "data = Data(softmx_i,maxk=1000)\n",
    "overlap = data.return_data_overlap(softmx_j, k=500)"
   ]
  },
  {
   "cell_type": "code",
   "execution_count": 182,
   "metadata": {},
   "outputs": [
    {
     "data": {
      "text/plain": [
       "0.48004288240495135"
      ]
     },
     "execution_count": 182,
     "metadata": {},
     "output_type": "execute_result"
    }
   ],
   "source": [
    "overlap"
   ]
  },
  {
   "cell_type": "markdown",
   "metadata": {},
   "source": [
    "### Test"
   ]
  },
  {
   "cell_type": "code",
   "execution_count": 183,
   "metadata": {},
   "outputs": [
    {
     "name": "stdout",
     "output_type": "stream",
     "text": [
      " Tensor retrieval took: 84.841481924057\n",
      "\n",
      " Tensor retrieval took: 245.30576395988464\n",
      "\n"
     ]
    },
    {
     "name": "stderr",
     "output_type": "stream",
     "text": [
      "/tmp/ipykernel_3488545/2795238491.py:5: SettingWithCopyWarning: \n",
      "A value is trying to be set on a copy of a slice from a DataFrame.\n",
      "Try using .loc[row_indexer,col_indexer] = value instead\n",
      "\n",
      "See the caveats in the documentation: https://pandas.pydata.org/pandas-docs/stable/user_guide/indexing.html#returning-a-view-versus-a-copy\n",
      "  df_i[\"exact_match\"] = df_i.apply(lambda r: exact_match(r[\"std_pred\"], r[\"letter_gold\"]), axis=1)\n",
      "/tmp/ipykernel_3488545/2795238491.py:6: SettingWithCopyWarning: \n",
      "A value is trying to be set on a copy of a slice from a DataFrame.\n",
      "Try using .loc[row_indexer,col_indexer] = value instead\n",
      "\n",
      "See the caveats in the documentation: https://pandas.pydata.org/pandas-docs/stable/user_guide/indexing.html#returning-a-view-versus-a-copy\n",
      "  df_j[\"exact_match\"] = df_j.apply(lambda r: exact_match(r[\"std_pred\"], r[\"letter_gold\"]), axis=1)\n",
      "/tmp/ipykernel_3488545/2795238491.py:10: SettingWithCopyWarning: \n",
      "A value is trying to be set on a copy of a slice from a DataFrame\n",
      "\n",
      "See the caveats in the documentation: https://pandas.pydata.org/pandas-docs/stable/user_guide/indexing.html#returning-a-view-versus-a-copy\n",
      "  df_i.drop(\"index\", axis=1,inplace=True)\n",
      "/tmp/ipykernel_3488545/2795238491.py:11: SettingWithCopyWarning: \n",
      "A value is trying to be set on a copy of a slice from a DataFrame\n",
      "\n",
      "See the caveats in the documentation: https://pandas.pydata.org/pandas-docs/stable/user_guide/indexing.html#returning-a-view-versus-a-copy\n",
      "  df_j.drop(\"index\", axis=1,inplace=True)\n"
     ]
    }
   ],
   "source": [
    "dict_query_i = {\"method\":\"last\",\n",
    "              \"model_name\":\"meta-llama/Llama-2-7b-hf\",\n",
    "              \"train_instances\": 5}\n",
    "dict_query_j = {\"method\":\"last\",\n",
    "              \"model_name\":\"meta-llama/Llama-2-7b-chat-hf\",\n",
    "              \"train_instances\": 0}\n",
    "standard_logits, letter_logits = setup(dict_query_i, dict_query_j)"
   ]
  },
  {
   "cell_type": "code",
   "execution_count": 187,
   "metadata": {},
   "outputs": [],
   "source": [
    "logits_i,logits_j = standard_logits\n",
    "logits_i_norm = logits_i/np.linalg.norm(logits_i,axis=1, ord=2, keepdims=True)  \n",
    "logits_j_norm = logits_j/np.linalg.norm(logits_j,axis=1, ord=2, keepdims=True)"
   ]
  },
  {
   "cell_type": "code",
   "execution_count": 110,
   "metadata": {},
   "outputs": [],
   "source": [
    "data_in = Data(logits_i_norm*1000)\n",
    "dist_in = data_in.compute_distances()"
   ]
  },
  {
   "cell_type": "code",
   "execution_count": 111,
   "metadata": {},
   "outputs": [],
   "source": [
    "dist_ind_in = data_in.dist_indices"
   ]
  },
  {
   "cell_type": "code",
   "execution_count": 112,
   "metadata": {},
   "outputs": [
    {
     "name": "stderr",
     "output_type": "stream",
     "text": [
      "/orfeo/cephfs/home/dssc/zenocosini/helm_suite/DADApy/dadapy/kstar.py:101: UserWarning: Careful! The intrinsic dimension is not defined. Computing it unsupervisedly with 'compute_id_2NN()' method\n",
      "  warnings.warn(\n"
     ]
    }
   ],
   "source": [
    "dist_i = angular_distance(logits_i)\n",
    "data_i = Data(distances=dist_i)\n",
    "dist_i = data_i.compute_neigh_indices()\n",
    "dist_ind_i = data_i.dist_indices"
   ]
  },
  {
   "cell_type": "code",
   "execution_count": 120,
   "metadata": {},
   "outputs": [
    {
     "data": {
      "text/plain": [
       "False"
      ]
     },
     "execution_count": 120,
     "metadata": {},
     "output_type": "execute_result"
    }
   ],
   "source": [
    "#test = logits_i[0]/np.linalg.norm(logits_i[0], ord=1)\n",
    "np.allclose(dist_ind_i[:,1], dist_ind_in[:,1])"
   ]
  },
  {
   "cell_type": "code",
   "execution_count": 134,
   "metadata": {},
   "outputs": [
    {
     "data": {
      "text/plain": [
       "(54,)"
      ]
     },
     "execution_count": 134,
     "metadata": {},
     "output_type": "execute_result"
    }
   ],
   "source": [
    "np.nonzero(dist_ind_i[:,90] - dist_ind_in[:,90])[0].shape"
   ]
  },
  {
   "cell_type": "code",
   "execution_count": 153,
   "metadata": {},
   "outputs": [
    {
     "data": {
      "text/plain": [
       "array([[4.10e-12, 2.09e-13, 1.55e-05, ..., 2.38e-11, 2.18e-11, 3.30e-11],\n",
       "       [1.34e-11, 2.06e-12, 5.63e-06, ..., 2.19e-11, 1.18e-11, 2.60e-11],\n",
       "       [3.45e-12, 1.51e-13, 1.13e-05, ..., 2.06e-11, 1.85e-11, 2.60e-11],\n",
       "       ...,\n",
       "       [3.02e-13, 1.16e-13, 2.60e-06, ..., 2.02e-12, 8.45e-12, 8.30e-12],\n",
       "       [1.56e-12, 2.63e-13, 5.00e-06, ..., 3.22e-12, 1.55e-11, 9.66e-12],\n",
       "       [3.13e-12, 1.08e-13, 2.64e-06, ..., 1.21e-11, 4.33e-11, 1.65e-11]],\n",
       "      dtype=float32)"
      ]
     },
     "execution_count": 153,
     "metadata": {},
     "output_type": "execute_result"
    }
   ],
   "source": [
    "sfmx_i"
   ]
  },
  {
   "cell_type": "code",
   "execution_count": 194,
   "metadata": {},
   "outputs": [
    {
     "name": "stderr",
     "output_type": "stream",
     "text": [
      "/orfeo/cephfs/home/dssc/zenocosini/helm_suite/DADApy/dadapy/metric_comparisons.py:732: UserWarning: Chosen k = 500 is greater than max available number of                    nearest neighbors = 100. Setting k = 100\n",
      "  dist_indices_base, k_base = self._get_nn_indices(\n"
     ]
    }
   ],
   "source": [
    "sfmx_i = softmax(logits_i)\n",
    "sfmx_j = softmax(logits_j)\n",
    "dist_i = angular_distance(logits_i)\n",
    "dist_j = angular_distance(logits_j)\n",
    "data_sm = Data(distances=dist_i)\n",
    "overlap = data_sm.return_data_overlap(distances=dist_j, k=500)"
   ]
  },
  {
   "cell_type": "code",
   "execution_count": 195,
   "metadata": {},
   "outputs": [
    {
     "data": {
      "text/plain": [
       "0.25827365163572064"
      ]
     },
     "execution_count": 195,
     "metadata": {},
     "output_type": "execute_result"
    }
   ],
   "source": [
    "overlap"
   ]
  },
  {
   "cell_type": "code",
   "execution_count": 193,
   "metadata": {},
   "outputs": [
    {
     "ename": "KeyboardInterrupt",
     "evalue": "",
     "output_type": "error",
     "traceback": [
      "\u001b[0;31m---------------------------------------------------------------------------\u001b[0m",
      "\u001b[0;31mKeyboardInterrupt\u001b[0m                         Traceback (most recent call last)",
      "Cell \u001b[0;32mIn[193], line 3\u001b[0m\n\u001b[1;32m      1\u001b[0m sfmx_i \u001b[38;5;241m=\u001b[39m softmax(logits_i)\n\u001b[1;32m      2\u001b[0m sfmx_j \u001b[38;5;241m=\u001b[39m softmax(logits_j)\n\u001b[0;32m----> 3\u001b[0m dist_i \u001b[38;5;241m=\u001b[39m \u001b[43mangular_distance\u001b[49m\u001b[43m(\u001b[49m\u001b[43mlogits_i\u001b[49m\u001b[43m)\u001b[49m\n\u001b[1;32m      4\u001b[0m dist_j \u001b[38;5;241m=\u001b[39m angular_distance(logits_j)\n\u001b[1;32m      5\u001b[0m data_sm \u001b[38;5;241m=\u001b[39m Data(logits_i_norm)\n",
      "Cell \u001b[0;32mIn[192], line 6\u001b[0m, in \u001b[0;36mangular_distance\u001b[0;34m(mat)\u001b[0m\n\u001b[1;32m      2\u001b[0m \u001b[38;5;250m\u001b[39m\u001b[38;5;124;03m\"\"\"\u001b[39;00m\n\u001b[1;32m      3\u001b[0m \u001b[38;5;124;03mComputes distance based on angles between vectors, over the rows of the matrix\u001b[39;00m\n\u001b[1;32m      4\u001b[0m \u001b[38;5;124;03m\"\"\"\u001b[39;00m\n\u001b[1;32m      5\u001b[0m dot_product \u001b[38;5;241m=\u001b[39m mat \u001b[38;5;241m@\u001b[39m mat\u001b[38;5;241m.\u001b[39mT\n\u001b[0;32m----> 6\u001b[0m norm_vector \u001b[38;5;241m=\u001b[39m \u001b[43mnp\u001b[49m\u001b[38;5;241;43m.\u001b[39;49m\u001b[43mlinalg\u001b[49m\u001b[38;5;241;43m.\u001b[39;49m\u001b[43mnorm\u001b[49m\u001b[43m(\u001b[49m\u001b[43mmat\u001b[49m\u001b[43m,\u001b[49m\u001b[43m \u001b[49m\u001b[43maxis\u001b[49m\u001b[38;5;241;43m=\u001b[39;49m\u001b[38;5;241;43m1\u001b[39;49m\u001b[43m)\u001b[49m\n\u001b[1;32m      7\u001b[0m stacked_vector \u001b[38;5;241m=\u001b[39m np\u001b[38;5;241m.\u001b[39mtile(norm_vector, (mat\u001b[38;5;241m.\u001b[39mshape[\u001b[38;5;241m0\u001b[39m], \u001b[38;5;241m1\u001b[39m))\n\u001b[1;32m      8\u001b[0m norm_product \u001b[38;5;241m=\u001b[39m stacked_vector\u001b[38;5;241m.\u001b[39mT\u001b[38;5;241m*\u001b[39mstacked_vector\n",
      "File \u001b[0;32m~/miniconda3/envs/mcqa/lib/python3.11/site-packages/numpy/linalg/linalg.py:2379\u001b[0m, in \u001b[0;36m_norm_dispatcher\u001b[0;34m(x, ord, axis, keepdims)\u001b[0m\n\u001b[1;32m   2375\u001b[0m     result \u001b[38;5;241m=\u001b[39m op(svd(y, compute_uv\u001b[38;5;241m=\u001b[39m\u001b[38;5;28;01mFalse\u001b[39;00m), axis\u001b[38;5;241m=\u001b[39m\u001b[38;5;241m-\u001b[39m\u001b[38;5;241m1\u001b[39m)\n\u001b[1;32m   2376\u001b[0m     \u001b[38;5;28;01mreturn\u001b[39;00m result\n\u001b[0;32m-> 2379\u001b[0m \u001b[38;5;28;01mdef\u001b[39;00m \u001b[38;5;21m_norm_dispatcher\u001b[39m(x, \u001b[38;5;28mord\u001b[39m\u001b[38;5;241m=\u001b[39m\u001b[38;5;28;01mNone\u001b[39;00m, axis\u001b[38;5;241m=\u001b[39m\u001b[38;5;28;01mNone\u001b[39;00m, keepdims\u001b[38;5;241m=\u001b[39m\u001b[38;5;28;01mNone\u001b[39;00m):\n\u001b[1;32m   2380\u001b[0m     \u001b[38;5;28;01mreturn\u001b[39;00m (x,)\n\u001b[1;32m   2383\u001b[0m \u001b[38;5;129m@array_function_dispatch\u001b[39m(_norm_dispatcher)\n\u001b[1;32m   2384\u001b[0m \u001b[38;5;28;01mdef\u001b[39;00m \u001b[38;5;21mnorm\u001b[39m(x, \u001b[38;5;28mord\u001b[39m\u001b[38;5;241m=\u001b[39m\u001b[38;5;28;01mNone\u001b[39;00m, axis\u001b[38;5;241m=\u001b[39m\u001b[38;5;28;01mNone\u001b[39;00m, keepdims\u001b[38;5;241m=\u001b[39m\u001b[38;5;28;01mFalse\u001b[39;00m):\n",
      "\u001b[0;31mKeyboardInterrupt\u001b[0m: "
     ]
    }
   ],
   "source": [
    "sfmx_i = softmax(logits_i)\n",
    "sfmx_j = softmax(logits_j)\n",
    "dist_i = angular_distance(logits_i)\n",
    "dist_j = angular_distance(logits_j)\n",
    "data_sm = Data(logits_i_norm)\n",
    "overlap = data_sm.return_data_overlap(logits_j_norm, k=500)\n",
    "overlap"
   ]
  },
  {
   "cell_type": "markdown",
   "metadata": {},
   "source": [
    "Rotation"
   ]
  },
  {
   "cell_type": "code",
   "execution_count": 44,
   "metadata": {},
   "outputs": [],
   "source": [
    "def rotate_vector(vector, angle_degrees):\n",
    "    \"\"\"\n",
    "    Rotate a 2D vector by a given angle in degrees.\n",
    "\n",
    "    Parameters:\n",
    "    vector (tuple/list/np.array): The vector to rotate, represented as (x, y).\n",
    "    angle_degrees (float): The rotation angle in degrees.\n",
    "\n",
    "    Returns:\n",
    "    np.array: The rotated vector.\n",
    "    \"\"\"\n",
    "    # Convert angle from degrees to radians\n",
    "    angle_radians = np.radians(angle_degrees)\n",
    "    \n",
    "    # Rotation matrix\n",
    "    rotation_matrix = np.array([\n",
    "        [np.cos(angle_radians), -np.sin(angle_radians)],\n",
    "        [np.sin(angle_radians), np.cos(angle_radians)]\n",
    "    ])\n",
    "    \n",
    "    Rotate the vector\n",
    "    rotated_vector = np.dot(rotation_matrix, vector)\n",
    "    \n",
    "    return rotated_vector"
   ]
  },
  {
   "cell_type": "code",
   "execution_count": 196,
   "metadata": {},
   "outputs": [],
   "source": [
    "v1[0,0] = 1\n",
    "v1[1] = rotate_vector(v1[0],1)"
   ]
  },
  {
   "cell_type": "code",
   "execution_count": 197,
   "metadata": {},
   "outputs": [
    {
     "data": {
      "text/plain": [
       "array([[0.  , 0.01],\n",
       "       [0.01, 0.  ]])"
      ]
     },
     "execution_count": 197,
     "metadata": {},
     "output_type": "execute_result"
    }
   ],
   "source": [
    "angular_distance(v1)"
   ]
  },
  {
   "cell_type": "code",
   "execution_count": 198,
   "metadata": {},
   "outputs": [],
   "source": [
    "v1_norm = v1/np.linalg.norm(v1, axis=1, ord=1,keepdims=True)"
   ]
  },
  {
   "cell_type": "code",
   "execution_count": 199,
   "metadata": {},
   "outputs": [
    {
     "data": {
      "text/plain": [
       "array([[1.  , 0.  ],\n",
       "       [0.98, 0.02]])"
      ]
     },
     "execution_count": 199,
     "metadata": {},
     "output_type": "execute_result"
    }
   ],
   "source": [
    "v1_norm"
   ]
  }
 ],
 "metadata": {
  "kernelspec": {
   "display_name": "Python 3 (ipykernel)",
   "language": "python",
   "name": "python3"
  },
  "language_info": {
   "codemirror_mode": {
    "name": "ipython",
    "version": 3
   },
   "file_extension": ".py",
   "mimetype": "text/x-python",
   "name": "python",
   "nbconvert_exporter": "python",
   "pygments_lexer": "ipython3",
   "version": "3.11.7"
  }
 },
 "nbformat": 4,
 "nbformat_minor": 4
}
