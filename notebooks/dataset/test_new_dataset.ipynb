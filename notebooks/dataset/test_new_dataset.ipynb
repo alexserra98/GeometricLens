{
 "cells": [
  {
   "cell_type": "markdown",
   "metadata": {},
   "source": [
    "# Test New Dataset"
   ]
  },
  {
   "cell_type": "markdown",
   "metadata": {},
   "source": [
    "This serves only for early protyping of new dataset functionalities"
   ]
  },
  {
   "cell_type": "code",
   "execution_count": 3,
   "metadata": {},
   "outputs": [],
   "source": [
    "from jaxtyping import Int\n",
    "from pathlib import Path\n",
    "import pandas as pd"
   ]
  },
  {
   "cell_type": "code",
   "execution_count": 4,
   "metadata": {},
   "outputs": [],
   "source": [
    "splits = {'train': 'data/train-00000-of-00001-1028f23e353fbe3e.parquet', 'validation': 'data/validation-00000-of-00001-6c7328ff6c84284c.parquet', 'test': 'data/test-00000-of-00001-f0e719df791966ff.parquet'}\n",
    "df_train = pd.read_parquet(\"hf://datasets/derek-thomas/ScienceQA/\" + splits[\"train\"])\n",
    "df_validation = pd.read_parquet(\"hf://datasets/derek-thomas/ScienceQA/\" + splits[\"validation\"])\n",
    "df_test = pd.read_parquet(\"hf://datasets/derek-thomas/ScienceQA/\" + splits[\"test\"])"
   ]
  },
  {
   "cell_type": "code",
   "execution_count": 5,
   "metadata": {},
   "outputs": [
    {
     "data": {
      "text/plain": [
       "Index(['image', 'question', 'choices', 'answer', 'hint', 'task', 'grade',\n",
       "       'subject', 'topic', 'category', 'skill', 'lecture', 'solution'],\n",
       "      dtype='object')"
      ]
     },
     "execution_count": 5,
     "metadata": {},
     "output_type": "execute_result"
    }
   ],
   "source": [
    "df_test.columns"
   ]
  },
  {
   "cell_type": "code",
   "execution_count": 43,
   "metadata": {},
   "outputs": [
    {
     "name": "stderr",
     "output_type": "stream",
     "text": [
      "/tmp/ipykernel_1702156/230055257.py:17: DeprecationWarning: DataFrameGroupBy.apply operated on the grouping columns. This behavior is deprecated, and in a future version of pandas the grouping columns will be excluded from the operation. Either pass `include_groups=False` to exclude the groupings or explicitly select the grouping columns after groupby to silence this warning.\n",
      "  shot_df = df.groupby('subject').apply(lambda x: x.sample(num_shot, replace=True)).reset_index(drop=True)\n"
     ]
    }
   ],
   "source": [
    "def generate_question(df_row: pd.Series\n",
    "                      ) -> str:\n",
    "    choices_keys = [\"A\", \"B\", \"C\", \"D\"]\n",
    "    question = df_row[\"question\"]\n",
    "    choices = df_row[\"choices\"]\n",
    "    answer = df_row[\"answer\"]\n",
    "    full_question = f\"{question}\\n\"\n",
    "    for key, choice in zip(choices_keys, choices):\n",
    "        full_question += f\"{key}. {choice}\\n\"\n",
    "    full_question += f\"Answer:{choices[answer]}\"\n",
    "    return full_question\n",
    "\n",
    "def generate_shots_per_subject(df: pd.DataFrame,\n",
    "                               num_shot:Int\n",
    "                               ) -> pd.DataFrame:\n",
    "    df = df[df[\"image\"].isnull()]\n",
    "    shot_df = df.groupby('subject').apply(lambda x: x.sample(num_shot, replace=True)).reset_index(drop=True)\n",
    "    shot_df['prompt'] = shot_df.apply(generate_question, axis=1)\n",
    "    return shot_df\n",
    "\n",
    "def generate_dataset(df: pd.DataFrame, \n",
    "                     path_save: Path,\n",
    "                     num_shot: Int = None):\n",
    "    pass\n",
    "prova = generate_shots_per_subject(df_validation, 5)"
   ]
  },
  {
   "cell_type": "code",
   "execution_count": 14,
   "metadata": {},
   "outputs": [],
   "source": [
    "df = pd.concat([df_train, df_validation, df_test])\n",
    "filtered_df = df[df[\"image\"].isnull()]\n",
    "filtered_df = df[df['choices'].apply(lambda x: len(x) in [3,4])]"
   ]
  },
  {
   "cell_type": "code",
   "execution_count": 17,
   "metadata": {},
   "outputs": [
    {
     "data": {
      "text/plain": [
       "category\n",
       "State capitals           1475\n",
       "Units and measurement     413\n",
       "Materials                 352\n",
       "Classification            334\n",
       "Geography                 307\n",
       "                         ... \n",
       "Earth's features            1\n",
       "Early China                 1\n",
       "The Constitution            1\n",
       "Topographic maps            1\n",
       "Electricity                 1\n",
       "Name: count, Length: 93, dtype: int64"
      ]
     },
     "execution_count": 17,
     "metadata": {},
     "output_type": "execute_result"
    }
   ],
   "source": [
    "filtered_df.category.value_counts()"
   ]
  },
  {
   "cell_type": "code",
   "execution_count": 18,
   "metadata": {},
   "outputs": [],
   "source": [
    "counts = filtered_df.category.value_counts()\n",
    "# save as csv\n",
    "counts.to_csv(\"category_counts.csv\")\n"
   ]
  }
 ],
 "metadata": {
  "kernelspec": {
   "display_name": ".venv",
   "language": "python",
   "name": "python3"
  },
  "language_info": {
   "codemirror_mode": {
    "name": "ipython",
    "version": 3
   },
   "file_extension": ".py",
   "mimetype": "text/x-python",
   "name": "python",
   "nbconvert_exporter": "python",
   "pygments_lexer": "ipython3",
   "version": "3.11.7"
  }
 },
 "nbformat": 4,
 "nbformat_minor": 2
}
