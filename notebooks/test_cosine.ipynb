{
 "cells": [
  {
   "cell_type": "code",
   "execution_count": 1,
   "id": "62b535a0-67f9-45af-ae1c-62f30e853e82",
   "metadata": {},
   "outputs": [],
   "source": [
    "# from metrics.utils import hidden_states_collapse\n",
    "# from metrics.query import DataFrameQuery\n",
    "# from common.tensor_storage import TensorStorage\n",
    "# from common.metadata_db import MetadataDB\n",
    "# from metrics.utils import  exact_match, angular_distance\n",
    "# from common.utils import *\n",
    "\n",
    "#from sklearn.feature_selection import mutual_info_regression MISSIN?\n",
    "from dadapy.data import Data\n",
    "\n",
    "import numpy as np\n",
    "import pandas as pd\n",
    "from sklearn.neighbors import NearestNeighbors\n",
    "# from transformers import AutoModelForCausalLM, AutoTokenizer, LlamaForCausalLM, LlamaTokenizer\n",
    "\n",
    "from pathlib import Path\n",
    "import pickle\n"
   ]
  },
  {
   "cell_type": "markdown",
   "id": "2280cba8-149b-49fe-a242-594031ad3c78",
   "metadata": {},
   "source": [
    "# Cosine Similarity Debug"
   ]
  },
  {
   "cell_type": "markdown",
   "id": "df73a97f-4072-42d4-9b4a-7c45bbdd11af",
   "metadata": {},
   "source": [
    "### Setup"
   ]
  },
  {
   "cell_type": "code",
   "execution_count": 16,
   "id": "f13615c2-860b-4ca9-9fc5-263c94aec018",
   "metadata": {},
   "outputs": [],
   "source": [
    "def angular_distance(mat):\n",
    "    \"\"\"\n",
    "    Computes distance based on angles between vectors, over the rows of the matrix\n",
    "    \"\"\"\n",
    "    dot_product = mat @ mat.T\n",
    "    norm_vector = np.linalg.norm(mat, axis=1)\n",
    "    stacked_vector = np.tile(norm_vector, (mat.shape[0], 1))\n",
    "    norm_product = stacked_vector.T*stacked_vector\n",
    "\n",
    "    cosine_similarity = dot_product / norm_product\n",
    "    cosine_similarity = np.clip(cosine_similarity, -1, 1)\n",
    "    distances = np.arccos(cosine_similarity) / np.pi\n",
    "    return distances"
   ]
  },
  {
   "cell_type": "code",
   "execution_count": 3,
   "id": "b7b19893-f3e2-4559-87d2-a6566d014ac4",
   "metadata": {},
   "outputs": [],
   "source": [
    "def angular_distance_v(v1, v2):\n",
    "    \"\"\"Compute the angular distance between two vectors.\"\"\"\n",
    "    dot_product = np.dot(v1, v2)\n",
    "    norm_product = np.linalg.norm(v1) * np.linalg.norm(v2)\n",
    "    cosine_similarity = dot_product / norm_product\n",
    "    # Ensure the value falls within the valid domain for arccos, which is [-1, 1]\n",
    "    cosine_similarity = np.clip(cosine_similarity, -1, 1)\n",
    "    #assert cosine_similarity == cosine_similarity1 # Ensure the value is not out of bounds\n",
    "    angle = np.arccos(cosine_similarity) #could they be negative?\n",
    "    return angle / np.pi"
   ]
  },
  {
   "cell_type": "code",
   "execution_count": 4,
   "id": "e22a394b-5613-4912-bf5f-441cce224491",
   "metadata": {},
   "outputs": [],
   "source": [
    "def softmax(x):\n",
    "    exp_values = np.exp(x)# - np.max(x, axis=-1, keepdims=True))\n",
    "    probabilities = exp_values / np.sum(exp_values, axis=-1, keepdims=True)\n",
    "    return probabilities"
   ]
  },
  {
   "cell_type": "code",
   "execution_count": 5,
   "id": "a0df4329-2f00-4254-816e-3d6c6e25e03e",
   "metadata": {},
   "outputs": [],
   "source": [
    "def rotate_vector(vector, angle_degrees):\n",
    "    # Convert angle from degrees to radians\n",
    "    angle_radians = np.radians(angle_degrees)\n",
    "    \n",
    "    # Rotation matrix\n",
    "    rotation_matrix = np.array([\n",
    "        [np.cos(angle_radians), -np.sin(angle_radians)],\n",
    "        [np.sin(angle_radians), np.cos(angle_radians)]\n",
    "    ])\n",
    "    \n",
    "    rotated_vector = np.dot(rotation_matrix, vector)\n",
    "    \n",
    "    return rotated_vector"
   ]
  },
  {
   "cell_type": "code",
   "execution_count": 6,
   "id": "2911cbdf-5df0-43bb-a52c-8a429536a358",
   "metadata": {},
   "outputs": [],
   "source": [
    "def cosine_distance(v1, v2):\n",
    "    \"\"\"Compute the cosine distance between two vectors.\"\"\"\n",
    "    similarity = spatial.distance.cosine(v1, v2)\n",
    "    return similarity"
   ]
  },
  {
   "cell_type": "markdown",
   "id": "5d674bea-8183-4a9f-8c98-cb61a02af05d",
   "metadata": {},
   "source": [
    "## Toy Test"
   ]
  },
  {
   "cell_type": "code",
   "execution_count": 7,
   "id": "9fee04d9-5bd0-48b5-b315-d8f16b61ae1f",
   "metadata": {},
   "outputs": [],
   "source": [
    "vi = np.random.rand(10,100)*100\n",
    "vj = np.random.rand(10,100)*100"
   ]
  },
  {
   "cell_type": "code",
   "execution_count": 8,
   "id": "6cc7450b-bfa0-43cb-9777-e62de73e90a3",
   "metadata": {},
   "outputs": [],
   "source": [
    "vi_norm = vi/np.linalg.norm(vi)\n",
    "vj_norm = vj/np.linalg.norm(vj)"
   ]
  },
  {
   "cell_type": "code",
   "execution_count": 22,
   "id": "92e84cf1-f979-4cef-8527-f609289b54a5",
   "metadata": {},
   "outputs": [
    {
     "name": "stderr",
     "output_type": "stream",
     "text": [
      "/orfeo/cephfs/home/dssc/zenocosini/helm_suite/DADApy/dadapy/kstar.py:101: UserWarning: Careful! The intrinsic dimension is not defined. Computing it unsupervisedly with 'compute_id_2NN()' method\n",
      "  warnings.warn(\n"
     ]
    }
   ],
   "source": [
    "dist_i = angular_distance(vi)\n",
    "dist_j = angular_distance(vj)\n",
    "data_ad = Data(distances=dist_i)\n",
    "data_ad.compute_neigh_indices()\n",
    "overlap_ad = data_ad.return_data_overlap(distances=dist_j, k=5)"
   ]
  },
  {
   "cell_type": "code",
   "execution_count": 23,
   "id": "a5a4c078-8c7d-4166-93c2-fa05e5d1e60e",
   "metadata": {},
   "outputs": [
    {
     "name": "stdout",
     "output_type": "stream",
     "text": [
      "data_ad.dist_indices=array([[0, 2, 9, 3, 8, 6, 7, 1, 5, 4],\n",
      "       [1, 9, 5, 4, 6, 3, 2, 7, 0, 8],\n",
      "       [2, 6, 8, 0, 1, 5, 4, 9, 7, 3],\n",
      "       [3, 1, 6, 9, 5, 0, 7, 2, 4, 8],\n",
      "       [4, 1, 6, 7, 5, 2, 8, 3, 0, 9],\n",
      "       [5, 6, 8, 1, 7, 9, 4, 2, 3, 0],\n",
      "       [6, 8, 5, 7, 2, 4, 1, 3, 9, 0],\n",
      "       [7, 6, 4, 5, 1, 8, 2, 3, 0, 9],\n",
      "       [8, 6, 5, 2, 9, 7, 4, 0, 1, 3],\n",
      "       [9, 1, 0, 5, 8, 3, 6, 2, 7, 4]])\n"
     ]
    }
   ],
   "source": [
    "print(f\"{data_ad.dist_indices=}\")"
   ]
  },
  {
   "cell_type": "code",
   "execution_count": 20,
   "id": "fda77d32-f85a-40d0-8958-25d952ad0310",
   "metadata": {},
   "outputs": [],
   "source": [
    "data_n = Data(vi_norm)\n",
    "data_n.compute_distances()\n",
    "overlap_n = data_n.return_data_overlap(vj_norm, k=5)"
   ]
  },
  {
   "cell_type": "code",
   "execution_count": 21,
   "id": "736dbaa1-2838-47e4-9210-14b3313ec8ef",
   "metadata": {},
   "outputs": [
    {
     "name": "stdout",
     "output_type": "stream",
     "text": [
      "data_n.dist_indices=array([[0, 9, 2, 3, 8, 7, 6, 5, 1, 4],\n",
      "       [1, 5, 9, 4, 3, 7, 6, 2, 0, 8],\n",
      "       [2, 8, 0, 6, 5, 4, 1, 9, 7, 3],\n",
      "       [3, 9, 1, 6, 5, 0, 7, 4, 8, 2],\n",
      "       [4, 7, 5, 1, 6, 8, 2, 3, 0, 9],\n",
      "       [5, 8, 6, 7, 1, 9, 4, 3, 2, 0],\n",
      "       [6, 8, 5, 7, 4, 2, 3, 1, 9, 0],\n",
      "       [7, 6, 5, 4, 1, 8, 3, 0, 2, 9],\n",
      "       [8, 5, 6, 2, 9, 7, 4, 0, 3, 1],\n",
      "       [9, 0, 1, 5, 8, 3, 6, 2, 7, 4]])\n"
     ]
    }
   ],
   "source": [
    "print(f\"{data_n.dist_indices=}\")"
   ]
  },
  {
   "cell_type": "code",
   "execution_count": 169,
   "id": "833b6192-b3e1-44f3-a529-aab24f03e42c",
   "metadata": {},
   "outputs": [],
   "source": [
    "nbrs = NearestNeighbors(n_neighbors=9, metric=cosine_distance, n_jobs=8).fit(vi)\n",
    "distances, dist_indices = nbrs.kneighbors(vi)"
   ]
  },
  {
   "cell_type": "code",
   "execution_count": 170,
   "id": "84709995-0272-42bc-9c45-6f7cde2ba268",
   "metadata": {},
   "outputs": [
    {
     "data": {
      "text/plain": [
       "array([[0, 9, 2, 5, 7, 4, 3, 8, 1],\n",
       "       [1, 3, 9, 2, 5, 6, 8, 4, 0],\n",
       "       [2, 9, 4, 3, 0, 8, 1, 5, 6],\n",
       "       [3, 6, 9, 4, 1, 2, 5, 7, 0],\n",
       "       [4, 6, 5, 3, 2, 0, 9, 7, 8],\n",
       "       [5, 4, 9, 3, 0, 6, 8, 1, 2],\n",
       "       [6, 8, 4, 9, 3, 7, 5, 1, 2],\n",
       "       [7, 9, 6, 8, 0, 3, 4, 1, 2],\n",
       "       [8, 6, 9, 7, 4, 3, 2, 0, 5],\n",
       "       [9, 2, 6, 7, 8, 5, 3, 0, 1]])"
      ]
     },
     "execution_count": 170,
     "metadata": {},
     "output_type": "execute_result"
    }
   ],
   "source": [
    "dist_indices"
   ]
  },
  {
   "cell_type": "code",
   "execution_count": 126,
   "id": "8c2fe4a3-cd97-4ac7-b49c-7091c14cd226",
   "metadata": {},
   "outputs": [],
   "source": [
    "mat = vi\n",
    "dot_product = np.matmul(mat,mat.T)\n",
    "norm_vector = np.linalg.norm(mat, axis=1)\n",
    "stacked_vector = np.tile(norm_vector, (mat.shape[0], 1))\n",
    "norm_product = stacked_vector.T*stacked_vector\n",
    "\n",
    "cosine_similarity = np.divide(dot_product,norm_product)\n",
    "cosine_similarity = np.clip(cosine_similarity, -1, 1)\n",
    "distances = np.arccos(cosine_similarity) / np.pi"
   ]
  },
  {
   "cell_type": "code",
   "execution_count": 127,
   "id": "f90241fa-ddd9-445c-bc73-c4b7d98d7eeb",
   "metadata": {},
   "outputs": [
    {
     "data": {
      "text/plain": [
       "(array([], dtype=int64), array([], dtype=int64))"
      ]
     },
     "execution_count": 127,
     "metadata": {},
     "output_type": "execute_result"
    }
   ],
   "source": [
    "np.where(cosine_similarity > 1)"
   ]
  },
  {
   "cell_type": "code",
   "execution_count": 129,
   "id": "7a2349cf-77e9-44ae-bbff-1bedd2e0e3c3",
   "metadata": {},
   "outputs": [
    {
     "data": {
      "text/plain": [
       "array([[6.71e-09, 2.47e-01, 2.59e-01, 2.46e-01, 2.23e-01, 2.48e-01,\n",
       "        2.63e-01, 2.66e-01, 2.54e-01, 2.33e-01],\n",
       "       [2.47e-01, 4.74e-09, 2.20e-01, 2.31e-01, 2.03e-01, 2.26e-01,\n",
       "        2.23e-01, 2.75e-01, 2.40e-01, 1.91e-01],\n",
       "       [2.59e-01, 2.20e-01, 6.71e-09, 2.57e-01, 2.50e-01, 2.43e-01,\n",
       "        2.22e-01, 2.53e-01, 2.31e-01, 2.21e-01],\n",
       "       [2.46e-01, 2.31e-01, 2.57e-01, 0.00e+00, 2.36e-01, 2.48e-01,\n",
       "        2.40e-01, 2.32e-01, 2.14e-01, 2.24e-01],\n",
       "       [2.23e-01, 2.03e-01, 2.50e-01, 2.36e-01, 0.00e+00, 2.42e-01,\n",
       "        2.30e-01, 2.37e-01, 2.31e-01, 2.34e-01],\n",
       "       [2.48e-01, 2.26e-01, 2.43e-01, 2.48e-01, 2.42e-01, 0.00e+00,\n",
       "        2.49e-01, 2.92e-01, 2.62e-01, 2.24e-01],\n",
       "       [2.63e-01, 2.23e-01, 2.22e-01, 2.40e-01, 2.30e-01, 2.49e-01,\n",
       "        0.00e+00, 2.74e-01, 2.49e-01, 2.31e-01],\n",
       "       [2.66e-01, 2.75e-01, 2.53e-01, 2.32e-01, 2.37e-01, 2.92e-01,\n",
       "        2.74e-01, 0.00e+00, 2.49e-01, 2.61e-01],\n",
       "       [2.54e-01, 2.40e-01, 2.31e-01, 2.14e-01, 2.31e-01, 2.62e-01,\n",
       "        2.49e-01, 2.49e-01, 1.06e-08, 2.51e-01],\n",
       "       [2.33e-01, 1.91e-01, 2.21e-01, 2.24e-01, 2.34e-01, 2.24e-01,\n",
       "        2.31e-01, 2.61e-01, 2.51e-01, 0.00e+00]])"
      ]
     },
     "execution_count": 129,
     "metadata": {},
     "output_type": "execute_result"
    }
   ],
   "source": [
    "distances"
   ]
  },
  {
   "cell_type": "markdown",
   "id": "50ede54b-a9d1-4ee9-8fef-8286be774ea7",
   "metadata": {},
   "source": [
    "## Test periodicity"
   ]
  },
  {
   "cell_type": "code",
   "execution_count": 73,
   "id": "5227d187-e978-41d9-b233-47a09708c078",
   "metadata": {},
   "outputs": [],
   "source": [
    "v = np.random.rand(2,2)"
   ]
  },
  {
   "cell_type": "code",
   "execution_count": 78,
   "id": "78e3f623-7e7f-4f18-acfc-70fb1e55c18b",
   "metadata": {},
   "outputs": [],
   "source": [
    "vo = rotate_vector(v[0],180)"
   ]
  },
  {
   "cell_type": "code",
   "execution_count": 83,
   "id": "e3895d89-72ba-472a-8230-a912ba4be301",
   "metadata": {},
   "outputs": [],
   "source": [
    "v_a = np.stack([v[0],vo])"
   ]
  },
  {
   "cell_type": "code",
   "execution_count": 88,
   "id": "a35d75c4-b495-402e-9760-138a628426d1",
   "metadata": {},
   "outputs": [],
   "source": [
    "mat = v_a\n",
    "dot_product = mat @ mat.T\n",
    "norm_vector = np.linalg.norm(mat, axis=1)\n",
    "stacked_vector = np.tile(norm_vector, (mat.shape[0], 1))\n",
    "norm_product = stacked_vector.T*stacked_vector\n",
    "\n",
    "cosine_similarity = dot_product / norm_product\n",
    "cosine_similarity = np.clip(cosine_similarity, -1, 1)\n",
    "distances = np.arccos(cosine_similarity) / np.pi"
   ]
  },
  {
   "cell_type": "code",
   "execution_count": 90,
   "id": "81f70740-4046-4b7d-aed8-d5b56d9940d4",
   "metadata": {},
   "outputs": [
    {
     "data": {
      "text/plain": [
       "array([[0., 1.],\n",
       "       [1., 0.]])"
      ]
     },
     "execution_count": 90,
     "metadata": {},
     "output_type": "execute_result"
    }
   ],
   "source": [
    "distances"
   ]
  },
  {
   "cell_type": "code",
   "execution_count": 143,
   "id": "0611a07a-f07c-4990-9fee-59b9e49b7807",
   "metadata": {},
   "outputs": [
    {
     "data": {
      "text/plain": [
       "array([0.76, 0.98])"
      ]
     },
     "execution_count": 143,
     "metadata": {},
     "output_type": "execute_result"
    }
   ],
   "source": [
    "np.cos(v[0],vo)"
   ]
  },
  {
   "cell_type": "code",
   "execution_count": 160,
   "id": "feb8e213-44f5-41cd-bcce-712409bb3d0b",
   "metadata": {},
   "outputs": [
    {
     "name": "stderr",
     "output_type": "stream",
     "text": [
      "/u/dssc/zenocosini/miniconda3/envs/mcqa/lib/python3.11/site-packages/scipy/spatial/distance.py:647: RuntimeWarning: invalid value encountered in scalar divide\n",
      "  dist = 1.0 - uv / math.sqrt(uu * vv)\n"
     ]
    },
    {
     "data": {
      "text/plain": [
       "0"
      ]
     },
     "execution_count": 160,
     "metadata": {},
     "output_type": "execute_result"
    }
   ],
   "source": [
    "from scipy import spatial\n",
    "\n",
    "spatial.distance.cosine(np.zeros(3), np.zeros(3))"
   ]
  }
 ],
 "metadata": {
  "kernelspec": {
   "display_name": "Python 3 (ipykernel)",
   "language": "python",
   "name": "python3"
  },
  "language_info": {
   "codemirror_mode": {
    "name": "ipython",
    "version": 3
   },
   "file_extension": ".py",
   "mimetype": "text/x-python",
   "name": "python",
   "nbconvert_exporter": "python",
   "pygments_lexer": "ipython3",
   "version": "3.11.7"
  }
 },
 "nbformat": 4,
 "nbformat_minor": 5
}
