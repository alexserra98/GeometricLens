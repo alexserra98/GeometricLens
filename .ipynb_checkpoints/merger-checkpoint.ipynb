{
 "cells": [
  {
   "cell_type": "code",
   "execution_count": 1,
   "id": "6ec13e7c-5fe9-42d5-9817-56a1caea7d5c",
   "metadata": {},
   "outputs": [],
   "source": [
    "import sys\n",
    "import os"
   ]
  },
  {
   "cell_type": "code",
   "execution_count": 12,
   "id": "0e530b0d-9ff3-49f6-9942-1233a2a021c3",
   "metadata": {},
   "outputs": [],
   "source": [
    "models = os.listdir(\"/orfeo/scratch/dssc/zenocosini/overlap_short_result/\")\n",
    "subjects = os.listdir(\"/orfeo/scratch/dssc/zenocosini/overlap_short_result/Llama-2-13b-chat-hf/\")\n",
    "train_instances = [str(i) for i in range(6)]\n",
    "base_path = \"/orfeo/scratch/dssc/zenocosini/overlap_short_result/\""
   ]
  },
  {
   "cell_type": "code",
   "execution_count": null,
   "id": "23441863-2df0-46bf-9b75-8f68c312df0a",
   "metadata": {},
   "outputs": [],
   "source": []
  },
  {
   "cell_type": "code",
   "execution_count": 11,
   "id": "61602c59-5c8c-45b9-a542-0446c2f1f541",
   "metadata": {},
   "outputs": [
    {
     "data": {
      "text/plain": [
       "['economics',\n",
       " 'politics',\n",
       " 'statistics',\n",
       " 'medicine',\n",
       " 'chemistry',\n",
       " 'math',\n",
       " 'history',\n",
       " 'logic',\n",
       " 'physics',\n",
       " 'computer',\n",
       " 'biology',\n",
       " 'philosophy',\n",
       " 'overlaps.pkl',\n",
       " 'psychology',\n",
       " 'law']"
      ]
     },
     "execution_count": 11,
     "metadata": {},
     "output_type": "execute_result"
    }
   ],
   "source": [
    "for model in models:\n",
    "    for su"
   ]
  }
 ],
 "metadata": {
  "kernelspec": {
   "display_name": "Python 3 (ipykernel)",
   "language": "python",
   "name": "python3"
  },
  "language_info": {
   "codemirror_mode": {
    "name": "ipython",
    "version": 3
   },
   "file_extension": ".py",
   "mimetype": "text/x-python",
   "name": "python",
   "nbconvert_exporter": "python",
   "pygments_lexer": "ipython3",
   "version": "3.10.13"
  }
 },
 "nbformat": 4,
 "nbformat_minor": 5
}
