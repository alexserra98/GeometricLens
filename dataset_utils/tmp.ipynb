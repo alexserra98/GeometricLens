{
 "cells": [
  {
   "cell_type": "code",
   "execution_count": 17,
   "metadata": {},
   "outputs": [],
   "source": [
    "import string"
   ]
  },
  {
   "cell_type": "code",
   "execution_count": 23,
   "metadata": {},
   "outputs": [],
   "source": [
    "file_name = 'dummy.txt'#'dummy.txt'  #if self.type_of_corruption==\"gib\" else 'dataset_utils/dummy.txt'\n",
    "with open(file_name) as f:\n",
    "    lines = f.readlines() "
   ]
  },
  {
   "cell_type": "code",
   "execution_count": 24,
   "metadata": {},
   "outputs": [
    {
     "data": {
      "text/plain": [
       "['Question: Blorptastic grimblo snazzlepop, how many flimflam do the glipglops zibber?',\n",
       " 'A. Seventeen twizzleflorps',\n",
       " 'B. Four quizzlebops and a half',\n",
       " 'C. Eleventy-twelve glabberzoots',\n",
       " 'D. Ninety-three flibber flabbles',\n",
       " 'Answer: A',\n",
       " '',\n",
       " ' \\n']"
      ]
     },
     "execution_count": 24,
     "metadata": {},
     "output_type": "execute_result"
    }
   ],
   "source": [
    "lines[0].split('\\\\n')"
   ]
  },
  {
   "cell_type": "code",
   "execution_count": 25,
   "metadata": {},
   "outputs": [],
   "source": [
    "\n",
    "gibberish_list = []\n",
    "for line in lines:\n",
    "    row_dict = {}\n",
    "    row_dict[\"question\"]= line.split('\\\\n')[0][10:]\n",
    "    row_dict[\"choices\"] = []\n",
    "    for choice in line.split('\\\\n')[1:5]:\n",
    "        row_dict[\"choices\"].append(choice[3:])\n",
    "    row_dict[\"answer\"] = string.ascii_uppercase.index(line.split('\\\\n')[5][8:])\n",
    "    gibberish_list.append(row_dict)\n",
    "    \n"
   ]
  },
  {
   "cell_type": "code",
   "execution_count": 26,
   "metadata": {},
   "outputs": [
    {
     "data": {
      "text/plain": [
       "[{'question': 'Blorptastic grimblo snazzlepop, how many flimflam do the glipglops zibber?',\n",
       "  'choices': ['Seventeen twizzleflorps',\n",
       "   'Four quizzlebops and a half',\n",
       "   'Eleventy-twelve glabberzoots',\n",
       "   'Ninety-three flibber flabbles'],\n",
       "  'answer': 0},\n",
       " {'question': \"In Snarfblatt's grand blooperoo, how many zippity zappity zoodles can a flibbleflarb wobble before it goes kablooey?\",\n",
       "  'choices': ['Skoos and two half wibble wobbles',\n",
       "   'Flops with extra zibber zabber',\n",
       "   'Plus a single doodle dabble',\n",
       "   'Eighty-eight yip yaps yapping'],\n",
       "  'answer': 1},\n",
       " {'question': 'If a flibbertigibbet dances whimsically in the moonlit parsnip garden, what does the echo of its shadow sing?',\n",
       "  'choices': ['Quintessentially perpendicular',\n",
       "   'Biscuits on Tuesday',\n",
       "   'Seven-fold origami whispers',\n",
       "   'Plaid sunsets in reverse'],\n",
       "  'answer': 2},\n",
       " {'question': 'If a glipglop glabbles twelve blorfenschnorts, how many zibblezorps will it take to schnoodle the froopledoop in the zarglebargle moonlight?',\n",
       "  'choices': ['Seven zibblezorps',\n",
       "   'Nineteen floopfloops',\n",
       "   'Thirty-three zarglebargles',\n",
       "   'Forty-two plipplop ploofs, assuming the glipglop is not grimbled'],\n",
       "  'answer': 1},\n",
       " {'question': 'In the whimsical land of Bloopity Blop, when the Snickerdoodle Snarfblats sing their Glorp Glorp tune, how many Flim Flam Flibbertigibbets does it take to dance the Whirly Twirly Wobble?',\n",
       "  'choices': ['a pinch of Fizzlefuzzle',\n",
       "   'Twaddles juggling Jibber Jabbers',\n",
       "   'Wibble Wobbles wearing wacky Wonkysocks',\n",
       "   'Noodle Noggins bouncing on Boingy Boinks'],\n",
       "  'answer': 2}]"
      ]
     },
     "execution_count": 26,
     "metadata": {},
     "output_type": "execute_result"
    }
   ],
   "source": [
    "gibberish_list"
   ]
  },
  {
   "cell_type": "code",
   "execution_count": 27,
   "metadata": {},
   "outputs": [
    {
     "data": {
      "text/plain": [
       "[{'question': 'Blorptastic grimblo snazzlepop, how many flimflam do the glipglops zibber?',\n",
       "  'choices': ['Seventeen twizzleflorps',\n",
       "   'Four quizzlebops and a half',\n",
       "   'Eleventy-twelve glabberzoots',\n",
       "   'Ninety-three flibber flabbles'],\n",
       "  'answer': 0},\n",
       " {'question': \"In Snarfblatt's grand blooperoo, how many zippity zappity zoodles can a flibbleflarb wobble before it goes kablooey?\",\n",
       "  'choices': ['Skoos and two half wibble wobbles',\n",
       "   'Flops with extra zibber zabber',\n",
       "   'Plus a single doodle dabble',\n",
       "   'Eighty-eight yip yaps yapping'],\n",
       "  'answer': 1},\n",
       " {'question': 'If a flibbertigibbet dances whimsically in the moonlit parsnip garden, what does the echo of its shadow sing?',\n",
       "  'choices': ['Quintessentially perpendicular',\n",
       "   'Biscuits on Tuesday',\n",
       "   'Seven-fold origami whispers',\n",
       "   'Plaid sunsets in reverse'],\n",
       "  'answer': 2},\n",
       " {'question': 'If a glipglop glabbles twelve blorfenschnorts, how many zibblezorps will it take to schnoodle the froopledoop in the zarglebargle moonlight?',\n",
       "  'choices': ['Seven zibblezorps',\n",
       "   'Nineteen floopfloops',\n",
       "   'Thirty-three zarglebargles',\n",
       "   'Forty-two plipplop ploofs, assuming the glipglop is not grimbled'],\n",
       "  'answer': 1},\n",
       " {'question': 'In the whimsical land of Bloopity Blop, when the Snickerdoodle Snarfblats sing their Glorp Glorp tune, how many Flim Flam Flibbertigibbets does it take to dance the Whirly Twirly Wobble?',\n",
       "  'choices': ['a pinch of Fizzlefuzzle',\n",
       "   'Twaddles juggling Jibber Jabbers',\n",
       "   'Wibble Wobbles wearing wacky Wonkysocks',\n",
       "   'Noodle Noggins bouncing on Boingy Boinks'],\n",
       "  'answer': 2}]"
      ]
     },
     "execution_count": 27,
     "metadata": {},
     "output_type": "execute_result"
    }
   ],
   "source": [
    "import pickle\n",
    "\n",
    "# Define the file path\n",
    "file_path = 'dummy_list.pkl'\n",
    "\n",
    "# Save the list as a file\n",
    "with open(file_path, 'wb') as f:\n",
    "    pickle.dump(gibberish_list, f)\n",
    "\n",
    "gibberish_list\n"
   ]
  },
  {
   "cell_type": "code",
   "execution_count": 32,
   "metadata": {},
   "outputs": [],
   "source": [
    "with open('subject.txt', 'r') as f:\n",
    "    subjects = f.readlines()"
   ]
  },
  {
   "cell_type": "code",
   "execution_count": 40,
   "metadata": {},
   "outputs": [
    {
     "data": {
      "text/plain": [
       "['abstract_algebra',\n",
       " 'anatomy',\n",
       " 'astronomy',\n",
       " 'business_ethics',\n",
       " 'clinical_knowledge',\n",
       " 'college_biology',\n",
       " 'college_chemistry',\n",
       " 'college_computer_science',\n",
       " 'college_mathematics',\n",
       " 'college_medicine',\n",
       " 'college_physics',\n",
       " 'computer_security',\n",
       " 'conceptual_physics',\n",
       " 'econometrics',\n",
       " 'electrical_engineering',\n",
       " 'elementary_mathematics',\n",
       " 'formal_logic',\n",
       " 'global_facts',\n",
       " 'high_school_biology',\n",
       " 'high_school_chemistry',\n",
       " 'high_school_computer_science',\n",
       " 'high_school_european_history',\n",
       " 'high_school_geography',\n",
       " 'high_school_government_and_politics',\n",
       " 'high_school_macroeconomics',\n",
       " 'high_school_mathematics',\n",
       " 'high_school_microeconomics',\n",
       " 'high_school_physics',\n",
       " 'high_school_psychology',\n",
       " 'high_school_statistics',\n",
       " 'high_school_us_history',\n",
       " 'high_school_world_history',\n",
       " 'human_aging',\n",
       " 'human_sexuality',\n",
       " 'international_law',\n",
       " 'jurisprudence',\n",
       " 'logical_fallacies',\n",
       " 'machine_learning',\n",
       " 'management',\n",
       " 'marketing',\n",
       " 'medical_genetics',\n",
       " 'miscellaneous',\n",
       " 'moral_disputes',\n",
       " 'moral_scenarios',\n",
       " 'nutrition',\n",
       " 'philosophy',\n",
       " 'prehistory',\n",
       " 'professional_accounting',\n",
       " 'professional_law',\n",
       " 'professional_medicine',\n",
       " 'professional_psychology',\n",
       " 'public_relations',\n",
       " 'security_studies',\n",
       " 'sociology',\n",
       " 'us_foreign_policy',\n",
       " 'virology',\n",
       " 'world_religions']"
      ]
     },
     "execution_count": 40,
     "metadata": {},
     "output_type": "execute_result"
    }
   ],
   "source": [
    "[subject.split(\",\")[0].split(\":\")[1][:-1] for subject in subjects]"
   ]
  }
 ],
 "metadata": {
  "kernelspec": {
   "display_name": "crfm-helm",
   "language": "python",
   "name": "python3"
  },
  "language_info": {
   "codemirror_mode": {
    "name": "ipython",
    "version": 3
   },
   "file_extension": ".py",
   "mimetype": "text/x-python",
   "name": "python",
   "nbconvert_exporter": "python",
   "pygments_lexer": "ipython3",
   "version": "3.10.13"
  }
 },
 "nbformat": 4,
 "nbformat_minor": 2
}
