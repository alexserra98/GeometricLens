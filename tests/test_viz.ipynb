{
 "cells": [
  {
   "cell_type": "code",
   "execution_count": 33,
   "metadata": {},
   "outputs": [],
   "source": [
    "import pickle\n",
    "import os\n",
    "import sys\n",
    "import numpy as np\n",
    "import plotly\n",
    "from dataclasses import asdict\n",
    "from dadapy.data import Data\n",
    "from dadapy.metric_comparisons import MetricComparisons"
   ]
  },
  {
   "cell_type": "code",
   "execution_count": 1,
   "metadata": {},
   "outputs": [],
   "source": [
    "iter_list=[k for k in range(0,125,25)]\n",
    "iter_list[0]=2\n",
    "iter_list.extend([k for k in range(100,550,50)])"
   ]
  },
  {
   "cell_type": "code",
   "execution_count": 2,
   "metadata": {},
   "outputs": [
    {
     "data": {
      "text/plain": [
       "[2, 25, 50, 75, 100, 100, 150, 200, 250, 300, 350, 400, 450, 500]"
      ]
     },
     "execution_count": 2,
     "metadata": {},
     "output_type": "execute_result"
    }
   ],
   "source": [
    "iter_list\n"
   ]
  },
  {
   "cell_type": "code",
   "execution_count": 2,
   "metadata": {},
   "outputs": [],
   "source": [
    "def pair_names(names_list):\n",
    "    \"\"\"\n",
    "    Pairs base names with their corresponding 'chat' versions.\n",
    "\n",
    "    Args:\n",
    "    names_list (list): A list of strings containing names.\n",
    "\n",
    "    Returns:\n",
    "    list: A list of tuples, each containing a base name and its 'chat' version.\n",
    "    \"\"\"\n",
    "    # Separating base names and 'chat' names\n",
    "    base_names = [name for name in names_list if 'chat' not in name]\n",
    "    chat_names = [name for name in names_list if 'chat' in name]\n",
    "    base_names.sort()\n",
    "    chat_names.sort()\n",
    "\n",
    "    # Pairing base names with their corresponding 'chat' versions\n",
    "    pairs = []\n",
    "    for base_name, chat_name in zip(base_names, chat_names):\n",
    "        pairs.append((base_name, chat_name))\n",
    "\n",
    "    return pairs"
   ]
  },
  {
   "cell_type": "code",
   "execution_count": 3,
   "metadata": {},
   "outputs": [
    {
     "data": {
      "text/plain": [
       "[('meta-llama/Llama-2-13b-hf', 'meta-llama/Llama-2-13b-chat-hf'),\n",
       " ('meta-llama/Llama-2-7b-hf', 'meta-llama/Llama-2-7b-chat-hf')]"
      ]
     },
     "execution_count": 3,
     "metadata": {},
     "output_type": "execute_result"
    }
   ],
   "source": [
    "names_list =[\"meta-llama/Llama-2-7b-hf\",\"meta-llama/Llama-2-13b-hf\",\"meta-llama/Llama-2-7b-chat-hf\",\"meta-llama/Llama-2-13b-chat-hf\"]\n",
    "pair_names(names_list)"
   ]
  },
  {
   "cell_type": "code",
   "execution_count": 4,
   "metadata": {},
   "outputs": [],
   "source": [
    "sys.path.append(\"/home/alexserra98/helm-suite\")"
   ]
  },
  {
   "cell_type": "code",
   "execution_count": 5,
   "metadata": {},
   "outputs": [
    {
     "name": "stderr",
     "output_type": "stream",
     "text": [
      "/home/alexserra98/miniconda3/envs/crfm-helm/lib/python3.10/site-packages/tqdm/auto.py:22: TqdmWarning: IProgress not found. Please update jupyter and ipywidgets. See https://ipywidgets.readthedocs.io/en/stable/user_install.html\n",
      "  from .autonotebook import tqdm as notebook_tqdm\n"
     ]
    }
   ],
   "source": [
    "with open(\"assets/unit/requests_results.pkl\", \"rb\") as f:\n",
    "    requests_results = pickle.load(f)"
   ]
  },
  {
   "cell_type": "code",
   "execution_count": 25,
   "metadata": {},
   "outputs": [
    {
     "data": {
      "text/plain": [
       "(1000, 13, 768)"
      ]
     },
     "execution_count": 25,
     "metadata": {},
     "output_type": "execute_result"
    }
   ],
   "source": [
    "input = [requests_results[i].hidden_states[\"last\"] for i in range(len(requests_results))]\n",
    "input = np.array(input)\n",
    "input.shape"
   ]
  },
  {
   "cell_type": "code",
   "execution_count": 49,
   "metadata": {},
   "outputs": [
    {
     "name": "stdout",
     "output_type": "stream",
     "text": [
      "2\n",
      "25\n",
      "50\n",
      "75\n",
      "100\n",
      "125\n",
      "150\n",
      "175\n",
      "200\n",
      "225\n",
      "250\n",
      "275\n",
      "300\n",
      "325\n",
      "350\n",
      "375\n",
      "400\n",
      "425\n",
      "450\n",
      "475\n",
      "500\n"
     ]
    }
   ],
   "source": [
    "iter_list=[k for k in range(0,525,25)]\n",
    "iter_list[0]=2\n",
    "for k in iter_list:\n",
    "    print(k)"
   ]
  },
  {
   "cell_type": "code",
   "execution_count": 26,
   "metadata": {},
   "outputs": [],
   "source": [
    "data = Data(input[:,-1,:])\n",
    "data.compute_distances(maxk = 100)\n",
    "\n"
   ]
  },
  {
   "cell_type": "code",
   "execution_count": 45,
   "metadata": {},
   "outputs": [
    {
     "data": {
      "text/plain": [
       "0.5010600000000001"
      ]
     },
     "execution_count": 45,
     "metadata": {},
     "output_type": "execute_result"
    }
   ],
   "source": [
    "mc = MetricComparisons(input[:,-1,:])\n",
    "mc.return_data_overlap(input[:,-1,:], k = 100)\n",
    "\n",
    "label = np.concatenate([np.zeros([500]), np.ones([500])])\n",
    "mc.return_label_overlap(labels=label, k = 100)"
   ]
  }
 ],
 "metadata": {
  "kernelspec": {
   "display_name": "crfm-helm",
   "language": "python",
   "name": "python3"
  },
  "language_info": {
   "codemirror_mode": {
    "name": "ipython",
    "version": 3
   },
   "file_extension": ".py",
   "mimetype": "text/x-python",
   "name": "python",
   "nbconvert_exporter": "python",
   "pygments_lexer": "ipython3",
   "version": "3.10.13"
  }
 },
 "nbformat": 4,
 "nbformat_minor": 2
}
