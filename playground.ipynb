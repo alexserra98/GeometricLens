{
 "cells": [
  {
   "cell_type": "code",
   "execution_count": 1,
   "metadata": {},
   "outputs": [
    {
     "name": "stderr",
     "output_type": "stream",
     "text": [
      "/home/alexserra98/miniconda3/envs/crfm-helm/lib/python3.8/site-packages/tqdm/auto.py:22: TqdmWarning: IProgress not found. Please update jupyter and ipywidgets. See https://ipywidgets.readthedocs.io/en/stable/user_install.html\n",
      "  from .autonotebook import tqdm as notebook_tqdm\n"
     ]
    }
   ],
   "source": [
    "import os \n",
    "import pickle\n",
    "import sys  \n",
    "sys.path.insert(1, '/home/alexserra98/helm-suite')\n",
    "from hidden_states_geometry.geometry import *\n",
    "\n",
    "path = \"/home/alexserra98/helm-suite/no-helm/results/gpt2/mmlu,max_train_instances=0\"\n",
    "with open(os.path.join(path, \"hidden_states.pkl\"), \"rb\") as f:\n",
    "    hidden_states = pickle.load(f)\n",
    "with open(os.path.join(path, \"metrics.pkl\"), \"rb\") as f:\n",
    "    metrics = pickle.load(f)    "
   ]
  },
  {
   "cell_type": "code",
   "execution_count": 2,
   "metadata": {},
   "outputs": [
    {
     "name": "stdout",
     "output_type": "stream",
     "text": [
      "No identical identical points were found\n",
      "No identical identical points were found\n",
      "No identical identical points were found\n",
      "No identical identical points were found\n",
      "No identical identical points were found\n",
      "No identical identical points were found\n",
      "No identical identical points were found\n",
      "No identical identical points were found\n",
      "No identical identical points were found\n",
      "No identical identical points were found\n",
      "No identical identical points were found\n",
      "No identical identical points were found\n",
      "No identical identical points were found\n",
      "No identical identical points were found\n",
      "No identical identical points were found\n",
      "No identical identical points were found\n",
      "No identical identical points were found\n",
      "No identical identical points were found\n",
      "No identical identical points were found\n",
      "No identical identical points were found\n",
      "No identical identical points were found\n",
      "No identical identical points were found\n",
      "No identical identical points were found\n",
      "No identical identical points were found\n",
      "No identical identical points were found\n",
      "No identical identical points were found\n",
      "No identical identical points were found\n",
      "No identical identical points were found\n",
      "No identical identical points were found\n",
      "No identical identical points were found\n",
      "No identical identical points were found\n",
      "No identical identical points were found\n",
      "No identical identical points were found\n",
      "No identical identical points were found\n",
      "No identical identical points were found\n",
      "No identical identical points were found\n",
      "No identical identical points were found\n",
      "No identical identical points were found\n",
      "No identical identical points were found\n",
      "No identical identical points were found\n",
      "No identical identical points were found\n",
      "No identical identical points were found\n",
      "No identical identical points were found\n",
      "No identical identical points were found\n",
      "No identical identical points were found\n",
      "No identical identical points were found\n",
      "No identical identical points were found\n",
      "No identical identical points were found\n",
      "No identical identical points were found\n",
      "No identical identical points were found\n",
      "No identical identical points were found\n",
      "No identical identical points were found\n",
      "No identical identical points were found\n",
      "No identical identical points were found\n",
      "No identical identical points were found\n",
      "No identical identical points were found\n",
      "No identical identical points were found\n",
      "No identical identical points were found\n",
      "No identical identical points were found\n",
      "No identical identical points were found\n",
      "No identical identical points were found\n",
      "No identical identical points were found\n",
      "No identical identical points were found\n",
      "No identical identical points were found\n",
      "No identical identical points were found\n",
      "No identical identical points were found\n",
      "No identical identical points were found\n",
      "No identical identical points were found\n",
      "No identical identical points were found\n",
      "No identical identical points were found\n",
      "No identical identical points were found\n",
      "No identical identical points were found\n"
     ]
    }
   ],
   "source": [
    "rungeometry = RunGeometry(hidden_states, metrics)\n"
   ]
  },
  {
   "cell_type": "code",
   "execution_count": 9,
   "metadata": {},
   "outputs": [],
   "source": [
    "with open(\"results/gpt2/mmlu,max_train_instances=0/metrics.pkl\", \"rb\") as f:\n",
    "    intrinsic_dim = pickle.load(f)"
   ]
  },
  {
   "cell_type": "code",
   "execution_count": 10,
   "metadata": {},
   "outputs": [
    {
     "data": {
      "text/plain": [
       "{'accuracy': 0.02,\n",
       " 'quasi_exact_match': 0.195,\n",
       " 'loss': 10.824974060058594,\n",
       " 'perplexity': 50261.31640625}"
      ]
     },
     "execution_count": 10,
     "metadata": {},
     "output_type": "execute_result"
    }
   ],
   "source": [
    "intrinsic_dim \n"
   ]
  }
 ],
 "metadata": {
  "kernelspec": {
   "display_name": "crfm-helm",
   "language": "python",
   "name": "python3"
  },
  "language_info": {
   "codemirror_mode": {
    "name": "ipython",
    "version": 3
   },
   "file_extension": ".py",
   "mimetype": "text/x-python",
   "name": "python",
   "nbconvert_exporter": "python",
   "pygments_lexer": "ipython3",
   "version": "3.8.18"
  }
 },
 "nbformat": 4,
 "nbformat_minor": 2
}
