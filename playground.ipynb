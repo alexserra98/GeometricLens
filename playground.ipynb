{
 "cells": [
  {
   "cell_type": "code",
   "execution_count": 10,
   "metadata": {},
   "outputs": [],
   "source": [
    "from hidden_states_geometry.geometry import *\n",
    "import pickle\n",
    "import copy"
   ]
  },
  {
   "cell_type": "code",
   "execution_count": 2,
   "metadata": {},
   "outputs": [],
   "source": [
    "with open('tests/assets/requests_results.pkl', 'rb') as f:\n",
    "    request_result = pickle.load(f)"
   ]
  },
  {
   "cell_type": "code",
   "execution_count": 22,
   "metadata": {},
   "outputs": [
    {
     "name": "stdout",
     "output_type": "stream",
     "text": [
      "A A\n",
      "A A\n",
      "B B\n",
      "B B\n",
      "A A\n",
      "A A\n",
      "B B\n",
      "B B\n",
      "C C\n",
      "C C\n",
      "D D\n",
      "D D\n",
      "B B\n",
      "B B\n",
      "D D\n",
      "D D\n"
     ]
    }
   ],
   "source": [
    "for i,letter in zip(request_result, [\"A\",\"A\",\"B\",\"B\",\"A\",\"A\",\"B\",\"B\",\"C\",\"C\",\"D\",\"D\",\"B\",\"B\",\"D\",\"D\"]):\n",
    "    #print(i.preds[\"only_ref_pred\"][\"letter\"],letter)\n",
    "    i.preds[\"only_ref_pred\"][\"letter\"] = letter\n",
    "    print(i.preds[\"only_ref_pred\"][\"letter\"],letter)\n"
   ]
  },
  {
   "cell_type": "code",
   "execution_count": 29,
   "metadata": {},
   "outputs": [],
   "source": [
    "request_result[-7].preds[\"only_ref_pred\"][\"letter\"] = \"C\""
   ]
  },
  {
   "cell_type": "code",
   "execution_count": 30,
   "metadata": {},
   "outputs": [
    {
     "name": "stdout",
     "output_type": "stream",
     "text": [
      "A A\n",
      "A A\n",
      "C A\n",
      "A A\n",
      "B B\n",
      "B B\n",
      "D B\n",
      "D B\n",
      "C C\n",
      "C C\n",
      "C C\n",
      "A C\n",
      "B D\n",
      "B D\n",
      "D D\n",
      "D D\n"
     ]
    }
   ],
   "source": [
    "for i,letter in zip(request_result, [\"A\",\"A\",\"A\",\"A\",\"B\",\"B\",\"B\",\"B\",\"C\",\"C\",\"C\",\"C\",\"D\",\"D\",\"D\",\"D\"]):\n",
    "    print(i.preds[\"only_ref_pred\"][\"letter\"],letter)"
   ]
  },
  {
   "cell_type": "code",
   "execution_count": 46,
   "metadata": {},
   "outputs": [
    {
     "data": {
      "text/plain": [
       "RequestResult(loss=tensor(10.5277), logits=tensor([[-136.5588, -136.2273, -138.3011,  ..., -142.5228, -143.0245,\n",
       "         -134.2092]]), hidden_states={'last': array([[ 0.04, -0.19,  0.05, ...,  0.03, -0.08, -0.03],\n",
       "       [-0.5 , -0.22,  0.35, ...,  0.41, -0.05,  0.43],\n",
       "       [-0.5 , -0.35,  0.24, ...,  0.52,  0.25,  0.28],\n",
       "       ...,\n",
       "       [ 3.48, -0.88, -2.22, ...,  2.64,  5.41,  4.24],\n",
       "       [ 4.3 , -0.44, -2.49, ...,  3.93,  6.28,  8.61],\n",
       "       [ 0.44, -0.08, -0.12, ...,  0.34,  0.31,  0.74]], dtype=float32), 'sum': array([[ 2.79e-02,  3.37e-03,  1.28e-01, ..., -5.22e-05,  1.14e-02,\n",
       "         1.59e-02],\n",
       "       [ 2.84e-01,  2.63e-01,  2.97e-01, ...,  2.46e-01, -4.68e-02,\n",
       "        -8.76e-02],\n",
       "       [ 3.21e-01,  4.21e-01,  1.30e-01, ...,  3.67e-01,  3.46e-01,\n",
       "        -2.18e-01],\n",
       "       ...,\n",
       "       [ 1.11e+00,  2.25e+00, -1.01e+00, ...,  4.44e-01, -1.33e-01,\n",
       "         2.99e-01],\n",
       "       [ 1.11e+00,  2.09e+00, -1.34e+00, ...,  2.94e-01, -4.60e-02,\n",
       "         8.25e-01],\n",
       "       [ 2.65e-01,  2.82e-01, -3.88e-01, ...,  2.15e-02, -1.03e-02,\n",
       "         1.32e-01]], dtype=float32)}, preds={'std_pred': {'token': 383, 'letter': ' The'}, 'only_ref_pred': {'token': 32, 'letter': 'D'}}, gold={'token': 34, 'letter': 'B'})"
      ]
     },
     "execution_count": 46,
     "metadata": {},
     "output_type": "execute_result"
    }
   ],
   "source": [
    "request_result[5]\n"
   ]
  },
  {
   "cell_type": "code",
   "execution_count": 32,
   "metadata": {},
   "outputs": [],
   "source": [
    "with open('tests/assets/requests_results.pkl', 'wb') as f:\n",
    "    pickle.dump(request_result, f)"
   ]
  }
 ],
 "metadata": {
  "kernelspec": {
   "display_name": "crfm-helm",
   "language": "python",
   "name": "python3"
  },
  "language_info": {
   "codemirror_mode": {
    "name": "ipython",
    "version": 3
   },
   "file_extension": ".py",
   "mimetype": "text/x-python",
   "name": "python",
   "nbconvert_exporter": "python",
   "pygments_lexer": "ipython3",
   "version": "3.8.18"
  }
 },
 "nbformat": 4,
 "nbformat_minor": 2
}
